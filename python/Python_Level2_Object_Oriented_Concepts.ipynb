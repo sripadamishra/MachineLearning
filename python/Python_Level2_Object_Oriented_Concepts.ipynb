{
  "nbformat": 4,
  "nbformat_minor": 0,
  "metadata": {
    "colab": {
      "provenance": []
    },
    "kernelspec": {
      "name": "python3",
      "display_name": "Python 3"
    },
    "language_info": {
      "name": "python"
    }
  },
  "cells": [
    {
      "cell_type": "code",
      "execution_count": null,
      "metadata": {
        "id": "D-VCMD_6wRcA"
      },
      "outputs": [],
      "source": [
        "# Concepts of Classes\n",
        "# Standard Libraries\n",
        "# Operating System Interface\n",
        "# Internet Access\n",
        "# Date and Time\n",
        "# Compression\n",
        "# File Handling\n",
        "# Email Handling\n",
        "# sqlite - SQL reading\n",
        "# XML reading\n",
        "# Output formatting\n",
        "# Templating\n",
        "# Binary Records\n",
        "# Multi threading\n",
        "# Logging\n",
        "# Various data structures - queue, bisearch etc..\n",
        "# Virtual Environment and Packing"
      ]
    }
  ]
}