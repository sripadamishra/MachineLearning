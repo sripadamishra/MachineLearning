{
  "nbformat": 4,
  "nbformat_minor": 0,
  "metadata": {
    "colab": {
      "provenance": []
    },
    "kernelspec": {
      "name": "python3",
      "display_name": "Python 3"
    },
    "language_info": {
      "name": "python"
    }
  },
  "cells": [
    {
      "cell_type": "markdown",
      "source": [
        "#Python Modules"
      ],
      "metadata": {
        "id": "pG0sWzq9xKC7"
      }
    },
    {
      "cell_type": "code",
      "source": [
        "# Python modules are collection of reusable methods, can be thought of as code library.\n",
        "# You can refer this module to some other program where you can call the already written functions in other modules.\n",
        "# Let us undestand it how it works\n",
        "\n",
        "def find_prime(n):\n",
        "  for x in range(2, n ):\n",
        "    if( n % x == 0 ):\n",
        "      return False\n",
        "      break\n",
        "    else:\n",
        "     continue\n",
        "  return True\n",
        "\n",
        "# Now save the above as .py file - example my_module.py\n",
        "# then call it as below and call the module_name.method()\n",
        "# my_module.py\n",
        "# import find_prime from my_module\n",
        "# print my_module.find_prime(100)"
      ],
      "metadata": {
        "id": "l8tibZ8-x85U"
      },
      "execution_count": null,
      "outputs": []
    },
    {
      "cell_type": "markdown",
      "source": [
        "#Exception Handling"
      ],
      "metadata": {
        "id": "__c4MDS0OSgP"
      }
    },
    {
      "cell_type": "code",
      "source": [
        "# Try-Except-else-Finally\n",
        "# To find if there is any excption occured, you need to place the code block under try block\n",
        "# To catch any exception, write Except block\n",
        "# Write Else block to execute code block if there is no exception\n",
        "# Finally block code is executed always whether exception is occurred or not.\n",
        "\n",
        "x = 100\n",
        "y = 0\n",
        "try:\n",
        "  z = x / y\n",
        "except:\n",
        "  print('Error occurred in division')\n"
      ],
      "metadata": {
        "colab": {
          "base_uri": "https://localhost:8080/"
        },
        "id": "yTxbO-_mOUT6",
        "outputId": "f1e56df5-bb4e-479e-d718-7fd7a89e7438"
      },
      "execution_count": 3,
      "outputs": [
        {
          "output_type": "stream",
          "name": "stdout",
          "text": [
            "Error occurred in division\n"
          ]
        }
      ]
    },
    {
      "cell_type": "code",
      "source": [
        "#Else block is executed if there is no exception\n",
        "x = 100\n",
        "y = 2\n",
        "try:\n",
        "  z = x / y\n",
        "except:\n",
        "  print('Error occurred in division')\n",
        "else:\n",
        "  print('No error occurred')\n",
        "  print('Result= ', z)"
      ],
      "metadata": {
        "colab": {
          "base_uri": "https://localhost:8080/"
        },
        "id": "gpnbGLWqRBUV",
        "outputId": "82a4d16e-f422-44eb-ef4f-e8199c9f501f"
      },
      "execution_count": 4,
      "outputs": [
        {
          "output_type": "stream",
          "name": "stdout",
          "text": [
            "No error occurred\n",
            "Result=  50.0\n"
          ]
        }
      ]
    },
    {
      "cell_type": "code",
      "source": [
        "#finally block is executed always\n",
        "x = 100\n",
        "y = 2\n",
        "try:\n",
        "  z = x / y\n",
        "except:\n",
        "  print('Error occurred in division')\n",
        "else:\n",
        "  print('No error occurred')\n",
        "  print('Result= ', z)\n",
        "finally:\n",
        "  print('This is executed always!')"
      ],
      "metadata": {
        "colab": {
          "base_uri": "https://localhost:8080/"
        },
        "id": "_CwlQ9oaRUTV",
        "outputId": "6fa0cccb-20fd-4ee2-d129-21922f5c6494"
      },
      "execution_count": 5,
      "outputs": [
        {
          "output_type": "stream",
          "name": "stdout",
          "text": [
            "No error occurred\n",
            "Result=  50.0\n",
            "This is executed always!\n"
          ]
        }
      ]
    },
    {
      "cell_type": "code",
      "source": [
        "#finally block is executed always\n",
        "import sys\n",
        "x = 100\n",
        "y = 0\n",
        "try:\n",
        "  z = x / y\n",
        "except:\n",
        "  print('Error occurred in division')\n",
        "  print(sys.exc_info()) # print details of exception\n",
        "else:\n",
        "  print('No error occurred')\n",
        "  print('Result= ', z)\n",
        "finally:\n",
        "  print('This is executed always!')"
      ],
      "metadata": {
        "colab": {
          "base_uri": "https://localhost:8080/"
        },
        "id": "_mKJzvtJRjZq",
        "outputId": "fed00212-d41e-45e0-ecc0-d36bc6944e94"
      },
      "execution_count": 7,
      "outputs": [
        {
          "output_type": "stream",
          "name": "stdout",
          "text": [
            "Error occurred in division\n",
            "(<class 'ZeroDivisionError'>, ZeroDivisionError('division by zero'), <traceback object at 0x7e9d05e0b5c0>)\n",
            "This is executed always!\n"
          ]
        }
      ]
    },
    {
      "cell_type": "code",
      "source": [
        "#Let us catch and handle specific type of exception\n",
        "import sys\n",
        "try:\n",
        "  print(p)\n",
        "except NameError as ex:\n",
        "  print('exception')\n",
        "  print(ex.args[0])  # Gives the exception message\n",
        "  print(ex.name)  # Variable  name\n",
        "  print(type(ex))  #Type of exception Class\n",
        "  print(ex.with_traceback)  # trackback info\n",
        ""
      ],
      "metadata": {
        "colab": {
          "base_uri": "https://localhost:8080/"
        },
        "id": "6Rk5qrKNV8Rn",
        "outputId": "dd5c9535-ae5b-48c3-bb5d-51e4bacf10fa"
      },
      "execution_count": 15,
      "outputs": [
        {
          "output_type": "stream",
          "name": "stdout",
          "text": [
            "exception\n",
            "name 'p' is not defined\n",
            "p\n",
            "<class 'NameError'>\n",
            "<built-in method with_traceback of NameError object at 0x7e9cf0fcc880>\n"
          ]
        }
      ]
    },
    {
      "cell_type": "code",
      "source": [
        "# Throw the exception\n",
        "def divide(x , y):\n",
        "  try:\n",
        "    z = x / y\n",
        "  except ZeroDivisionError as ex:\n",
        "    raise ValueError('The divisor argument(y) must not be zero.') # this is custom message\n",
        "\n",
        "# Call it\n",
        "try:\n",
        "  divide(100,0)\n",
        "except ValueError as error:\n",
        "  print(error)\n",
        "else:\n",
        "  print('Result = ', z)"
      ],
      "metadata": {
        "colab": {
          "base_uri": "https://localhost:8080/"
        },
        "id": "Ib4qlL9aegVX",
        "outputId": "ad40946f-8ff1-4bbf-bc06-7ad0e30b87e7"
      },
      "execution_count": 16,
      "outputs": [
        {
          "output_type": "stream",
          "name": "stdout",
          "text": [
            "The divisor argument(y) must not be zero.\n"
          ]
        }
      ]
    },
    {
      "cell_type": "markdown",
      "source": [
        "#Exception order\n",
        "# Need Inheritence Knowledge\n",
        "# Will be covered more detail later"
      ],
      "metadata": {
        "id": "meabFRcojj0t"
      }
    },
    {
      "cell_type": "code",
      "source": [
        "# while handling exceptions, you need to maintain the order of exception hierarchy\n",
        "# For example the order is like Exception <- LookupError <- IndexError ( Concrete exception)\n",
        "# Exception is Base class, LookupError is derived from Exception and IndexError is from LookupError.\n",
        "import sys\n",
        "my_list = [1,2,3]\n",
        "\n",
        "try:\n",
        "  x = my_list[5]\n",
        "except Exception as ex:\n",
        "  print('Base Exception')\n",
        "  print(sys.exc_info())\n",
        "except LookupError as ex:\n",
        "  print('LookupError Exception')\n",
        "except IndexError as ex:\n",
        "  print('IndexError Exception') # though exception is IndexError type, but it is not printed as base exception is called first."
      ],
      "metadata": {
        "colab": {
          "base_uri": "https://localhost:8080/"
        },
        "id": "EE94FPyggaYT",
        "outputId": "49f798de-ebeb-4559-8544-a542e0ab50e4"
      },
      "execution_count": 20,
      "outputs": [
        {
          "output_type": "stream",
          "name": "stdout",
          "text": [
            "Base Exception\n",
            "(<class 'IndexError'>, IndexError('list index out of range'), <traceback object at 0x7e9cd3ac1a80>)\n"
          ]
        }
      ]
    },
    {
      "cell_type": "code",
      "source": [
        "#Let us change the order of exception hierarchy\n",
        "import sys\n",
        "my_list = [1,2,3]\n",
        "\n",
        "try:\n",
        "  x = my_list[5]\n",
        "except LookupError as ex:\n",
        "  print('LookupError Exception')\n",
        "except IndexError as ex:\n",
        "  print('IndexError Exception') # Still this is not printed. Let us call it first,\n",
        "except Exception as ex:\n",
        "  print('Base Exception')\n"
      ],
      "metadata": {
        "colab": {
          "base_uri": "https://localhost:8080/"
        },
        "id": "KhMV-p0OijpP",
        "outputId": "fb971249-2788-475e-eea7-6b823e5c35ab"
      },
      "execution_count": 21,
      "outputs": [
        {
          "output_type": "stream",
          "name": "stdout",
          "text": [
            "LookupError Exception\n"
          ]
        }
      ]
    },
    {
      "cell_type": "code",
      "source": [
        "#Let us call the correct order\n",
        "# first call IndexError, then LookupError and then Exception\n",
        "import sys\n",
        "my_list = [1,2,3]\n",
        "\n",
        "try:\n",
        "  x = my_list[5]\n",
        "except IndexError as ex:\n",
        "  print('IndexError Exception')\n",
        "except LookupError as ex:\n",
        "  print('LookupError Exception')\n",
        "except Exception as ex:\n",
        "  print('Base Exception')"
      ],
      "metadata": {
        "colab": {
          "base_uri": "https://localhost:8080/"
        },
        "id": "2nQWPiKKjDWv",
        "outputId": "c81205cf-bc31-4d08-edc5-ae9bf5fada8a"
      },
      "execution_count": 22,
      "outputs": [
        {
          "output_type": "stream",
          "name": "stdout",
          "text": [
            "IndexError Exception\n"
          ]
        }
      ]
    },
    {
      "cell_type": "markdown",
      "source": [
        "#Python Keywords"
      ],
      "metadata": {
        "id": "iwAs-ZtojxGh"
      }
    },
    {
      "cell_type": "code",
      "source": [
        "import keyword\n",
        "print(keyword.kwlist)"
      ],
      "metadata": {
        "colab": {
          "base_uri": "https://localhost:8080/"
        },
        "id": "uaMH9nYcj7xm",
        "outputId": "6e10023e-8c1c-4e7c-faf4-41f3fa080087"
      },
      "execution_count": 23,
      "outputs": [
        {
          "output_type": "stream",
          "name": "stdout",
          "text": [
            "['False', 'None', 'True', 'and', 'as', 'assert', 'async', 'await', 'break', 'class', 'continue', 'def', 'del', 'elif', 'else', 'except', 'finally', 'for', 'from', 'global', 'if', 'import', 'in', 'is', 'lambda', 'nonlocal', 'not', 'or', 'pass', 'raise', 'return', 'try', 'while', 'with', 'yield']\n"
          ]
        }
      ]
    },
    {
      "cell_type": "code",
      "source": [
        "#List of Keywords\n",
        "# Keyword         Description\n",
        "# False -\t        Boolean value\n",
        "# await\t-         used for asynchronous call\n",
        "# else\t-         If-else condition\n",
        "# import -        import any method from code library\n",
        "# pass   -        empty body of function, or iteration etc.\n",
        "# None\t -        is a special constant in Python that represents the absence of a value or a null value. It is an object of NoneType.\n",
        "# break\t -        get out of iteration loop - for, while\n",
        "# except\t-       used for exception handling\n",
        "# in\t    -       used if an item is part of any sequence - list, tuple, set etc.\n",
        "# raise   -       used to throw exception\n",
        "# True\t  -       Boolean value\n",
        "# class\t  -       define a class\n",
        "# finally\t-       must be executed code block - whether exception is raised or not.\n",
        "# is\t    -       used to check the identity of objects\n",
        "# return  -       used to return value from any function\n",
        "# and\t    -       logical operator\n",
        "# continue\t-     continue the next step in a loop\n",
        "# for\t      -     for loop\n",
        "# lambda\t  -     lambda function\n",
        "# try       -     used for exception handling\n",
        "# as\t      -     used to created alias while importing library [ import pandas as pd]\n",
        "# def\t      -     used to define a method\n",
        "# from\t    -     used to import module from current namespace [ import math , from math import sin => it means from math library import the sin()]\n",
        "# nonlocal\t-     To modify a global variable inside an inner function, it is required to declare as nonlocal.\n",
        "# while     -   while loop\n",
        "# assert    -   This is used for debugging purposes.\n",
        "# del\t      -   del an dictionary item\n",
        "# global\t  -   global variable scope\n",
        "# not\t      -   not operator - complement\n",
        "# with      -   with statement used for wrapping the context manager defined execution for a block of code. ( with open('employees.txt', 'w') as employee_file:my_file.write('Mr. Shyamal Satpathy'))\n",
        "# async\t    -   used for asynchronous call\n",
        "# elif\t    - else if condition\n",
        "# if\t      - if condition\n",
        "# or\t      - logical operator\n",
        "# yield     - returns a generator"
      ],
      "metadata": {
        "id": "sNWj0RC5kaL3"
      },
      "execution_count": null,
      "outputs": []
    },
    {
      "cell_type": "code",
      "source": [
        "# global example\n",
        "# nonlocal  example\n",
        "# async example\n",
        "# await example"
      ],
      "metadata": {
        "id": "Pv6kJx43rRLY"
      },
      "execution_count": null,
      "outputs": []
    },
    {
      "cell_type": "markdown",
      "source": [
        "# Python Math Library"
      ],
      "metadata": {
        "id": "6ceKOZJir0LB"
      }
    },
    {
      "cell_type": "code",
      "source": [
        "# To use python math module, you need to import it.\n",
        "import math\n",
        "# there are many in-built function available for use.\n",
        "# sqrt - suqare root\n",
        "print('suqare root of 64')\n",
        "x = 64\n",
        "print(math.sqrt(x))\n",
        "# Calculate value of sin 30 degree.\n",
        "print('sin 30 degree')\n",
        "d = 30 * math.pi/180 # convert into radians as math function accepts in radians\n",
        "print(math.sin(d))\n",
        "# Calculate power of one to another\n",
        "print('power 2 to the power of 3')\n",
        "print(math.pow(2,3))\n",
        "\n",
        "#Calculate logarithm of a number\n",
        "print('Natural log- base e')\n",
        "print(math.log(5))\n",
        "print('Natural log- base 10')\n",
        "print(math.log10(5))\n",
        "print('Natural log- base 2')\n",
        "print(math.log2(5))"
      ],
      "metadata": {
        "colab": {
          "base_uri": "https://localhost:8080/"
        },
        "id": "hzh4JXS4JMQz",
        "outputId": "ca6beaa1-ce09-4253-a721-8ca7c81a804a"
      },
      "execution_count": 29,
      "outputs": [
        {
          "output_type": "stream",
          "name": "stdout",
          "text": [
            "suqare root of 64\n",
            "8.0\n",
            "sin 30 degree\n",
            "0.49999999999999994\n",
            "power 2 to the power of 3\n",
            "8.0\n",
            "Natural log- base e\n",
            "1.6094379124341003\n",
            "Natural log- base 10\n",
            "0.6989700043360189\n",
            "Natural log- base 2\n",
            "2.321928094887362\n"
          ]
        }
      ]
    },
    {
      "cell_type": "markdown",
      "source": [
        "#Python Regex"
      ],
      "metadata": {
        "id": "WeeyMK9vr7NZ"
      }
    },
    {
      "cell_type": "code",
      "source": [
        "# Python has regular expression module which is used to find the matching sequence from a search string or sequence of chars.\n",
        "import re\n",
        "\n",
        "input_str ='find me if there is a match anywhere'\n",
        "x = re.search('wh',input_str)\n",
        "print(x) # if found, it will return Match object.\n",
        "if x != None:\n",
        "  print('Match Found')\n",
        "x = re.search('known',input_str)\n",
        "if x == None:\n",
        "  print('No match')\n"
      ],
      "metadata": {
        "colab": {
          "base_uri": "https://localhost:8080/"
        },
        "id": "DiwdZAW8NUs4",
        "outputId": "38831357-e6e3-44d0-f1bd-b5dca4f43a78"
      },
      "execution_count": 31,
      "outputs": [
        {
          "output_type": "stream",
          "name": "stdout",
          "text": [
            "<re.Match object; span=(31, 33), match='wh'>\n",
            "Match Found\n",
            "No match\n"
          ]
        }
      ]
    },
    {
      "cell_type": "code",
      "source": [
        "# Match a sevel digit Zip code -all digits\n",
        "import re\n",
        "zip = '700145'\n",
        "pattern = '\\d{6}$'\n",
        "prog = re.compile(pattern)\n",
        "result = prog.match(zip)\n",
        "if result != None:\n",
        "  print('Matched')\n",
        "  print(result)"
      ],
      "metadata": {
        "colab": {
          "base_uri": "https://localhost:8080/"
        },
        "id": "5wne3ffaORLl",
        "outputId": "1482a833-6eef-4f37-8de0-6ad7012722ea"
      },
      "execution_count": 39,
      "outputs": [
        {
          "output_type": "stream",
          "name": "stdout",
          "text": [
            "Matched\n",
            "<re.Match object; span=(0, 6), match='700145'>\n"
          ]
        }
      ]
    },
    {
      "cell_type": "code",
      "source": [
        "zip = '700145a' # add one non-digit character, now it wont match\n",
        "pattern = '\\d{6}$'\n",
        "prog = re.compile(pattern)\n",
        "result = prog.match(zip)\n",
        "if result != None:\n",
        "  print('Matched')\n",
        "  print(result)\n",
        "else:\n",
        "  print('This is not a valid Zip, match failed!')"
      ],
      "metadata": {
        "colab": {
          "base_uri": "https://localhost:8080/"
        },
        "id": "FocFcIfJQgIQ",
        "outputId": "f2b7e2c2-2565-4a05-8445-196ee6c7c0bf"
      },
      "execution_count": 40,
      "outputs": [
        {
          "output_type": "stream",
          "name": "stdout",
          "text": [
            "This is not a valid Zip, match failed!\n"
          ]
        }
      ]
    },
    {
      "cell_type": "markdown",
      "source": [
        "#Python Json"
      ],
      "metadata": {
        "id": "JHHKr6BksBwF"
      }
    },
    {
      "cell_type": "code",
      "source": [
        "# JSON -> Javascipt Object Notation\n",
        "# this is text based, easy to read, more compact than XML- which is little verbose comapred to json\n",
        "# Let us create one simple json string and read it using python, convert into a python object.\n",
        "\n",
        "import json\n",
        "batter_info = '{\"id\": \"0001\",\"type\": \"donut\",\"name\": \"Cake\",\"ppu\": 0.55,\"batters\":{\"batter\":[{ \"id\": \"1001\", \"type\": \"Regular\" }]}}'\n",
        "data = json.loads(batter_info)\n",
        "print('Json data loaded into python object')\n",
        "print('ID= ', data['id'])\n",
        "print('Type= ', data['type'])\n",
        "print('Name= ', data['name'])\n",
        "print('PPU= ', data['ppu'])\n",
        "print('Batters =', data['batters'])\n",
        "batter_list = data['batters']['batter']\n",
        "print('ID = ', batter_list[0]['id'])\n",
        "print('Type = ', batter_list[0]['type'])\n",
        "\n"
      ],
      "metadata": {
        "colab": {
          "base_uri": "https://localhost:8080/"
        },
        "id": "gQDGNygAQvz7",
        "outputId": "466d5485-1627-4b31-e67d-803c76395beb"
      },
      "execution_count": 54,
      "outputs": [
        {
          "output_type": "stream",
          "name": "stdout",
          "text": [
            "Json data loaded into python object\n",
            "ID=  0001\n",
            "Type=  donut\n",
            "Name=  Cake\n",
            "PPU=  0.55\n",
            "Batters = {'batter': [{'id': '1001', 'type': 'Regular'}]}\n",
            "ID =  1001\n",
            "Type =  Regular\n"
          ]
        }
      ]
    },
    {
      "cell_type": "code",
      "source": [
        "# convert a Python object into JSON\n",
        "\n",
        "my_address = dict()\n",
        "my_address.update({'address_line':'123 ABC Street'})\n",
        "my_address.update({'city':'Jersey City'})\n",
        "my_address.update({'state':'New Jersey'})\n",
        "my_address.update({'zip':'00766'})\n",
        "\n",
        "data = json.dumps(my_address)\n",
        "print(data)\n",
        "\n"
      ],
      "metadata": {
        "colab": {
          "base_uri": "https://localhost:8080/"
        },
        "id": "6Mx0H-4ra_TY",
        "outputId": "7998acb6-e1b9-4bc4-87ca-77d4c5458c4b"
      },
      "execution_count": 57,
      "outputs": [
        {
          "output_type": "stream",
          "name": "stdout",
          "text": [
            "{\"address_line\": \"123 ABC Street\", \"city\": \"Jersey City\", \"state\": \"New Jersey\", \"zip\": \"00766\"}\n"
          ]
        }
      ]
    },
    {
      "cell_type": "markdown",
      "source": [
        "# Python File Handling"
      ],
      "metadata": {
        "id": "EbARZqOgsexm"
      }
    },
    {
      "cell_type": "markdown",
      "source": [
        "# Python Variable Scope"
      ],
      "metadata": {
        "id": "gjqPdurLsFyF"
      }
    }
  ]
}