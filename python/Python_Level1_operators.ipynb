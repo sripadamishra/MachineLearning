{
  "nbformat": 4,
  "nbformat_minor": 0,
  "metadata": {
    "colab": {
      "provenance": []
    },
    "kernelspec": {
      "name": "python3",
      "display_name": "Python 3"
    },
    "language_info": {
      "name": "python"
    }
  },
  "cells": [
    {
      "cell_type": "code",
      "execution_count": 4,
      "metadata": {
        "colab": {
          "base_uri": "https://localhost:8080/"
        },
        "id": "i88ZgBQsK_Yn",
        "outputId": "9675212e-d226-4a67-f109-1b47fafab878"
      },
      "outputs": [
        {
          "output_type": "stream",
          "name": "stdout",
          "text": [
            "Addition result = 10\n",
            "Substration result = 12\n",
            "Multiplication result = 96\n",
            "Divisition result = 7.0\n",
            "Floor Division result = 5\n",
            "Modulo result = 2\n",
            "Power result = 25\n"
          ]
        }
      ],
      "source": [
        "#Performs various mathematical operations on variables or values.\n",
        "# There are different types of operators\n",
        "# 1. Arithmetic operators\n",
        "# 2. Assignment Operators\n",
        "# 3. Comparison Operators\n",
        "# 4. Logical Operators\n",
        "# 5. Bitwise Operators\n",
        "# 6. Special Operators\n",
        "\n",
        "#####################  Arithmetic Operators#################\n",
        "############################################################\n",
        "#   Operator\tOperation\t          Example\n",
        "#   +\t        Addition\t          8 + 2 = 10\n",
        "#   -\t        Subtraction\t        20 - 8 = 12\n",
        "#   *\t        Multiplication\t    12 * 8 = 96\n",
        "#   /\t        Division\t          14 / 2 = 7\n",
        "#   //\t      Floor Division\t    17 // 3 = 5\n",
        "#   %\t        Modulo\t            11 % 3 = 2\n",
        "#   **\t      Power\t              5 ** 2 = 25\n",
        "\n",
        "x = 8 + 2\n",
        "print('Addition result = {}'.format(x))\n",
        "\n",
        "x = 20 - 8\n",
        "print('Substration result = {}'.format(x))\n",
        "\n",
        "x = 12 * 8\n",
        "print('Multiplication result = {}'.format(x))\n",
        "\n",
        "x = 14 / 2\n",
        "print('Divisition result = {}'.format(x))\n",
        "\n",
        "x = 17 // 3\n",
        "print('Floor Division result = {}'.format(x))\n",
        "\n",
        "x = 17 % 3\n",
        "print('Modulo result = {}'.format(x))\n",
        "\n",
        "x = 5 ** 2\n",
        "print('Power result = {}'.format(x))"
      ]
    },
    {
      "cell_type": "code",
      "source": [
        "#Assignment Operators - assign values to variable after calculation.\n",
        "#   Operator\t    Name\t                    Example\n",
        "#   =\t            Assignment Operator\t      x = 8\n",
        "#   +=\t          Addition Assignment\t      x += 2 # x = x + 2\n",
        "#   -=\t          Subtraction Assignment\t  x -= 4 # x = x - 4\n",
        "#   *=\t          Multiplication Assignment\tx *= 5 # x = x * 5\n",
        "#   /=\t          Division Assignment\t      x /= 6 # x = x / 6\n",
        "#   %=\t          Remainder Assignment\t    x %= 100 # x = x % 100\n",
        "#   **=\t          Exponent Assignment\t      x **= 5 # x = x ** 5\n",
        "\n",
        "x = 8\n",
        "x += 2 # Equivalement to x = x + 2\n",
        "# It adds x with 2 and assigns the result back to x.\n",
        "print('Addition Assignment result = {}'.format(x))\n",
        "\n",
        "x = 8\n",
        "x -= 4 # Equivalement to x = x - 4\n",
        "# It substracts x with 4 and assigns the result back to x.\n",
        "print('Subtraction Assignment result = {}'.format(x))\n",
        "\n",
        "x = 8\n",
        "x *= 5 # Equivalement to x = x * 5\n",
        "print('Multiplication Assignment result = {}'.format(x))\n",
        "\n",
        "x = 8\n",
        "x /= 6 # Equivalement to x = x / 6\n",
        "print('Division Assignment result = {}'.format(x))\n",
        "\n",
        "x = 111\n",
        "x %= 100 # Equivalement to x = x % 100\n",
        "print('Remainder Assignment result = {}'.format(x))\n",
        "\n",
        "x = 2\n",
        "x **= 5 # Equivalement to x = x ** 5\n",
        "print('Exponent Assignment result = {}'.format(x))\n"
      ],
      "metadata": {
        "id": "Mbd2sUCC1jjV"
      },
      "execution_count": null,
      "outputs": []
    },
    {
      "cell_type": "code",
      "source": [
        "#####Comparision Operators#########\n",
        "# It compares 2 variables or values and return boolean result either True or False.\n",
        "# They are used in writing expressions for making any decision.\n",
        "#   Operator\t    Meaning\t                Example\n",
        "#   ==\t          Is Equal To\t91 == 88      returns False\n",
        "#   !=\t          Not Equal To\t91 != 88    returns True\n",
        "#   >\t            Greater Than\t91 > 88     returns True\n",
        "#   <\t            Less Than\t91 < 88           returns False\n",
        "#   >=\t          Greater Than or Equal To\t91 >= 88    returns True\n",
        "#   <=\t          Less Than or Equal To\t91 <= 88        returns False\n",
        "\n",
        "marks_student1 = 91\n",
        "marks_student2 = 88\n",
        "\n",
        "print(\"Is Equal =\" , marks_student1 == marks_student2)\n",
        "print(\"Is Not equal =\" , marks_student1 != marks_student2)\n",
        "print(\"Greater Than =\" , marks_student1 > marks_student2)\n",
        "print(\"Less Than =\" ,marks_student1 < marks_student2)\n",
        "print(\"Greater Than or Equal to =\" ,marks_student1 >= marks_student2)\n",
        "print(\"Less Than or Equal to=\" , marks_student1 <= marks_student2)"
      ],
      "metadata": {
        "colab": {
          "base_uri": "https://localhost:8080/"
        },
        "id": "G42ezJiDFhFR",
        "outputId": "2a5d9ee6-5cbc-4b02-9c4f-144ddcc358b2"
      },
      "execution_count": 15,
      "outputs": [
        {
          "output_type": "stream",
          "name": "stdout",
          "text": [
            "Is Equal = False\n",
            "Is Not equal = True\n",
            "Greater Than = True\n",
            "Less Than = False\n",
            "Greater Than or Equal to = True\n",
            "Less Than or Equal to= False\n"
          ]
        }
      ]
    },
    {
      "cell_type": "code",
      "source": [
        "##########Logical Operators#############\n",
        "########################################\n",
        "# these are used to combine the conditional expressions/statements\n",
        "# and | or | not\n",
        "#   Operator\t          Description\t                                        Example\n",
        "#   and \t              Returns True if both statements are true\t          x > 5 and  x < 10\n",
        "#   or\t                Returns True if one of the statements is true\t      x < 5 or x < 4\n",
        "#   not\t                returns False if the result is true and vice versa  not(x < 5 and x < 10)\n",
        "\n",
        "###########and Truth Table#################\n",
        "#     A      B     A and B\n",
        "#     True  True   True\n",
        "#     True  False  False\n",
        "#     False True   False\n",
        "#     False False  False\n",
        "\n",
        "x = 10\n",
        "print('---------and------')\n",
        "print('x > 5 and x < 15 result = ', ( x > 5 and x < 15))\n",
        "print('x > 15 and x < 25 result = ', ( x > 15 and x < 25))\n",
        "print('x > 15 and x > 25 result = ', ( x < 15 and x > 25))\n",
        "print('x > 15 and x > 25 result = ', ( x < 5 and x < 9))\n",
        "print('---------or------')\n",
        "#     A      B     A or B\n",
        "#     True  True   True\n",
        "#     True  False  True\n",
        "#     False True   True\n",
        "#     False False  False\n",
        "print('x > 15 or x < 25 result = ', ( x > 15 or x < 25))\n",
        "print('x < 15 or x > 25 result = ', ( x < 15 or x > 25))\n",
        "print('x < 15 or x > 25 result = ', ( x < 15 or x < 25))\n",
        "print('x < 15 or x > 25 result = ', ( x > 15 or x > 25))\n",
        "\n",
        "print('---------not------')\n",
        "#     A     not A\n",
        "#     True  False\n",
        "#     False  True\n",
        "print('not x < 15 result = ', not ( x < 15))\n",
        "print('not x > 15 result = ', not ( x > 15))\n"
      ],
      "metadata": {
        "colab": {
          "base_uri": "https://localhost:8080/"
        },
        "id": "zPA1YUWaGgKl",
        "outputId": "f97a0b3d-5d58-45d6-ec97-cadb8486b208"
      },
      "execution_count": 24,
      "outputs": [
        {
          "output_type": "stream",
          "name": "stdout",
          "text": [
            "---------and------\n",
            "x > 5 and x < 15 result =  True\n",
            "x > 15 and x < 25 result =  False\n",
            "x > 15 and x > 25 result =  False\n",
            "x > 15 and x > 25 result =  False\n",
            "---------or------\n",
            "x > 15 or x < 25 result =  True\n",
            "x < 15 or x > 25 result =  True\n",
            "x < 15 or x > 25 result =  True\n",
            "x < 15 or x > 25 result =  False\n",
            "---------not------\n",
            "not x < 15 result =  False\n",
            "not x > 15 result =  True\n"
          ]
        }
      ]
    },
    {
      "cell_type": "code",
      "source": [
        "##########bitwise operators#############################\n",
        "###this operators act on bits/binary digits#############\n",
        "#   Operator\t    Name(Description)\t                                      Example\n",
        "#   & \t          AND(Sets each bit to 1 if both bits are 1)\t            x & y\n",
        "#   |\t            OR(Sets each bit to 1 if one of two bits is 1)\t        x | y\n",
        "#   ^\t            XOR(Sets each bit to 1 if only one of two bits is 1)  \tx ^ y\n",
        "#   ~\t            NOT(Inverts all the bits)\t                              ~x\n",
        "#   <<\t          Zero fill left shift\n",
        "                  #Shift left by pushing zeros in from the right and let the leftmost bits fall off\tx << 2\n",
        "#   >>\t          Signed right shift\n",
        "                  #Shift right by pushing copies of the leftmost bit in from the left, and let the rightmost bits fall off\tx >> 2\n",
        "x = 10  #00001010\n",
        "y = 1   #00000001\n",
        "#------------------------\n",
        "#10 & 1 = 00000000 = 0\n",
        "#10 | 1 = 00001011 = 11\n",
        "print('{} & {} ='.format(x,y), x & y)\n",
        "print('{} | {} ='.format(x,y), x | y)\n",
        "\n",
        "x = 6 # 00000110\n",
        "y = 3 # 00000011\n",
        "#---------------------------\n",
        "# 6 ^3=00000101 = 5\n",
        "print('{} ^ {} ='.format(x,y), x ^ y)\n",
        "x = 6 # 0110\n",
        "\n",
        "print('~{} ='.format(x), ~x)\n",
        "print(bin(6))\n",
        "print(bin(-7))\n",
        "# how this complement works?\n",
        "# binary of 6 is = 00000110\n",
        "# ~6 is complement of 6 = invert all 1 to 0 and all 0 to 1 = 11111001 ( here MSB is 1 means it is negetive number)\n",
        "# Negetive number is stored in 2's complement format.\n",
        "# Let us find the 2's complement of this (11111001). 2's complement = 1's complement + 1 = 00000110 + 1 = 00000111 = 7\n",
        "# we knew it was negetive , so ~6 = -7(negetive 7)\n",
        "\n",
        "#In summary, we can say that ~x = -(x+1)"
      ],
      "metadata": {
        "colab": {
          "base_uri": "https://localhost:8080/"
        },
        "id": "Q1acM8hyOA82",
        "outputId": "59e81fc4-dfd1-48bc-f12b-da738cea9720"
      },
      "execution_count": 15,
      "outputs": [
        {
          "output_type": "stream",
          "name": "stdout",
          "text": [
            "10 & 1 = 0\n",
            "10 | 1 = 11\n",
            "6 ^ 3 = 5\n",
            "~6 = -7\n",
            "0b110\n",
            "-0b111\n"
          ]
        }
      ]
    },
    {
      "cell_type": "code",
      "source": [
        "#Left Shift <<\n",
        "print('Left Shift')\n",
        "x = 10 # 1010\n",
        "y = 1  # After Shifting each bits to left, we get as 10100 = 20\n",
        "print(x << y) # Left shift by 1 means multiplying by 2.\n",
        "y = 2 # # After Shifting each bits to left 2 places, we get as 101000 = 2^5 + 0+ 2 ^3 + 0 + 0 = 40\n",
        "print(x << y) # Left shift by 2 means multiplying by 4.\n",
        "y = 3\n",
        "print(x << y) # Left shift by 3 means multiplying by 8.\n",
        "\n",
        "print('Right Shift')\n",
        "# Right Shift >>\n",
        "x = 80\n",
        "y = 1\n",
        "print(x >> y) # Right shift by 1 means dividing by 2.\n",
        "y = 2\n",
        "print(x >> y) # Right shift by 2 means dividing by 4.\n",
        "y = 3\n",
        "print(x >> y) # Right shift by 3 means dividing by 8.\n"
      ],
      "metadata": {
        "colab": {
          "base_uri": "https://localhost:8080/"
        },
        "id": "hY4xXyYFpDGb",
        "outputId": "fb4059e1-0961-4937-c4ca-5597d6c2319a"
      },
      "execution_count": 28,
      "outputs": [
        {
          "output_type": "stream",
          "name": "stdout",
          "text": [
            "Left Shift\n",
            "20\n",
            "40\n",
            "80\n",
            "Right Shift\n",
            "40\n",
            "20\n",
            "10\n"
          ]
        }
      ]
    },
    {
      "cell_type": "code",
      "source": [
        "#Other operators\n",
        "# Object comparision\n",
        "# is operator\n",
        "# is not is just returns opposite of is\n",
        "x = [1,2,3]\n",
        "y = [1,2,3]\n",
        "z = y\n",
        "print(id(x))\n",
        "print(id(y))\n",
        "print(id(z))\n",
        "\n",
        "print(x is y) # x and y object memory location is not same\n",
        "print(x == y) # x and y both object content is same\n",
        "print(y is z) # y and z - object memory location is same\n"
      ],
      "metadata": {
        "colab": {
          "base_uri": "https://localhost:8080/"
        },
        "id": "Li97TcQ0yWIr",
        "outputId": "37252d55-e8e2-4a5f-b385-30a30ec71ede"
      },
      "execution_count": 29,
      "outputs": [
        {
          "output_type": "stream",
          "name": "stdout",
          "text": [
            "137797091407040\n",
            "137797093146496\n",
            "137797093146496\n",
            "False\n",
            "True\n",
            "True\n"
          ]
        }
      ]
    },
    {
      "cell_type": "code",
      "source": [
        "# check if any object is present in the list\n",
        "#in  # return True if item is present in list\n",
        "# not in # return True is item is not present in list\n",
        "x = ['a','e','i','o','u'] # vowel list\n",
        "\n",
        "print('a' in x)\n",
        "print('b' in x)\n",
        "print('not in chek')\n",
        "\n",
        "print('a' not in x)\n",
        "print('b' not in x)\n"
      ],
      "metadata": {
        "colab": {
          "base_uri": "https://localhost:8080/"
        },
        "id": "rAS7g5RbzffM",
        "outputId": "52cd72f4-db71-4efa-9d2d-4ec1b42cf219"
      },
      "execution_count": 31,
      "outputs": [
        {
          "output_type": "stream",
          "name": "stdout",
          "text": [
            "True\n",
            "False\n",
            "not in chek\n",
            "False\n",
            "True\n"
          ]
        }
      ]
    },
    {
      "cell_type": "code",
      "source": [
        "# Operator Precedences\n",
        "#   Operator\tDescription\n",
        "#   ()\t      Parentheses\n",
        "#   **\t      Exponentiation\n",
        "#   +x  -x  ~x\tUnary plus, unary minus, and bitwise NOT\n",
        "#   *  /  //  %\tMultiplication, division, floor division, and modulus\n",
        "#   +  -\tAddition and subtraction\n",
        "#   <<  >>\tBitwise left and right shifts\n",
        "#   &\tBitwise AND\n",
        "#   ^\tBitwise XOR\n",
        "#   |\tBitwise OR\n",
        "#   ==  !=  >  >=  <  <=  is  is not  in  not in \tComparisons, identity, and membership operators\n",
        "#   not\tLogical NOT\n",
        "#   and\tAND\n",
        "#   or\tOR\n",
        "\n",
        "# Operators in top have higher precedences. If operators have equal precedence, execution occurs from left to right.\n",
        "# Example\n",
        "\n",
        "x = ( 5 * 6 + 10)\n",
        "print(x)\n",
        "\n",
        "x = (10 == 6 + 7)\n",
        "print(x)\n"
      ],
      "metadata": {
        "colab": {
          "base_uri": "https://localhost:8080/"
        },
        "id": "sD3Nzgwc0dUf",
        "outputId": "b35850b3-922d-4e3b-d480-74487a32a480"
      },
      "execution_count": 34,
      "outputs": [
        {
          "output_type": "stream",
          "name": "stdout",
          "text": [
            "40\n",
            "False\n"
          ]
        }
      ]
    }
  ]
}