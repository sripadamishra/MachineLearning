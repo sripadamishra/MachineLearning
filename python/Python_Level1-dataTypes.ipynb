{
  "nbformat": 4,
  "nbformat_minor": 0,
  "metadata": {
    "colab": {
      "provenance": []
    },
    "kernelspec": {
      "name": "python3",
      "display_name": "Python 3"
    },
    "language_info": {
      "name": "python"
    }
  },
  "cells": [
    {
      "cell_type": "markdown",
      "source": [
        "#Python Basic Data Types"
      ],
      "metadata": {
        "id": "i5ceVMarOPKj"
      }
    },
    {
      "cell_type": "code",
      "source": [
        "# Like other programming languages, Python has following basic data types -\n",
        "# Numeric data types: int, float, complex\n",
        "# String data types: str\n",
        "# Sequence types: list, tuple, range\n",
        "# Binary types: bytes, bytearray, memoryview\n",
        "# Mapping data type: dict\n",
        "# Boolean type: bool\n",
        "# Set data types: set, frozenset"
      ],
      "metadata": {
        "id": "29Q2_3KdOS4c"
      },
      "execution_count": null,
      "outputs": []
    },
    {
      "cell_type": "code",
      "source": [
        "a = 10\n",
        "b = 3.14\n",
        "c = 1+2j\n",
        "d = True\n",
        "print(type(a))\n",
        "print(type(b))\n",
        "print(type(c))\n",
        "print(type(d))"
      ],
      "metadata": {
        "id": "eD_Jr5gsO37g"
      },
      "execution_count": null,
      "outputs": []
    },
    {
      "cell_type": "code",
      "source": [
        "#String Basics\n",
        "#String data types are immutable. It is sequence of chars.\n",
        "program = 'This is my first python program'\n",
        "print(type(program))\n",
        "program = \"This is my first python program\"\n",
        "print(program)\n",
        "test = \"This is chikenen's egg\"\n",
        "print(test)\n",
        "test = 'This is my first \"Python\" program'\n",
        "print(test)\n",
        "test = 'This is chikenen\\'s egg'\n",
        "print(test)"
      ],
      "metadata": {
        "id": "e8oLCbI3Putu"
      },
      "execution_count": null,
      "outputs": []
    },
    {
      "cell_type": "code",
      "source": [
        "#String Upper Case and lower Case\n",
        "lower = 'this is all lower case'\n",
        "upper = lower.upper()\n",
        "print(upper)\n",
        "upper = upper.lower()\n",
        "print(upper)"
      ],
      "metadata": {
        "id": "11ZGIRkKQ5A8"
      },
      "execution_count": null,
      "outputs": []
    },
    {
      "cell_type": "code",
      "source": [
        "#String count() method.\n",
        "# It returns number of times a search string apears in the input text. you can optionally provide the start and end index of the\n",
        "# input string\n",
        "input_str = 'Data is fuel for industries. Due to social media enormous amount of data is generated everyday. Privacy of data is important aspect to consider.'\n",
        "n = input_str.lower().count('data')\n",
        "print(n)\n",
        "\n",
        "#Use start and end index\n",
        "n = input_str.lower().count('data',10,150)\n",
        "print(n)\n"
      ],
      "metadata": {
        "id": "mLoLU5txThfc"
      },
      "execution_count": null,
      "outputs": []
    },
    {
      "cell_type": "code",
      "source": [
        "#String find() method -> it returns the index of the first occurrence of the specified search string.\n",
        "input_str = 'Data is fuel for industries. Due to social media enormous amount of data is generated everyday. Privacy of data is important aspect to consider.'\n",
        "indx = input_str.find('data')\n",
        "print(indx)\n",
        "\n",
        "indx = input_str.index('data')\n",
        "print(indx)\n",
        "\n",
        "#What is the difference between find() vs index()?\n",
        "# index() raises exception if search string is not found.\n",
        "indx = input_str.find('unknown')\n",
        "indx = input_str.index('unknown')\n",
        "\n"
      ],
      "metadata": {
        "id": "03vS0AIPWU7j"
      },
      "execution_count": null,
      "outputs": []
    },
    {
      "cell_type": "code",
      "source": [
        "#format() is useful method to get formatted string with the placeholder values.\n",
        "total = 1.4\n",
        "percent = .1776\n",
        "urban = .363\n",
        "text = 'India 2023 population is estimated at {} billion. It is equivalent to {:.2%} of the total world population. {:.2%} of the population is urban.'\n",
        "print(text.format(total,percent,urban))\n"
      ],
      "metadata": {
        "id": "_VKDbuaHZdxc"
      },
      "execution_count": null,
      "outputs": []
    },
    {
      "cell_type": "code",
      "source": [
        "#replace() replaces the part of input string occurances with the specified string.\n",
        "input_str = 'Netflix uses python. Google too use python. Others companies like Dropbox, Reddit, Instagram, Stipe, Spotify, Meta also extensively use python.'\n",
        "new_str = input_str.replace('python','java')\n",
        "print(new_str)\n",
        "\n",
        "new_str = input_str.replace('python','java',2)\n",
        "\n",
        "print(new_str)\n"
      ],
      "metadata": {
        "id": "5tjnXEIJimrT"
      },
      "execution_count": null,
      "outputs": []
    },
    {
      "cell_type": "code",
      "source": [
        "#split returns the list of words separated by whitespace( default separator) in an input string.\n",
        "input_str = 'Tokenization in NLP is the process of breaking down a string of text into smaller units called tokens.'\n",
        "tokens = input_str.split()\n",
        "print(tokens)\n",
        "\n",
        "# Let us look it in another way. You can also specify separator ( like , or : or | etc.).\n",
        "input_str = 'abc,def,ghi,jkl,mno,pqr,stw,uvxyz'\n",
        "print(input_str.split(','))"
      ],
      "metadata": {
        "colab": {
          "base_uri": "https://localhost:8080/"
        },
        "id": "XYxQhOunkcQU",
        "outputId": "3d3f5958-2cd9-458a-f349-e8577fc148e7"
      },
      "execution_count": 32,
      "outputs": [
        {
          "output_type": "stream",
          "name": "stdout",
          "text": [
            "['Tokenization', 'in', 'NLP', 'is', 'the', 'process', 'of', 'breaking', 'down', 'a', 'string', 'of', 'text', 'into', 'smaller', 'units', 'called', 'tokens.']\n",
            "['abc', 'def', 'ghi', 'jkl', 'mno', 'pqr', 'stw', 'uvxyz']\n"
          ]
        }
      ]
    },
    {
      "cell_type": "code",
      "source": [
        "#splitlines returns the list separated by line breaks.\n",
        "input_str = 'NLTk is Natual Language Toolkit is an NLP library.\\n It provides various methods to analyze text data.\\n Various methods are classification, stemming, lemmatization, tokenizing, part-of-speech (POS) tagging, word count etc.'\n",
        "lines = input_str.splitlines()\n",
        "print(lines)\n",
        "lines = input_str.splitlines(True) # it keeps the line breaks\n",
        "print(lines)"
      ],
      "metadata": {
        "colab": {
          "base_uri": "https://localhost:8080/"
        },
        "id": "qyKAjxeToFeS",
        "outputId": "584f6d4f-7668-4b6d-b864-e8f772aa7411"
      },
      "execution_count": 33,
      "outputs": [
        {
          "output_type": "stream",
          "name": "stdout",
          "text": [
            "['NLTk is Natual Language Toolkit is an NLP library.', ' It provides various methods to analyze text data.', ' Various methods are classification, stemming, lemmatization, tokenizing, part-of-speech (POS) tagging, word count etc.']\n",
            "['NLTk is Natual Language Toolkit is an NLP library.\\n', ' It provides various methods to analyze text data.\\n', ' Various methods are classification, stemming, lemmatization, tokenizing, part-of-speech (POS) tagging, word count etc.']\n"
          ]
        }
      ]
    },
    {
      "cell_type": "code",
      "source": [
        "#strip() removed beginning and trailling spaces default unless specified any specific characters to be removed.\n",
        "input_str = '   this has lot of spaces    '\n",
        "x = input_str.strip()\n",
        "print(x)\n",
        "input_str = '????? let us remove all question marks ??????'\n",
        "x = input_str.strip('?')\n",
        "print(x)"
      ],
      "metadata": {
        "id": "WxgmJml3p6LT"
      },
      "execution_count": null,
      "outputs": []
    },
    {
      "cell_type": "code",
      "source": [
        "#startswith() returns True if the input string starts with the specified string\n",
        "input_str = 'morning shows the day.'\n",
        "print(input_str.startswith('morning'))"
      ],
      "metadata": {
        "id": "dOaGEVJYKAMq"
      },
      "execution_count": null,
      "outputs": []
    },
    {
      "cell_type": "code",
      "source": [
        "#title -> returns the string converting the first character of each work in upper case.\n",
        "input_str = 'morning shows the day.'\n",
        "print(input_str.title())"
      ],
      "metadata": {
        "id": "KRmdfTLfLzXg"
      },
      "execution_count": null,
      "outputs": []
    },
    {
      "cell_type": "code",
      "source": [
        "#partition -> returns a tuple partitioning by the given word\n",
        "input_str = 'Let us split the sentence into parts.'\n",
        "print(input_str.partition('split'))"
      ],
      "metadata": {
        "id": "OlwmziOOMG3v"
      },
      "execution_count": null,
      "outputs": []
    },
    {
      "cell_type": "code",
      "source": [
        "#Few built-in methods to verify certain type of string. It returns boolean either True or False to satisfy the type.\n",
        "#isalpha()\t=> Returns True if all characters in the string are in the alphabet\n",
        "#isalnum()\t=>Returns True if all characters in the string are alphanumeric\n",
        "#isnumeric()\t=> Returns True if all characters in the string are numeric\n",
        "#isascii()\t=> Returns True if all characters in the string are ascii characters\n",
        "#isdecimal()\t=> Returns True if all characters in the string are decimals\n",
        "#isdigit()\t=> Returns True if all characters in the string are digits\n",
        "#isspace()\t=> Returns True if all characters in the string are whitespaces\n",
        "#isidentifier()\t=> Returns True if the string is an identifier\n",
        "#Valid identifier contains alphanumeric letters (a-z) and (0-9), or underscores (_) and cannot start with a number, or contain any spaces.\n",
        "#islower()\t=> Returns True if all characters in the string are lower case\n",
        "#isupper()\t=> Returns True if all characters in the string are upper case\n",
        "#isprintable()\t=> Returns True if all characters in the string are printable\n",
        "#istitle()\t=> Returns True if the string follows the rules of a title\n",
        "str_1 = 'alphabet'\n",
        "str_2 = 'alphanum12345'\n",
        "str_3 = '1234567890'\n",
        "str_4 = 'just a name'\n",
        "str_5 = '3456'\n",
        "str_6 = '3344555'\n",
        "str_7 = '    '\n",
        "str_8 = 'valid_identifier'\n",
        "str_9 = 'alllower'\n",
        "str_10 = 'ALLUPPER'\n",
        "str_11 = 'nonprintable\\n' # it returns False as it contains \\n which is nonprintable.\n",
        "str_12 = 'Title String'\n",
        "\n",
        "print(str_1.isalpha())\n",
        "print(str_2.isalnum())\n",
        "print(str_3.isnumeric())\n",
        "print(str_4.isascii())\n",
        "print(str_5.isdecimal())\n",
        "print(str_6.isdigit())\n",
        "print(str_7.isspace())\n",
        "print(str_8.isidentifier())\n",
        "print(str_9.islower())\n",
        "print(str_10.isupper())\n",
        "print(str_11.isprintable())\n",
        "print(str_12.istitle())\n"
      ],
      "metadata": {
        "id": "jKlBfHgwM2xw"
      },
      "execution_count": null,
      "outputs": []
    },
    {
      "cell_type": "code",
      "source": [
        "#rjust => right justify a string\n",
        "#ljust => left justify a string\n",
        "#zfill => fill with 0 at the beginning\n",
        "\n",
        "input_str = 'string'\n",
        "print(input_str.rjust(20)) #default is space\n",
        "print(input_str.rjust(20,'0')) # can specify the char to fill in\n",
        "\n",
        "print(input_str.ljust(20)) #default is space\n",
        "print(input_str.ljust(20,'0')) # can specify the char to fill in\n",
        "\n",
        "print(input_str.zfill(20))\n"
      ],
      "metadata": {
        "id": "9jQrm1cfQC4z"
      },
      "execution_count": null,
      "outputs": []
    },
    {
      "cell_type": "markdown",
      "source": [
        "#Python Collection Data Types ( Sequence )\n"
      ],
      "metadata": {
        "id": "YuUar678T7ti"
      }
    },
    {
      "cell_type": "markdown",
      "source": [
        "#LIST"
      ],
      "metadata": {
        "id": "U1k4zbyYIUJC"
      }
    },
    {
      "cell_type": "code",
      "source": [
        "#List -> Is homogeneous collection of items. This is a mutable sequence.\n",
        "# You can create a list like below\n",
        "electronic_goods = [\"mobilephone\",\"charger\",\"headset\",\"camera\"]\n",
        "print(electronic_goods)"
      ],
      "metadata": {
        "id": "3pJH7_JKV5bV"
      },
      "execution_count": null,
      "outputs": []
    },
    {
      "cell_type": "code",
      "source": [
        "#list() contrstctor to create a list\n",
        "my_list = list(['a','e','i','o','u'])\n",
        "print(my_list)"
      ],
      "metadata": {
        "colab": {
          "base_uri": "https://localhost:8080/"
        },
        "id": "o83qYlwobq1A",
        "outputId": "d126ef8e-140a-447b-e94c-00e10ad57c3d"
      },
      "execution_count": 21,
      "outputs": [
        {
          "output_type": "stream",
          "name": "stdout",
          "text": [
            "['a', 'e', 'i', 'o', 'u']\n"
          ]
        }
      ]
    },
    {
      "cell_type": "code",
      "source": [
        "# Lists are ordered, mutable or changeable, allow duplicate values, indexed, iterable.\n",
        "#1. Let us iterate the above list\n",
        "for item in electronic_goods:\n",
        "  print(item)"
      ],
      "metadata": {
        "id": "52M36m87HvIB"
      },
      "execution_count": null,
      "outputs": []
    },
    {
      "cell_type": "code",
      "source": [
        "#2. Add item into list\n",
        "# We can see the new item is added at the end, it maintains an order.\n",
        "electronic_goods.append(\"music player\")\n",
        "print(electronic_goods)"
      ],
      "metadata": {
        "id": "V66ItjfrHx-E"
      },
      "execution_count": null,
      "outputs": []
    },
    {
      "cell_type": "code",
      "source": [
        "#3 It allow duplicates. Let us add existing item on to it.\n",
        "electronic_goods.append(\"charger\")\n",
        "print(electronic_goods)"
      ],
      "metadata": {
        "id": "5oVig3gvH08V"
      },
      "execution_count": null,
      "outputs": []
    },
    {
      "cell_type": "code",
      "source": [
        "#4 you can access using index\n",
        "print(electronic_goods[0])\n",
        "print(electronic_goods[2])"
      ],
      "metadata": {
        "id": "JYluSKD8H3C-"
      },
      "execution_count": null,
      "outputs": []
    },
    {
      "cell_type": "code",
      "source": [
        "#Other List methods\n",
        "electronic_goods = [\"mobilephone\",\"charger\",\"headset\",\"camera\"]\n",
        "#Get the total number of items in the list container using len() method.\n",
        "print(len(electronic_goods))\n",
        "#count() -> Total no of elements of specified item in list\n",
        "print(electronic_goods.count('charger'))\n"
      ],
      "metadata": {
        "id": "Md7dn1FvCtfs"
      },
      "execution_count": null,
      "outputs": []
    },
    {
      "cell_type": "code",
      "source": [
        "print(electronic_goods)\n",
        "#Update existing list\n",
        "electronic_goods[1] = 'new item'\n",
        "print(electronic_goods)"
      ],
      "metadata": {
        "id": "lsI5DLyhIBFX"
      },
      "execution_count": null,
      "outputs": []
    },
    {
      "cell_type": "code",
      "source": [
        "#remove item from list\n",
        "#there are two ways to do this.\n",
        "#a. Remvoe item with specified value\n",
        "electronic_goods.remove('mobilephone')\n",
        "print(electronic_goods)"
      ],
      "metadata": {
        "id": "71JjF5ArIDgA"
      },
      "execution_count": null,
      "outputs": []
    },
    {
      "cell_type": "code",
      "source": [
        "# Remove item with index\n",
        "electronic_goods.pop(0)\n",
        "print(electronic_goods)"
      ],
      "metadata": {
        "id": "q5l6aJibIGpS"
      },
      "execution_count": null,
      "outputs": []
    },
    {
      "cell_type": "code",
      "source": [
        "#insert() - insert at specified index\n",
        "electronic_goods.insert(0,'play station')\n",
        "print(electronic_goods)"
      ],
      "metadata": {
        "colab": {
          "base_uri": "https://localhost:8080/"
        },
        "id": "us85dVX4IePR",
        "outputId": "0d0c831b-1d6f-4d11-fa82-671b6e6875ef"
      },
      "execution_count": 13,
      "outputs": [
        {
          "output_type": "stream",
          "name": "stdout",
          "text": [
            "['play station', 'headset', 'camera']\n"
          ]
        }
      ]
    },
    {
      "cell_type": "code",
      "source": [
        "#Concatenate lists using + operator\n",
        "list1 = [1,3,5,7,9]\n",
        "list2 = [2,4,6,8,10]\n",
        "list1 = list1 + list2\n",
        "print(list1)"
      ],
      "metadata": {
        "colab": {
          "base_uri": "https://localhost:8080/"
        },
        "id": "2yTNkCroI0OL",
        "outputId": "f812360a-67d2-4834-c0a1-5e18006303a8"
      },
      "execution_count": 16,
      "outputs": [
        {
          "output_type": "stream",
          "name": "stdout",
          "text": [
            "[1, 3, 5, 7, 9, 2, 4, 6, 8, 10]\n"
          ]
        }
      ]
    },
    {
      "cell_type": "code",
      "source": [
        "#Concatenate lists using append()\n",
        "list1 = [1,3,5,7,9]\n",
        "list2 = [2,4,6,8,10]\n",
        "for item in list2:\n",
        "  list1.append(item)\n",
        "print(list1)"
      ],
      "metadata": {
        "colab": {
          "base_uri": "https://localhost:8080/"
        },
        "id": "FEjfqB23Jrio",
        "outputId": "e427e78b-79a9-4a3d-baab-6374ea8d145d"
      },
      "execution_count": 15,
      "outputs": [
        {
          "output_type": "stream",
          "name": "stdout",
          "text": [
            "[1, 3, 5, 7, 9, 2, 4, 6, 8, 10]\n"
          ]
        }
      ]
    },
    {
      "cell_type": "code",
      "source": [
        "#Concatenate lists using extend()\n",
        "list1 = [1,3,5,7,9]\n",
        "list2 = [2,4,6,8,10]\n",
        "list1.extend(list2)\n",
        "print(list1)"
      ],
      "metadata": {
        "colab": {
          "base_uri": "https://localhost:8080/"
        },
        "id": "wQ09QZQqKFUa",
        "outputId": "d8ec5a63-fa82-4fdf-e7ba-2f49197013dd"
      },
      "execution_count": 17,
      "outputs": [
        {
          "output_type": "stream",
          "name": "stdout",
          "text": [
            "[1, 3, 5, 7, 9, 2, 4, 6, 8, 10]\n"
          ]
        }
      ]
    },
    {
      "cell_type": "code",
      "source": [
        "# List copy()\n",
        "list_source = ['I', 'am', 'source', 'list']\n",
        "list_dest = []\n",
        "list_dest = list_source # this is wrong to copy list as both list_source and list_dest point to same reference.\n",
        "print(id(list_source))\n",
        "print(id(list_dest))\n",
        "\n",
        "list_dest[1] = 'AM' #update list_dest will affect list_source as well.\n",
        "print(list_source)"
      ],
      "metadata": {
        "id": "I-THx8OwfHn7"
      },
      "execution_count": null,
      "outputs": []
    },
    {
      "cell_type": "code",
      "source": [
        "#Let us do the proper way\n",
        "list_source = ['I', 'am', 'source', 'list']\n",
        "list_dest = []\n",
        "\n",
        "list_dest = list_source.copy()\n",
        "print(list_dest)\n",
        "#change list_dest\n",
        "list_dest[1] = 'AM'\n",
        "print('After modification of the destination list')\n",
        "print(list_dest)\n",
        "print(list_source) # here source did not change.\n"
      ],
      "metadata": {
        "id": "YazrLY43gFN5"
      },
      "execution_count": null,
      "outputs": []
    },
    {
      "cell_type": "code",
      "source": [
        "#List sort()\n",
        "input_nums = [100,200,301,10,31,501,43,14,511,513,5050]\n",
        "input_nums.sort() #default order is ascending\n",
        "print(input_nums)\n",
        "input_text = ['Let','understand','the','sorting','order']\n",
        "input_text.sort() #default order is alphanumeric\n",
        "print(input_text)\n",
        "print('Ascending order')\n",
        "input_nums.sort(reverse=True) #order is ascending\n",
        "print(input_nums)"
      ],
      "metadata": {
        "colab": {
          "base_uri": "https://localhost:8080/"
        },
        "id": "Dfj2EqxUhCTT",
        "outputId": "6e4b4245-7c27-4ecc-f410-73e1a110bd78"
      },
      "execution_count": 10,
      "outputs": [
        {
          "output_type": "stream",
          "name": "stdout",
          "text": [
            "[10, 14, 31, 43, 100, 200, 301, 501, 511, 513, 5050]\n",
            "['Let', 'order', 'sorting', 'the', 'understand']\n",
            "Ascending order\n",
            "[5050, 513, 511, 501, 301, 200, 100, 43, 31, 14, 10]\n"
          ]
        }
      ]
    },
    {
      "cell_type": "code",
      "source": [
        "#List Comprehension -> concise code in one line\n",
        "example = ['let', 'us', 'remove', 'the', 'word', 'the', 'from', 'the', 'sentence', 'as', 'the', 'word', 'appears', 'many', 'times']\n",
        "# newlist = [expression for eachitem in iterable if condition == True] # conditional part is optional though\n",
        "new_str = [word for word in example if word != 'the']\n",
        "print(new_str)\n",
        "### Create a list of even numbers and greater than 80 and less than 100\n",
        "even_nums = [i for i in range(100) if (i > 80 and i%2 == 0)]\n",
        "print(even_nums)"
      ],
      "metadata": {
        "colab": {
          "base_uri": "https://localhost:8080/"
        },
        "id": "a9gkGGMxkNoF",
        "outputId": "e6f46b53-1a9c-4eb7-8070-e5840722c474"
      },
      "execution_count": 13,
      "outputs": [
        {
          "output_type": "stream",
          "name": "stdout",
          "text": [
            "['let', 'us', 'remove', 'word', 'from', 'sentence', 'as', 'word', 'appears', 'many', 'times']\n",
            "[82, 84, 86, 88, 90, 92, 94, 96, 98]\n"
          ]
        }
      ]
    },
    {
      "cell_type": "code",
      "source": [
        "#More on List indexing\n",
        "# index starts at 0 ( access the first item)\n",
        "my_list = ['this','will','help','to','understand','the','indexing', 'and', 'slicing']\n",
        "print(my_list[0]) #print the first element\n",
        "print(my_list[-1]) #print the last element. negetive indexing\n",
        "print(my_list[-2]) #print the second element from the last. negetive indexing"
      ],
      "metadata": {
        "id": "8n-GnhUmoD_P"
      },
      "execution_count": null,
      "outputs": []
    },
    {
      "cell_type": "code",
      "source": [
        "#range indexes to get the slices of the list\n",
        "print(my_list[0:4]) #first 4 elements in the list\n",
        "print(my_list[2:4]) #starting at index 2 till index 4(not included)\n",
        "print(my_list[2:]) # all items starting from index 2\n",
        "print(my_list[:2]) # only first 2 items beginning of the list\n",
        "print(my_list[:-2]) # all items leaving the last 2 items\n",
        "print(my_list[1:-4]) # starting at index 1, all items except last 4."
      ],
      "metadata": {
        "colab": {
          "base_uri": "https://localhost:8080/"
        },
        "id": "_gOelm0Op1Th",
        "outputId": "59407b9d-399a-4b15-938f-c1cd21579111"
      },
      "execution_count": 24,
      "outputs": [
        {
          "output_type": "stream",
          "name": "stdout",
          "text": [
            "['this', 'will', 'help', 'to']\n",
            "['help', 'to']\n",
            "['help', 'to', 'understand', 'the', 'indexing', 'and', 'slicing']\n",
            "['this', 'will']\n",
            "['this', 'will', 'help', 'to', 'understand', 'the', 'indexing']\n",
            "['will', 'help', 'to', 'understand']\n"
          ]
        }
      ]
    },
    {
      "cell_type": "code",
      "source": [
        "#Nested List\n",
        "matrix_1 = [[1,2,3],[4,5,6],[7,8,9]]\n",
        "matrix_2 = [[19,18,17],[16,15,14],[13,12,11]]\n",
        "mixed = [1,'one',2,'two'] #mixed types\n",
        "print(matrix_1)\n",
        "print(matrix_2)\n",
        "print(mixed)\n",
        "\n"
      ],
      "metadata": {
        "colab": {
          "base_uri": "https://localhost:8080/"
        },
        "id": "DY1UPpbesakf",
        "outputId": "9b8be9be-bbfb-4254-ff87-77490a9dc8d9"
      },
      "execution_count": 26,
      "outputs": [
        {
          "output_type": "stream",
          "name": "stdout",
          "text": [
            "[[1, 2, 3], [4, 5, 6], [7, 8, 9]]\n",
            "[[19, 18, 17], [16, 15, 14], [13, 12, 11]]\n",
            "[1, 'one', 2, 'two']\n"
          ]
        }
      ]
    },
    {
      "cell_type": "markdown",
      "source": [
        "#SET Types"
      ],
      "metadata": {
        "id": "1YwM2_b0tsBM"
      }
    },
    {
      "cell_type": "code",
      "source": [
        "# Set is unodered collection of unique elements. It is immutable. Once it is created, you can not modify the values.\n",
        "# Being an unordered collection, sets do not record element position or order of insertion.\n",
        "# Accordingly, sets do not support indexing, slicing, or other sequence-like behavior.\n",
        "electronic_items = {'cellphone','battery','power cord','music system','camera','headset','laptop','charger'}\n",
        "#iterate the Set using loop. You can do indexing,slicing etc.\n",
        "\n",
        "for item in electronic_items:\n",
        "  print(item)"
      ],
      "metadata": {
        "id": "TX281n97tv_w"
      },
      "execution_count": null,
      "outputs": []
    },
    {
      "cell_type": "code",
      "source": [
        "#set() contructor to create a set\n",
        "my_set = set(('a','e','i','o','u'))\n",
        "print(my_set)"
      ],
      "metadata": {
        "colab": {
          "base_uri": "https://localhost:8080/"
        },
        "id": "u27UphhFbYba",
        "outputId": "499e484d-ef26-4640-f5d5-358e71371d9f"
      },
      "execution_count": 18,
      "outputs": [
        {
          "output_type": "stream",
          "name": "stdout",
          "text": [
            "{'e', 'i', 'o', 'u', 'a'}\n"
          ]
        }
      ]
    },
    {
      "cell_type": "code",
      "source": [
        "#add() - add new item to collection.\n",
        "electronic_items.add('tripod')\n",
        "for item in electronic_items:\n",
        "  print(item)"
      ],
      "metadata": {
        "id": "rA8flW_cSN_v"
      },
      "execution_count": null,
      "outputs": []
    },
    {
      "cell_type": "code",
      "source": [
        "#update() -> add items from different set\n",
        "another_set = {'raspberri pi','sensors','xbox'}\n",
        "electronic_items.update(another_set)\n",
        "for item in electronic_items:\n",
        "  print(item)"
      ],
      "metadata": {
        "id": "KCKaqXHGSkaG"
      },
      "execution_count": null,
      "outputs": []
    },
    {
      "cell_type": "code",
      "source": [
        "#update() using an iterable objects - another list\n",
        "elec_list = ['microprocessors','microsontrollers']\n",
        "electronic_items.update(elec_list)\n",
        "for item in electronic_items:\n",
        "  print(item)"
      ],
      "metadata": {
        "id": "Ck-4BKk2TghI"
      },
      "execution_count": null,
      "outputs": []
    },
    {
      "cell_type": "code",
      "source": [
        "#use remove() or discard() to remove an item from the set\n",
        "electronic_items.remove('microprocessors')\n",
        "for item in electronic_items:\n",
        "  print(item)"
      ],
      "metadata": {
        "colab": {
          "base_uri": "https://localhost:8080/"
        },
        "id": "rWDCJdrgUJw7",
        "outputId": "23956141-3633-49e5-ae97-28dc38cf8f9e"
      },
      "execution_count": 7,
      "outputs": [
        {
          "output_type": "stream",
          "name": "stdout",
          "text": [
            "charger\n",
            "xbox\n",
            "microsontrollers\n",
            "cellphone\n",
            "power cord\n",
            "laptop\n",
            "camera\n",
            "sensors\n",
            "music system\n",
            "battery\n",
            "tripod\n",
            "raspberri pi\n",
            "headset\n"
          ]
        }
      ]
    },
    {
      "cell_type": "code",
      "source": [
        "#if item does not exist, remove() will throw error but discard() does not raise error.\n",
        "electronic_items.remove('unknown')\n",
        "for item in electronic_items:\n",
        "  print(item)"
      ],
      "metadata": {
        "id": "jnZVZ4IbUktr"
      },
      "execution_count": null,
      "outputs": []
    },
    {
      "cell_type": "code",
      "source": [
        "#if item does not exist, remove() will throw error but discard() does not raise error.\n",
        "electronic_items.discard('unknown')\n",
        "for item in electronic_items:\n",
        "  print(item)"
      ],
      "metadata": {
        "id": "EYt9BNlPUvMd"
      },
      "execution_count": null,
      "outputs": []
    },
    {
      "cell_type": "code",
      "source": [
        "#copy()\n",
        "new_set = electronic_items.copy()\n",
        "for item in new_set:\n",
        "  print(item)"
      ],
      "metadata": {
        "id": "CqcP6AVnVExA"
      },
      "execution_count": null,
      "outputs": []
    },
    {
      "cell_type": "code",
      "source": [
        "#clear()\n",
        "new_set.clear()\n",
        "for item in new_set:\n",
        "  print(item)"
      ],
      "metadata": {
        "id": "V7_CP3VyVW28"
      },
      "execution_count": 12,
      "outputs": []
    },
    {
      "cell_type": "code",
      "source": [
        "#various Set operations-\n",
        "#union()\n",
        "#intersection()\n",
        "#difference()\n",
        "a_2 = {10,6,8,4,2}\n",
        "b_3 = {30,21,15,12,18,6}\n",
        "c_6 = {36,6,12,24,30}\n",
        "\n",
        "x_union = a_2.union(b_3)\n",
        "print(x_union) # common elements are considered once\n"
      ],
      "metadata": {
        "colab": {
          "base_uri": "https://localhost:8080/"
        },
        "id": "3VJ_0orXVfAj",
        "outputId": "24626ce4-9e8e-4baf-9ea0-0edb1814d2e8"
      },
      "execution_count": 13,
      "outputs": [
        {
          "output_type": "stream",
          "name": "stdout",
          "text": [
            "{2, 4, 6, 8, 10, 12, 15, 18, 21, 30}\n"
          ]
        }
      ]
    },
    {
      "cell_type": "code",
      "source": [
        "x_intersect = b_3.intersection(a_2,c_6) #only the common elements in all sets.\n",
        "print(x_intersect)"
      ],
      "metadata": {
        "colab": {
          "base_uri": "https://localhost:8080/"
        },
        "id": "6rTssdV3ZjFG",
        "outputId": "8b24c498-477b-47f3-eda4-de91fa915c88"
      },
      "execution_count": 16,
      "outputs": [
        {
          "output_type": "stream",
          "name": "stdout",
          "text": [
            "{6}\n"
          ]
        }
      ]
    },
    {
      "cell_type": "code",
      "source": [
        "x_diff = b_3.difference(a_2)\n",
        "print(x_diff) # print elements from b_3 which is not present a_2"
      ],
      "metadata": {
        "colab": {
          "base_uri": "https://localhost:8080/"
        },
        "id": "b4FEFYbjZ9b7",
        "outputId": "42507f6c-4c5b-4571-9084-9ba12315928f"
      },
      "execution_count": 17,
      "outputs": [
        {
          "output_type": "stream",
          "name": "stdout",
          "text": [
            "{12, 15, 18, 21, 30}\n"
          ]
        }
      ]
    },
    {
      "cell_type": "markdown",
      "source": [
        "#TUPLE data types"
      ],
      "metadata": {
        "id": "szFkvY0CfIsY"
      }
    },
    {
      "cell_type": "code",
      "source": [
        "#Tuples are immutable sequences, typically used to store collections of heterogeneous data.\n",
        "# Ordered, indexed, allow duplicates\n",
        "# It is similar to list but this is immutable, where list is mutable meaning you can change the list post creation.\n",
        "x_tuple = tuple('abc')\n",
        "print(x_tuple)\n",
        "\n",
        "#x_tuple = tuple('a','b','c') #error\n",
        "x_tuple = tuple(['a','b','c'])\n",
        "print(x_tuple)\n",
        "\n",
        "print(x_tuple[1]) #indexed\n",
        "print(x_tuple[1:]) #slicing"
      ],
      "metadata": {
        "colab": {
          "base_uri": "https://localhost:8080/"
        },
        "id": "ltNrVEQ0fMIP",
        "outputId": "84f5d72d-d176-41f3-f61a-63b3a22ec573"
      },
      "execution_count": 34,
      "outputs": [
        {
          "output_type": "stream",
          "name": "stdout",
          "text": [
            "('a', 'b', 'c')\n",
            "('a', 'b', 'c')\n",
            "b\n",
            "('b', 'c')\n"
          ]
        }
      ]
    },
    {
      "cell_type": "code",
      "source": [
        "t = ('a','b') #this is a tuple. enclosed by parenthesis\n",
        "print(type(t))\n",
        "#t[0] = 'c' # error, this is immutable, you can not change it."
      ],
      "metadata": {
        "colab": {
          "base_uri": "https://localhost:8080/"
        },
        "id": "kf8v1J6hiCAd",
        "outputId": "f80b1714-8dd7-45d7-e0f2-6b2ec242dec6"
      },
      "execution_count": 32,
      "outputs": [
        {
          "output_type": "stream",
          "name": "stdout",
          "text": [
            "<class 'tuple'>\n"
          ]
        }
      ]
    },
    {
      "cell_type": "code",
      "source": [
        "#When tuple is used?\n",
        "# Generally, if you need to have some collection which is not changable in your program. for example collection of state Code in USA.\n",
        "# you can keep then in a tuple instead of a list, as tuple does not allow changes values to the collection, where as list can be modified.\n",
        "\n",
        "state_codes = ('NY', 'NJ','AL','AK','AZ','NE','NV','NH') # just few codes not exhaustive\n",
        "print(state_codes)\n",
        "#state_codes[3] = 'X' #error\n"
      ],
      "metadata": {
        "colab": {
          "base_uri": "https://localhost:8080/"
        },
        "id": "lvwur3BwiNxJ",
        "outputId": "6fa2254e-e8a9-477e-bdef-7a458e1d3b3e"
      },
      "execution_count": 40,
      "outputs": [
        {
          "output_type": "stream",
          "name": "stdout",
          "text": [
            "('NY', 'NJ', 'AL', 'AK', 'AZ', 'NE', 'NV', 'NH')\n"
          ]
        }
      ]
    },
    {
      "cell_type": "code",
      "source": [
        "#iterate process is similar as list\n",
        "for x in state_codes:\n",
        "  print(x)"
      ],
      "metadata": {
        "colab": {
          "base_uri": "https://localhost:8080/"
        },
        "id": "4jGdZzBcmx4m",
        "outputId": "64cba614-19e4-4948-85a6-f280c23d5168"
      },
      "execution_count": 42,
      "outputs": [
        {
          "output_type": "stream",
          "name": "stdout",
          "text": [
            "NY\n",
            "NJ\n",
            "AL\n",
            "AK\n",
            "AZ\n",
            "NE\n",
            "NV\n",
            "NH\n"
          ]
        }
      ]
    },
    {
      "cell_type": "code",
      "source": [
        "#Convert tuple to list and change it\n",
        "#example = tuple(('a','b','c','d'))\n",
        "example = tuple(['a','b','c','d'])\n",
        "x_list = list(example)\n",
        "x_list[1] = 'bb'\n",
        "example = tuple(x_list) #this\n",
        "#example = x_list\n",
        "print(example) # tuple is updated\n",
        "print(type(example))"
      ],
      "metadata": {
        "colab": {
          "base_uri": "https://localhost:8080/"
        },
        "id": "81yWXl60nHtu",
        "outputId": "d070a42f-4149-4978-a715-03a54ebfe8ac"
      },
      "execution_count": 47,
      "outputs": [
        {
          "output_type": "stream",
          "name": "stdout",
          "text": [
            "('a', 'bb', 'c', 'd')\n",
            "<class 'tuple'>\n"
          ]
        }
      ]
    },
    {
      "cell_type": "code",
      "source": [
        "#unpacking values back to variables using unpacking\n",
        "student = ('Ronaldo','29','Football')\n",
        "(name,age,skill) = student\n",
        "print(name)\n",
        "print(age)\n",
        "print(skill)"
      ],
      "metadata": {
        "id": "MhSsLOrLpCSA"
      },
      "execution_count": null,
      "outputs": []
    },
    {
      "cell_type": "markdown",
      "source": [
        "#Range"
      ],
      "metadata": {
        "id": "TY_EDNREqekH"
      }
    },
    {
      "cell_type": "code",
      "source": [
        "#The range type represents an immutable sequence of numbers and is commonly used for looping a specific number of times in for loops.\n",
        "#class range(stop)\n",
        "#class range(start, stop[, step])\n",
        "\n",
        "x_list = list(range(10))\n",
        "print(x_list)\n",
        "\n",
        "x_list = list(range(1, 11))\n",
        "print(x_list)\n",
        "\n",
        "x_print = list(range(0, 30, 5))\n",
        "print(x_print)\n",
        "\n",
        "x_print = list(range(0, -10, -1))\n",
        "print(x_print)\n",
        "\n",
        "\n"
      ],
      "metadata": {
        "colab": {
          "base_uri": "https://localhost:8080/"
        },
        "id": "5Q9EClPnqgFp",
        "outputId": "00816f5f-77d2-4711-fedd-a02930f84306"
      },
      "execution_count": 50,
      "outputs": [
        {
          "output_type": "stream",
          "name": "stdout",
          "text": [
            "[0, 1, 2, 3, 4, 5, 6, 7, 8, 9]\n",
            "[1, 2, 3, 4, 5, 6, 7, 8, 9, 10]\n",
            "[0, 5, 10, 15, 20, 25]\n",
            "[0, -1, -2, -3, -4, -5, -6, -7, -8, -9]\n"
          ]
        }
      ]
    },
    {
      "cell_type": "markdown",
      "source": [
        "#Dictionary"
      ],
      "metadata": {
        "id": "iTvmgxi5p_Xt"
      }
    },
    {
      "cell_type": "code",
      "source": [
        "#Dictionary is map data type, stores key:value pair,written with curly braces.\n",
        "#It is ordered from python version 3.7, earlier it was unordered.\n",
        "# It is changeable or mutable, oes not allow duplicates\n",
        "#create a dictionary\n",
        "test_d = {\n",
        "    'name': 'Rohan',\n",
        "    'age': 30,\n",
        "    'lang': 'eng'\n",
        "}\n",
        "#get length\n",
        "print(len(test_d))\n",
        "print(type(test_d))"
      ],
      "metadata": {
        "colab": {
          "base_uri": "https://localhost:8080/"
        },
        "id": "l1rhY7HBqCga",
        "outputId": "cf781547-a44b-4e02-c752-cc80580551c1"
      },
      "execution_count": 51,
      "outputs": [
        {
          "output_type": "stream",
          "name": "stdout",
          "text": [
            "3\n",
            "<class 'dict'>\n"
          ]
        }
      ]
    },
    {
      "cell_type": "code",
      "source": [
        "#create using dict()\n",
        "new_dict = dict(name = 'Rohan',age = 30,lang = 'eng')\n",
        "print(new_dict)"
      ],
      "metadata": {
        "colab": {
          "base_uri": "https://localhost:8080/"
        },
        "id": "nwv6KEO0yP_9",
        "outputId": "e8dfa0c7-e5c1-4114-e4bb-e40fd3b79a60"
      },
      "execution_count": 52,
      "outputs": [
        {
          "output_type": "stream",
          "name": "stdout",
          "text": [
            "{'name': 'Rohan', 'age': 30, 'lang': 'eng'}\n"
          ]
        }
      ]
    },
    {
      "cell_type": "code",
      "source": [
        "#get the value from dictionary using its key\n",
        "x_age = new_dict['age']\n",
        "print(x_age)"
      ],
      "metadata": {
        "colab": {
          "base_uri": "https://localhost:8080/"
        },
        "id": "5gcBZEKtzEcm",
        "outputId": "37dd7cf9-0bd4-4ee6-9fda-ee1311110a3c"
      },
      "execution_count": 53,
      "outputs": [
        {
          "output_type": "stream",
          "name": "stdout",
          "text": [
            "30\n"
          ]
        }
      ]
    },
    {
      "cell_type": "code",
      "source": [
        "#get the value from dictionary using get() method\n",
        "x_age = new_dict.get('age')\n",
        "print(x_age)"
      ],
      "metadata": {
        "colab": {
          "base_uri": "https://localhost:8080/"
        },
        "id": "nwnqCNT-zjBm",
        "outputId": "5b27f6bd-99a0-42ce-c0ea-7882d5c27839"
      },
      "execution_count": 54,
      "outputs": [
        {
          "output_type": "stream",
          "name": "stdout",
          "text": [
            "30\n"
          ]
        }
      ]
    },
    {
      "cell_type": "code",
      "source": [
        "# The objects returned by dict.keys(), dict.values() and dict.items() are view objects. They provide a dynamic view on the dictionary’s entries,\n",
        "# which means that when the dictionary changes, the view reflects these changes.\n",
        "# Get all the keys from the dictionary\n",
        "x_all_keys = new_dict.keys()\n",
        "print(x_all_keys)\n",
        "print(type(x_all_keys))"
      ],
      "metadata": {
        "colab": {
          "base_uri": "https://localhost:8080/"
        },
        "id": "KQsypMlpzukD",
        "outputId": "7b4d4118-087e-4f14-93fe-b5f3c61143f1"
      },
      "execution_count": 56,
      "outputs": [
        {
          "output_type": "stream",
          "name": "stdout",
          "text": [
            "dict_keys(['name', 'age', 'lang'])\n",
            "<class 'dict_keys'>\n"
          ]
        }
      ]
    },
    {
      "cell_type": "code",
      "source": [
        "x_all_vals = new_dict.values()\n",
        "print(x_all_vals)\n",
        "print(type(x_all_vals))"
      ],
      "metadata": {
        "colab": {
          "base_uri": "https://localhost:8080/"
        },
        "id": "HLU4Pnkr0Qqc",
        "outputId": "2ff75edd-4987-4bfe-e335-0e06792e6943"
      },
      "execution_count": 57,
      "outputs": [
        {
          "output_type": "stream",
          "name": "stdout",
          "text": [
            "dict_values(['Rohan', 30, 'eng'])\n",
            "<class 'dict_values'>\n"
          ]
        }
      ]
    },
    {
      "cell_type": "code",
      "source": [
        "x_all_items = new_dict.items() # returns all items as tuples in a list\n",
        "print(x_all_items)\n",
        "print(type(x_all_items))"
      ],
      "metadata": {
        "colab": {
          "base_uri": "https://localhost:8080/"
        },
        "id": "MwElVv5G0Z4L",
        "outputId": "598e91cc-ef2b-4b13-f567-64c05c90ca46"
      },
      "execution_count": 58,
      "outputs": [
        {
          "output_type": "stream",
          "name": "stdout",
          "text": [
            "dict_items([('name', 'Rohan'), ('age', 30), ('lang', 'eng')])\n",
            "<class 'dict_items'>\n"
          ]
        }
      ]
    },
    {
      "cell_type": "code",
      "source": [
        "#update the dictionary\n",
        "new_dict['origin'] = 'UK'\n",
        "print(new_dict)"
      ],
      "metadata": {
        "colab": {
          "base_uri": "https://localhost:8080/"
        },
        "id": "-jpw55XM1CYq",
        "outputId": "6dfea41f-5bf7-48a7-b3ab-4272fdc341e4"
      },
      "execution_count": 59,
      "outputs": [
        {
          "output_type": "stream",
          "name": "stdout",
          "text": [
            "{'name': 'Rohan', 'age': 30, 'lang': 'eng', 'origin': 'UK'}\n"
          ]
        }
      ]
    },
    {
      "cell_type": "code",
      "source": [
        "#update using update() method\n",
        "new_dict.update({'choice' : 'nonveg'})\n",
        "print(new_dict)"
      ],
      "metadata": {
        "colab": {
          "base_uri": "https://localhost:8080/"
        },
        "id": "qM7EzZbE1MtU",
        "outputId": "25a5e047-19b9-4e30-e2af-2cd114e2a858"
      },
      "execution_count": 60,
      "outputs": [
        {
          "output_type": "stream",
          "name": "stdout",
          "text": [
            "{'name': 'Rohan', 'age': 30, 'lang': 'eng', 'origin': 'UK', 'choice': 'nonveg'}\n"
          ]
        }
      ]
    },
    {
      "cell_type": "code",
      "source": [
        "#modify the value for an existing key\n",
        "new_dict.update({'choice' : 'veg'})\n",
        "print(new_dict)"
      ],
      "metadata": {
        "colab": {
          "base_uri": "https://localhost:8080/"
        },
        "id": "LTOySuPp1_4A",
        "outputId": "5d297470-32e6-4402-82f8-aab4312e1f9e"
      },
      "execution_count": 61,
      "outputs": [
        {
          "output_type": "stream",
          "name": "stdout",
          "text": [
            "{'name': 'Rohan', 'age': 30, 'lang': 'eng', 'origin': 'UK', 'choice': 'veg'}\n"
          ]
        }
      ]
    },
    {
      "cell_type": "code",
      "source": [
        "#remove an item form the dictionary\n",
        "new_dict.pop('choice')\n",
        "print(new_dict)"
      ],
      "metadata": {
        "colab": {
          "base_uri": "https://localhost:8080/"
        },
        "id": "53U9j2bL0g8l",
        "outputId": "8ab9f948-ed48-49fa-8a83-479b40322ce2"
      },
      "execution_count": 62,
      "outputs": [
        {
          "output_type": "stream",
          "name": "stdout",
          "text": [
            "{'name': 'Rohan', 'age': 30, 'lang': 'eng', 'origin': 'UK'}\n"
          ]
        }
      ]
    },
    {
      "cell_type": "code",
      "source": [
        "#Remove and return a (key, value) pair from the dictionary. Pairs are returned in LIFO order.\n",
        "new_dict.popitem()\n",
        "print(new_dict)"
      ],
      "metadata": {
        "colab": {
          "base_uri": "https://localhost:8080/"
        },
        "id": "Lb5XPj-C3a7-",
        "outputId": "498b3054-7201-476b-d4dd-44b79fb60891"
      },
      "execution_count": 63,
      "outputs": [
        {
          "output_type": "stream",
          "name": "stdout",
          "text": [
            "{'name': 'Rohan', 'age': 30, 'lang': 'eng'}\n"
          ]
        }
      ]
    },
    {
      "cell_type": "code",
      "source": [
        "#iterate the dictionary\n",
        "for item in new_dict:\n",
        "  print('Key={}:Value={}'.format(item,new_dict[item]))"
      ],
      "metadata": {
        "colab": {
          "base_uri": "https://localhost:8080/"
        },
        "id": "pDYOwhlG339j",
        "outputId": "3fd18883-aa79-4a8c-f033-d602f74c40ec"
      },
      "execution_count": 66,
      "outputs": [
        {
          "output_type": "stream",
          "name": "stdout",
          "text": [
            "Key=name:Value=Rohan\n",
            "Key=age:Value=30\n",
            "Key=lang:Value=eng\n"
          ]
        }
      ]
    },
    {
      "cell_type": "code",
      "source": [
        "#iterate using the viewable object methods\n",
        "for key in new_dict.keys():\n",
        "  print(key)\n",
        "\n",
        "for val in new_dict.values():\n",
        "  print(val)\n",
        "\n",
        "for k,v in new_dict.items():\n",
        "  print(k,v)"
      ],
      "metadata": {
        "colab": {
          "base_uri": "https://localhost:8080/"
        },
        "id": "sKEGe5K64egg",
        "outputId": "33ba2a4c-f336-4c60-bfce-f40e2fe52fae"
      },
      "execution_count": 67,
      "outputs": [
        {
          "output_type": "stream",
          "name": "stdout",
          "text": [
            "name\n",
            "age\n",
            "lang\n",
            "Rohan\n",
            "30\n",
            "eng\n",
            "name Rohan\n",
            "age 30\n",
            "lang eng\n"
          ]
        }
      ]
    },
    {
      "cell_type": "code",
      "source": [
        "#copy() - shallow copy\n",
        "x_dict = new_dict.copy()\n",
        "print(x_dict)"
      ],
      "metadata": {
        "colab": {
          "base_uri": "https://localhost:8080/"
        },
        "id": "T7jYM-ye5IvP",
        "outputId": "88366a7c-19ea-418d-9a9c-5629ed4fd499"
      },
      "execution_count": 68,
      "outputs": [
        {
          "output_type": "stream",
          "name": "stdout",
          "text": [
            "{'name': 'Rohan', 'age': 30, 'lang': 'eng'}\n"
          ]
        }
      ]
    },
    {
      "cell_type": "code",
      "source": [
        "#clear the items in dictionary\n",
        "x_dict.clear()\n",
        "print(x_dict)\n",
        "print(len(x_dict))"
      ],
      "metadata": {
        "colab": {
          "base_uri": "https://localhost:8080/"
        },
        "id": "_vXsaqTD5Ptg",
        "outputId": "b83695bc-692d-4997-8f0e-ba45adf01c77"
      },
      "execution_count": 69,
      "outputs": [
        {
          "output_type": "stream",
          "name": "stdout",
          "text": [
            "{}\n",
            "0\n"
          ]
        }
      ]
    },
    {
      "cell_type": "markdown",
      "source": [
        "#Common Sequence Operations\n"
      ],
      "metadata": {
        "id": "6lmK4HAf6roo"
      }
    },
    {
      "cell_type": "code",
      "source": [
        "#The operations in the following table are supported by most sequence #types, both mutable and immutable.\n",
        "#Operation | Result\n",
        "#x in s | 'True if an item of s is equal to x, else False'\n",
        "#x not in s | 'False if an item of s is equal to x, else True'\n",
        "#s + t | 'the concatenation of s and t'\n",
        "#s * n or n * s | 'equivalent to adding s to itself n times'\n",
        "#s[i] | 'ith item of s, origin 0'\n",
        "#s[i:j] | 'slice of s from i to j'\n",
        "#s[i:j:k] | 'slice of s from i to j with step k'\n",
        "#len(s) | 'length of s'\n",
        "#min(s) | 'smallest item of s'\n",
        "#max(s) | 'largest item of s'\n",
        "#s.index(x[, i[, j]]) | 'index of the first occurrence of x in s (at or after index i and before index j)'\n",
        "#s.count(x) | 'total number of occurrences of x in s'"
      ],
      "metadata": {
        "id": "BdhHZ2yt65ni"
      },
      "execution_count": null,
      "outputs": []
    },
    {
      "cell_type": "code",
      "source": [
        "#x in s | 'True if an item of s is equal to x, else False'\n",
        "#x not in s | 'False if an item of s is equal to x, else True'\n",
        "x_list = list([100,200,300,400])\n",
        "print(x_list)\n",
        "n = 500\n",
        "print(n in x_list)\n",
        "n = 100\n",
        "print(n in x_list)\n",
        "print(n not in x_list)"
      ],
      "metadata": {
        "id": "O9LeqreOF36P"
      },
      "execution_count": null,
      "outputs": []
    },
    {
      "cell_type": "code",
      "source": [
        "#s + t | 'the concatenation of s and t'\n",
        "s = [1,2,3]\n",
        "t = [4,5,6]\n",
        "u = s + t\n",
        "print(u)"
      ],
      "metadata": {
        "colab": {
          "base_uri": "https://localhost:8080/"
        },
        "id": "NrWFgP51F9b4",
        "outputId": "5244c72a-cfeb-4778-886b-0dbec9ab2a1d"
      },
      "execution_count": 5,
      "outputs": [
        {
          "output_type": "stream",
          "name": "stdout",
          "text": [
            "[1, 2, 3, 4, 5, 6]\n"
          ]
        }
      ]
    },
    {
      "cell_type": "code",
      "source": [
        "#s * n or n * s | 'equivalent to adding s to itself n times'\n",
        "n=3\n",
        "s = [1,2,3]\n",
        "t = s * n\n",
        "print(t)"
      ],
      "metadata": {
        "colab": {
          "base_uri": "https://localhost:8080/"
        },
        "id": "o2BX3NcrGPTv",
        "outputId": "d35d7e0d-9e14-4872-eb8b-7139f39dea1c"
      },
      "execution_count": 6,
      "outputs": [
        {
          "output_type": "stream",
          "name": "stdout",
          "text": [
            "[1, 2, 3, 1, 2, 3, 1, 2, 3]\n"
          ]
        }
      ]
    },
    {
      "cell_type": "code",
      "source": [
        "#s[i] | 'ith item of s, origin 0'\n",
        "#s[i:j] | 'slice of s from i to j'\n",
        "s = [2,4,6,8,10]\n",
        "print(s[2])\n",
        "print(s[2:4])"
      ],
      "metadata": {
        "colab": {
          "base_uri": "https://localhost:8080/"
        },
        "id": "d0yEWCbuGdQo",
        "outputId": "1d05cd3d-58b4-482c-f7d2-8765668fbe6d"
      },
      "execution_count": 13,
      "outputs": [
        {
          "output_type": "stream",
          "name": "stdout",
          "text": [
            "6\n",
            "[6, 8]\n",
            "[4]\n"
          ]
        }
      ]
    },
    {
      "cell_type": "code",
      "source": [
        "#len(s) | 'length of s'\n",
        "#min(s) | 'smallest item of s'\n",
        "#max(s) | 'largest item of s'\n",
        "s = [2,4,6,8,10]\n",
        "print(len(s))\n",
        "print(min(s))\n",
        "print(max(s))"
      ],
      "metadata": {
        "colab": {
          "base_uri": "https://localhost:8080/"
        },
        "id": "-d8OUo4_HO7g",
        "outputId": "48bd8602-779b-479c-8df3-9fb9c349b4bf"
      },
      "execution_count": 14,
      "outputs": [
        {
          "output_type": "stream",
          "name": "stdout",
          "text": [
            "5\n",
            "2\n",
            "10\n"
          ]
        }
      ]
    },
    {
      "cell_type": "code",
      "source": [
        "#s.index(x[, i[, j]]) | 'index of the first occurrence of x in s (at or after index i and before index j)'\n",
        "#s.count(x) | 'total number of occurrences of x in s'\n",
        "s = [2,4,6,8,10,12,14,10,20,10]\n",
        "print(s.index(12))\n",
        "print(s.index(6,1,5))\n",
        "#print(s.index(6,3,5)) #error as 6 is not in between index 3 and 5\n",
        "print(s.count(10))"
      ],
      "metadata": {
        "colab": {
          "base_uri": "https://localhost:8080/"
        },
        "id": "9a5834bDHcwH",
        "outputId": "9c74b766-98d2-450e-bc11-3c30f0a1c00b"
      },
      "execution_count": 20,
      "outputs": [
        {
          "output_type": "stream",
          "name": "stdout",
          "text": [
            "5\n",
            "2\n",
            "3\n"
          ]
        }
      ]
    }
  ]
}