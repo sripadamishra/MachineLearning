{
  "nbformat": 4,
  "nbformat_minor": 0,
  "metadata": {
    "colab": {
      "provenance": []
    },
    "kernelspec": {
      "name": "python3",
      "display_name": "Python 3"
    },
    "language_info": {
      "name": "python"
    }
  },
  "cells": [
    {
      "cell_type": "markdown",
      "source": [
        "#Numpy Tutorials"
      ],
      "metadata": {
        "id": "IeXKcMp494U3"
      }
    },
    {
      "cell_type": "code",
      "source": [
        "# What is Numpy?\n",
        "# This is the fundamental package of python scientific computing.\n",
        "# It is a library to work with array ( It has ndarray object for efficient operation)\n",
        "# Shoft form - Numerical Python\n",
        "# This library provides a multidimensional array object,\n",
        "# various derived objects (such as masked arrays and matrices).\n",
        "# Many routines for fast operations on arrays, including mathematical, logical, shape manipulation,\n",
        "# sorting, selecting, I/O, discrete Fourier transforms, basic linear algebra, basic statistical operations,\n",
        "# random simulation etc.\n",
        "\n",
        "# Numpy operation are faster than traditional python operation\n",
        "# due to vectorization and broadcasting support\n",
        "# Numpy code is optimized using precompiled-C code behind the scenes."
      ],
      "metadata": {
        "id": "0cwgVART98EE"
      },
      "execution_count": null,
      "outputs": []
    },
    {
      "cell_type": "markdown",
      "source": [
        "# Array Creation"
      ],
      "metadata": {
        "id": "29IasvN6ApuJ"
      }
    },
    {
      "cell_type": "code",
      "source": [
        "# Creating an array from list\n",
        "import numpy as np\n",
        "my_np_array_1D = np.array([1,2,3,4])\n",
        "my_np_array_2D = np.array([[1,2],[3,4]])\n",
        "my_np_array_3D = np.array([[[1,2],[3,4]],[[5,6],[7,8]]])\n",
        "\n",
        "print('This is 1D array')\n",
        "print(my_np_array_1D)\n",
        "print('This is 2D array')\n",
        "print(my_np_array_2D)\n",
        "print('This is 3D array')\n",
        "print(my_np_array_3D)"
      ],
      "metadata": {
        "colab": {
          "base_uri": "https://localhost:8080/"
        },
        "id": "RRsKjRdZArik",
        "outputId": "816ef2b4-dcfa-4e99-e336-0a842f1618e1"
      },
      "execution_count": 3,
      "outputs": [
        {
          "output_type": "stream",
          "name": "stdout",
          "text": [
            "This is 1D array\n",
            "[1 2 3 4]\n",
            "This is 2D array\n",
            "[[1 2]\n",
            " [3 4]]\n",
            "This is 3D array\n",
            "[[[1 2]\n",
            "  [3 4]]\n",
            "\n",
            " [[5 6]\n",
            "  [7 8]]]\n"
          ]
        }
      ]
    },
    {
      "cell_type": "code",
      "source": [
        "# while numpy.array() is used, it is important to consider the dtype ( the datatype of the array object)\n",
        "my_array_a = np.array([1,2,45678], dtype=np.int8) # considering type np.int8, 45678 is truncated. To get correct answer, use int64 or int32\n",
        "my_array_b = np.array([1,2,3], dtype=np.int64)\n",
        "\n",
        "new_arr = my_array_a + my_array_b\n",
        "print(new_arr)\n"
      ],
      "metadata": {
        "colab": {
          "base_uri": "https://localhost:8080/"
        },
        "id": "9gD4yL9QBoRM",
        "outputId": "5aba4b04-7561-41d5-c724-c2343066cfa5"
      },
      "execution_count": 9,
      "outputs": [
        {
          "output_type": "stream",
          "name": "stdout",
          "text": [
            "[  2   4 113]\n"
          ]
        }
      ]
    },
    {
      "cell_type": "markdown",
      "source": [
        "# Array indexing, slicing and iterations"
      ],
      "metadata": {
        "id": "Bn_xH6VItQyF"
      }
    },
    {
      "cell_type": "code",
      "source": [
        "#indexing\n"
      ],
      "metadata": {
        "id": "L8z-gYEqtVjB"
      },
      "execution_count": null,
      "outputs": []
    },
    {
      "cell_type": "code",
      "source": [
        "#slicing"
      ],
      "metadata": {
        "id": "wIZh7bmGNwRr"
      },
      "execution_count": null,
      "outputs": []
    },
    {
      "cell_type": "markdown",
      "source": [
        "#Create array from built-in methods"
      ],
      "metadata": {
        "id": "ltq0tkWODUWH"
      }
    },
    {
      "cell_type": "markdown",
      "source": [
        "# numpy.arange"
      ],
      "metadata": {
        "id": "9B54sfNv9VYf"
      }
    },
    {
      "cell_type": "code",
      "source": [
        "# numpy.arange creates arrays with regularly incrementing values.\n",
        "\n",
        "my_arr = np.arange(10) # similar to python range()\n",
        "print(my_arr)\n",
        "\n",
        "#mention data type of the elements in the array, also you can start starting value of the element\n",
        "my_floats = np.arange(2.5, 10.5, dtype=float)\n",
        "\n",
        "print(my_floats)\n",
        "\n",
        "# you can mention the step size how element will get incresed or decreased\n",
        "# only 10 elements with step 0.1\n",
        "print('Step size = 0.1')\n",
        "my_new_array = np.arange(1, 2, 0.1)\n",
        "print(my_new_array)\n",
        "\n",
        "print('Step size = 0.015')\n",
        "my_new_array = np.arange(1, 2, 0.015) # see there are more elements generated with lower step size\n",
        "print(my_new_array)"
      ],
      "metadata": {
        "id": "Ddo27upEDYXS"
      },
      "execution_count": null,
      "outputs": []
    },
    {
      "cell_type": "code",
      "source": [
        "# See the fun - many more element\n",
        "print('Step size = 0.0015')\n",
        "my_new_array = np.arange(1, 2, 0.0015) # see there are more elements generated with lower step size\n",
        "print(my_new_array)"
      ],
      "metadata": {
        "id": "rls9J0gm81Z0"
      },
      "execution_count": null,
      "outputs": []
    },
    {
      "cell_type": "markdown",
      "source": [
        "# numpy.linspace"
      ],
      "metadata": {
        "id": "L2-zumzJ9Qrq"
      }
    },
    {
      "cell_type": "code",
      "source": [
        "# This method also generates 1D array. you can mention the numder of elements generated with linespace(start,stop,no of elements)\n",
        "x = np.linspace(4., 10., 6)\n",
        "print(x)"
      ],
      "metadata": {
        "colab": {
          "base_uri": "https://localhost:8080/"
        },
        "id": "tMVTALFP9ZWb",
        "outputId": "ff9ebdac-2d33-47ae-ed58-67139464cc08"
      },
      "execution_count": 13,
      "outputs": [
        {
          "output_type": "stream",
          "name": "stdout",
          "text": [
            "[ 4.   5.2  6.4  7.6  8.8 10. ]\n"
          ]
        }
      ]
    },
    {
      "cell_type": "markdown",
      "source": [
        "# 2D array creation functions"
      ],
      "metadata": {
        "id": "Ck9tHTEF91jN"
      }
    },
    {
      "cell_type": "markdown",
      "source": [
        "#numpy.eye"
      ],
      "metadata": {
        "id": "iXpE1gQw-ptp"
      }
    },
    {
      "cell_type": "code",
      "source": [
        "# np.eye(n, m) defines a 2D identity matrix.\n",
        "\n",
        "# This creates an Identity matrix with the diagonal values are all 1 and rest are all 0s.\n",
        "# for all i == j ( row == col ) positions, it puts 1 and rest are all 0s.\n",
        "print('A 5x5 matrix')\n",
        "x = np.eye(5)\n",
        "print(x)\n",
        "\n",
        "print('A 5x7 matrix')\n",
        "# Similarly for n is not equal to m, it creates following matrix ( 2D array ) keeping all i == j as 1 and others are 0s.\n",
        "xy = np.eye(5,7)\n",
        "print(xy)"
      ],
      "metadata": {
        "colab": {
          "base_uri": "https://localhost:8080/"
        },
        "id": "1tYqBBob-uJt",
        "outputId": "267eda79-59e3-4df8-e9ae-d36ce07fd843"
      },
      "execution_count": 17,
      "outputs": [
        {
          "output_type": "stream",
          "name": "stdout",
          "text": [
            "A 5x5 matrix\n",
            "[[1. 0. 0. 0. 0.]\n",
            " [0. 1. 0. 0. 0.]\n",
            " [0. 0. 1. 0. 0.]\n",
            " [0. 0. 0. 1. 0.]\n",
            " [0. 0. 0. 0. 1.]]\n",
            "A 5x7 matrix\n",
            "[[1. 0. 0. 0. 0. 0. 0.]\n",
            " [0. 1. 0. 0. 0. 0. 0.]\n",
            " [0. 0. 1. 0. 0. 0. 0.]\n",
            " [0. 0. 0. 1. 0. 0. 0.]\n",
            " [0. 0. 0. 0. 1. 0. 0.]]\n"
          ]
        }
      ]
    },
    {
      "cell_type": "markdown",
      "source": [
        "#numpy.diag"
      ],
      "metadata": {
        "id": "vD0FT7reBBtR"
      }
    },
    {
      "cell_type": "code",
      "source": [
        "# it returns diagonal matrix\n",
        "x = np.arange(1,10).reshape(3,3)\n",
        "print('This is s 3x3 matrix')\n",
        "print(x)\n",
        "\n",
        "print('Print the diagonal')\n",
        "print(np.diag(x))\n",
        "\n",
        "# Now if you provide only the diagonal value as a 1D array, it will give you the 2D array keeping others as zero\n",
        "m = np.diag(np.diag(x))\n",
        "print('The matrix from 1D diagonal')\n",
        "print(m)"
      ],
      "metadata": {
        "colab": {
          "base_uri": "https://localhost:8080/"
        },
        "id": "MmvN-GYcBGoN",
        "outputId": "b3f12289-e5cd-42af-cc89-d4861bae1829"
      },
      "execution_count": 20,
      "outputs": [
        {
          "output_type": "stream",
          "name": "stdout",
          "text": [
            "This is s 3x3 matrix\n",
            "[[1 2 3]\n",
            " [4 5 6]\n",
            " [7 8 9]]\n",
            "Print the diagonal\n",
            "[1 5 9]\n",
            "The matrix from 1D diagonal\n",
            "[[1 0 0]\n",
            " [0 5 0]\n",
            " [0 0 9]]\n"
          ]
        }
      ]
    },
    {
      "cell_type": "markdown",
      "source": [
        "# numpy.vander"
      ],
      "metadata": {
        "id": "DUXdnay4LRrq"
      }
    },
    {
      "cell_type": "code",
      "source": [
        "# It defines a Vandermonde matrix as a 2D NumPy array.\n",
        "# Each column of the Vandermonde matrix is a decreasing power of the input 1D array or list or tuple,\n",
        "# x where the highest polynomial order is n-1\n",
        "\n",
        "x = np.vander([1,2,3,4],2)\n",
        "print(x)\n",
        "\n",
        "\n",
        "x = np.vander([1,2,3,4],4)\n",
        "print(x)\n",
        "\n"
      ],
      "metadata": {
        "colab": {
          "base_uri": "https://localhost:8080/"
        },
        "id": "fv774fJSLUlg",
        "outputId": "3cf50919-001f-4524-c1e8-a1de6c26af17"
      },
      "execution_count": 21,
      "outputs": [
        {
          "output_type": "stream",
          "name": "stdout",
          "text": [
            "[[1 1]\n",
            " [2 1]\n",
            " [3 1]\n",
            " [4 1]]\n",
            "[[ 1  1  1  1]\n",
            " [ 8  4  2  1]\n",
            " [27  9  3  1]\n",
            " [64 16  4  1]]\n"
          ]
        }
      ]
    },
    {
      "cell_type": "markdown",
      "source": [
        "# General ndarray creation functions"
      ],
      "metadata": {
        "id": "7bPzWtajL_L3"
      }
    },
    {
      "cell_type": "markdown",
      "source": [
        "#numpy.ones"
      ],
      "metadata": {
        "id": "JGabTur7MqD3"
      }
    },
    {
      "cell_type": "code",
      "source": [
        "#numpy.ones will create an array filled with 1 values with the specified shape. The default dtype is float64.\n",
        "\n",
        "print(np.ones((3,4)))"
      ],
      "metadata": {
        "colab": {
          "base_uri": "https://localhost:8080/"
        },
        "id": "dSDKm0ThNOT0",
        "outputId": "8ea72e1b-93ef-4ff5-dd17-29f04c5ad1e2"
      },
      "execution_count": 25,
      "outputs": [
        {
          "output_type": "stream",
          "name": "stdout",
          "text": [
            "[[1. 1. 1. 1.]\n",
            " [1. 1. 1. 1.]\n",
            " [1. 1. 1. 1.]]\n"
          ]
        }
      ]
    },
    {
      "cell_type": "markdown",
      "source": [
        "# numpy.zeros"
      ],
      "metadata": {
        "id": "6r6H7Jc1M7B7"
      }
    },
    {
      "cell_type": "code",
      "source": [
        "#numpy.zeros will create an array filled with 0 values with the specified shape. The default dtype is float64.\n",
        "\n",
        "print(np.zeros((3,4)))"
      ],
      "metadata": {
        "colab": {
          "base_uri": "https://localhost:8080/"
        },
        "id": "CiNnf1_RNmbI",
        "outputId": "5ccd2f09-72d1-470c-bf58-9813b171a7e8"
      },
      "execution_count": 26,
      "outputs": [
        {
          "output_type": "stream",
          "name": "stdout",
          "text": [
            "[[0. 0. 0. 0.]\n",
            " [0. 0. 0. 0.]\n",
            " [0. 0. 0. 0.]]\n"
          ]
        }
      ]
    },
    {
      "cell_type": "markdown",
      "source": [
        "#Numpy Array Copy and View"
      ],
      "metadata": {
        "id": "IOpoXvu3OI8A"
      }
    },
    {
      "cell_type": "code",
      "source": [
        "# Case:1\n",
        "# Assignment does not copy the array data.\n",
        "\n",
        "x = np.arange(1,21).reshape(4,5)\n",
        "print(x)\n",
        "y = x\n",
        "\n",
        "print(id(x))\n",
        "print(id(y))\n",
        "print(x is y)"
      ],
      "metadata": {
        "colab": {
          "base_uri": "https://localhost:8080/"
        },
        "id": "mVgoh_F6Q-6k",
        "outputId": "5dc380bd-52e1-45f3-ccca-37391aae16c5"
      },
      "execution_count": 28,
      "outputs": [
        {
          "output_type": "stream",
          "name": "stdout",
          "text": [
            "[[ 1  2  3  4  5]\n",
            " [ 6  7  8  9 10]\n",
            " [11 12 13 14 15]\n",
            " [16 17 18 19 20]]\n",
            "140692015373008\n",
            "140692015373008\n",
            "True\n"
          ]
        }
      ]
    },
    {
      "cell_type": "code",
      "source": [
        "import numpy as np\n",
        "# Function call also does not make copy as Python passes references of mutable objects. Let us see that.\n",
        "def fun(param):\n",
        "  print(id(param))\n",
        "x = np.arange(1,21).reshape(4,5)\n",
        "print(id(x))\n",
        "\n",
        "fun(x)"
      ],
      "metadata": {
        "colab": {
          "base_uri": "https://localhost:8080/"
        },
        "id": "Uo_pQMR5uaa8",
        "outputId": "fb87737c-58c9-4efc-bb83-39c0a29eedfc"
      },
      "execution_count": 4,
      "outputs": [
        {
          "output_type": "stream",
          "name": "stdout",
          "text": [
            "136965075736816\n",
            "136965075736816\n"
          ]
        }
      ]
    },
    {
      "cell_type": "markdown",
      "source": [
        "# View does Shallow copy"
      ],
      "metadata": {
        "id": "Zt-XZ5FsPAag"
      }
    },
    {
      "cell_type": "code",
      "source": [
        "x = np.arange(1,21).reshape(4,5)\n",
        "y = x.view()\n",
        "y[0,0]=123 # change in y changes x meaning they share the same data. y's data is owned by x.\n",
        "print(x)"
      ],
      "metadata": {
        "colab": {
          "base_uri": "https://localhost:8080/"
        },
        "id": "foKosTXpPEQ3",
        "outputId": "f3798fe1-55c6-4789-a9e0-29f5457e7952"
      },
      "execution_count": 9,
      "outputs": [
        {
          "output_type": "stream",
          "name": "stdout",
          "text": [
            "[[123   2   3   4   5]\n",
            " [  6   7   8   9  10]\n",
            " [ 11  12  13  14  15]\n",
            " [ 16  17  18  19  20]]\n"
          ]
        }
      ]
    },
    {
      "cell_type": "markdown",
      "source": [
        "#Deep Copy"
      ],
      "metadata": {
        "id": "ZjVuKg0hQOza"
      }
    },
    {
      "cell_type": "code",
      "source": [
        "x = np.arange(1,21).reshape(4,5)\n",
        "z = x.copy()\n",
        "\n",
        "z[0,0] = 12345 # changing z does not change x as x does not share anything with z. Z holds a new copy - deep copy.\n",
        "print(x)\n"
      ],
      "metadata": {
        "colab": {
          "base_uri": "https://localhost:8080/"
        },
        "id": "7A6ZhP7yQdD1",
        "outputId": "ab890796-2ed9-446b-8700-2fc79c36ce0f"
      },
      "execution_count": 10,
      "outputs": [
        {
          "output_type": "stream",
          "name": "stdout",
          "text": [
            "[[ 1  2  3  4  5]\n",
            " [ 6  7  8  9 10]\n",
            " [11 12 13 14 15]\n",
            " [16 17 18 19 20]]\n"
          ]
        }
      ]
    },
    {
      "cell_type": "markdown",
      "source": [
        "#Array Manipulations -\n",
        "#numpy.vstack"
      ],
      "metadata": {
        "id": "DWu5jhOlZb7L"
      }
    },
    {
      "cell_type": "code",
      "source": [
        "#Stack arrays in sequence vertically (row wise).\n",
        "row1 = np.array([1, 2, 3])\n",
        "row2 = np.array([4, 5, 6])\n",
        "matrix = np.vstack((row1,row2)) # take tuple as input so () is required.\n",
        "\n",
        "\n",
        "print(matrix)"
      ],
      "metadata": {
        "colab": {
          "base_uri": "https://localhost:8080/"
        },
        "id": "V1dGVpueZjIn",
        "outputId": "23e07d95-3288-411e-e5a1-e89f272459a7"
      },
      "execution_count": 12,
      "outputs": [
        {
          "output_type": "stream",
          "name": "stdout",
          "text": [
            "[[1 2 3]\n",
            " [4 5 6]]\n"
          ]
        }
      ]
    },
    {
      "cell_type": "markdown",
      "source": [
        "#numpy.hstack"
      ],
      "metadata": {
        "id": "Z-V1HUupalHb"
      }
    },
    {
      "cell_type": "code",
      "source": [
        "#Stack arrays in sequence horizontally (column wise).\n",
        "# This is equivalent to concatenation along the second axis, except for 1-D arrays where it concatenates along the first axis.\n",
        "#1D array\n",
        "col1 = np.array([1, 2, 3])\n",
        "col2 = np.array([4, 5, 6])\n",
        "\n",
        "matrix = np.hstack((col1,col2))\n",
        "print(matrix)\n",
        "\n",
        "#2D example\n",
        "a1 = np.array([[1, 2, 3],[4,5,6]])\n",
        "a2 = np.array([[7, 8, 9],[10,11,12]])\n",
        "\n",
        "print('Horizontal Stack')\n",
        "matrix_1 = np.hstack((a1,a2))\n",
        "print(matrix_1)\n",
        "\n",
        "print('Verticle Stack')\n",
        "matrix_2 = np.vstack((a1,a2))\n",
        "print(matrix_2)"
      ],
      "metadata": {
        "colab": {
          "base_uri": "https://localhost:8080/"
        },
        "id": "PYeIT45CapTU",
        "outputId": "824ae941-2c7d-4b94-c781-3a4813b6abb2"
      },
      "execution_count": 15,
      "outputs": [
        {
          "output_type": "stream",
          "name": "stdout",
          "text": [
            "[1 2 3 4 5 6]\n",
            "[[ 1  2  3  7  8  9]\n",
            " [ 4  5  6 10 11 12]]\n",
            "[[ 1  2  3]\n",
            " [ 4  5  6]\n",
            " [ 7  8  9]\n",
            " [10 11 12]]\n"
          ]
        }
      ]
    },
    {
      "cell_type": "markdown",
      "source": [
        "#numpy.dstack"
      ],
      "metadata": {
        "id": "lgrs4xKgcdWY"
      }
    },
    {
      "cell_type": "code",
      "source": [
        "# Stack arrays in sequence depth wise (along third axis).\n",
        "# It concatenates along the third axis after 2-D arrays of shape (M,N) have been reshaped to (M,N,1)\n",
        "# and 1-D arrays of shape (N,) have been reshaped to (1,N,1)\n",
        "# output 3D array\n",
        "print('1D example')\n",
        "a1 = np.array([1, 2, 3, 4, 5, 6])\n",
        "a2 = np.array([7, 8, 9,10,11,12])\n",
        "\n",
        "matrix_2_3D = np.dstack((a1,a2))\n",
        "print(matrix_2_3D)\n",
        "\n",
        "print('2D example')\n",
        "a3 = np.array([[1, 2, 3],[4,5,6]])\n",
        "a4 = np.array([[7, 8, 9],[10,11,12]])\n",
        "matrix_2_3D = np.dstack((a3,a4))\n",
        "\n",
        "print(matrix_2_3D)\n"
      ],
      "metadata": {
        "colab": {
          "base_uri": "https://localhost:8080/"
        },
        "id": "VTym0TdPcf-p",
        "outputId": "e814524d-e534-4c35-f5f6-673903a54dc7"
      },
      "execution_count": 18,
      "outputs": [
        {
          "output_type": "stream",
          "name": "stdout",
          "text": [
            "1D example\n",
            "[[[ 1  7]\n",
            "  [ 2  8]\n",
            "  [ 3  9]\n",
            "  [ 4 10]\n",
            "  [ 5 11]\n",
            "  [ 6 12]]]\n",
            "2D example\n",
            "[[[ 1  7]\n",
            "  [ 2  8]\n",
            "  [ 3  9]]\n",
            "\n",
            " [[ 4 10]\n",
            "  [ 5 11]\n",
            "  [ 6 12]]]\n"
          ]
        }
      ]
    },
    {
      "cell_type": "markdown",
      "source": [
        "#split and array_split"
      ],
      "metadata": {
        "id": "kH8uxBo9iMxJ"
      }
    },
    {
      "cell_type": "code",
      "source": [
        "import numpy as np\n",
        "#split - divides or splits into equal size sub array\n",
        "# Split an array into multiple sub-arrays as views into array.\n",
        "# numpy.split(ary, indices_or_sections, axis=0)\n",
        "# indices_or_sections can be either int or 1-D array\n",
        "x = np.arange(12.0)\n",
        "y = np.split(x,3)\n",
        "print(y)\n",
        "\n",
        "# now, if you put indices as 1D array\n",
        "y = np.split(x,[3,5,6])\n",
        "print(y)"
      ],
      "metadata": {
        "colab": {
          "base_uri": "https://localhost:8080/"
        },
        "id": "vW8BYmbjiQxz",
        "outputId": "1389e8e1-cbc2-4a50-fc49-e9778470478d"
      },
      "execution_count": 22,
      "outputs": [
        {
          "output_type": "stream",
          "name": "stdout",
          "text": [
            "[array([0., 1., 2., 3.]), array([4., 5., 6., 7.]), array([ 8.,  9., 10., 11.])]\n",
            "[array([0., 1., 2.]), array([3., 4.]), array([5.]), array([ 6.,  7.,  8.,  9., 10., 11.])]\n"
          ]
        }
      ]
    },
    {
      "cell_type": "code",
      "source": [
        "# array_split allows indices_or_sections to be an integer that does not equally divide the axis.\n",
        "x = np.arange(12.0)\n",
        "y = np.array_split(x,5) # it allows unequal subarray.\n",
        "print(y)"
      ],
      "metadata": {
        "colab": {
          "base_uri": "https://localhost:8080/"
        },
        "id": "dZwUN2M7jeZO",
        "outputId": "af912698-c840-4749-ad53-5700b3a72faf"
      },
      "execution_count": 25,
      "outputs": [
        {
          "output_type": "stream",
          "name": "stdout",
          "text": [
            "[array([0., 1., 2.]), array([3., 4., 5.]), array([6., 7.]), array([8., 9.]), array([10., 11.])]\n"
          ]
        }
      ]
    },
    {
      "cell_type": "code",
      "source": [
        "#dsplit\n",
        "\n",
        "x = np.arange(16.0).reshape(2,4,2)\n",
        "print(x)\n",
        "\n",
        "y = np.dsplit(x,2)\n",
        "print(y)"
      ],
      "metadata": {
        "colab": {
          "base_uri": "https://localhost:8080/"
        },
        "id": "V-AbpVDcluwG",
        "outputId": "6e62dd61-efce-4b91-c5dd-70a2450cf5f6"
      },
      "execution_count": 38,
      "outputs": [
        {
          "output_type": "stream",
          "name": "stdout",
          "text": [
            "[[[ 0.  1.]\n",
            "  [ 2.  3.]\n",
            "  [ 4.  5.]\n",
            "  [ 6.  7.]]\n",
            "\n",
            " [[ 8.  9.]\n",
            "  [10. 11.]\n",
            "  [12. 13.]\n",
            "  [14. 15.]]]\n",
            "[array([[[ 0.],\n",
            "        [ 2.],\n",
            "        [ 4.],\n",
            "        [ 6.]],\n",
            "\n",
            "       [[ 8.],\n",
            "        [10.],\n",
            "        [12.],\n",
            "        [14.]]]), array([[[ 1.],\n",
            "        [ 3.],\n",
            "        [ 5.],\n",
            "        [ 7.]],\n",
            "\n",
            "       [[ 9.],\n",
            "        [11.],\n",
            "        [13.],\n",
            "        [15.]]])]\n"
          ]
        }
      ]
    },
    {
      "cell_type": "code",
      "source": [
        "#hsplit\n",
        "x = np.arange(16.0).reshape(4,4)\n",
        "print(x)\n",
        "\n",
        "y = np.hsplit(x,2)\n",
        "print(y)"
      ],
      "metadata": {
        "colab": {
          "base_uri": "https://localhost:8080/"
        },
        "id": "MPrgi-iUqlCc",
        "outputId": "da6ca62d-724e-4059-c49f-82df2f3709ec"
      },
      "execution_count": 39,
      "outputs": [
        {
          "output_type": "stream",
          "name": "stdout",
          "text": [
            "[[ 0.  1.  2.  3.]\n",
            " [ 4.  5.  6.  7.]\n",
            " [ 8.  9. 10. 11.]\n",
            " [12. 13. 14. 15.]]\n",
            "[array([[ 0.,  1.],\n",
            "       [ 4.,  5.],\n",
            "       [ 8.,  9.],\n",
            "       [12., 13.]]), array([[ 2.,  3.],\n",
            "       [ 6.,  7.],\n",
            "       [10., 11.],\n",
            "       [14., 15.]])]\n"
          ]
        }
      ]
    },
    {
      "cell_type": "code",
      "source": [
        "#vsplit\n",
        "x = np.arange(16.0).reshape(4,4)\n",
        "print(x)\n",
        "\n",
        "y = np.vsplit(x,2)\n",
        "print(y)"
      ],
      "metadata": {
        "colab": {
          "base_uri": "https://localhost:8080/"
        },
        "id": "c32_i3neqwsm",
        "outputId": "0d62301c-7594-453e-f873-9f8573c81b79"
      },
      "execution_count": 40,
      "outputs": [
        {
          "output_type": "stream",
          "name": "stdout",
          "text": [
            "[[ 0.  1.  2.  3.]\n",
            " [ 4.  5.  6.  7.]\n",
            " [ 8.  9. 10. 11.]\n",
            " [12. 13. 14. 15.]]\n",
            "[array([[0., 1., 2., 3.],\n",
            "       [4., 5., 6., 7.]]), array([[ 8.,  9., 10., 11.],\n",
            "       [12., 13., 14., 15.]])]\n"
          ]
        }
      ]
    },
    {
      "cell_type": "code",
      "source": [
        "#tile - Construct an array by repeating A the number of times given by reps.\n",
        "x = np.array([1,2,3])\n",
        "y = np.tile(x,2)\n",
        "print(y)\n",
        "\n",
        "y = np.tile(x,(2,1))\n",
        "print(y)\n",
        "\n",
        "#for 2D\n",
        "x = np.array([[1,2],[3,4]])\n",
        "y= np.tile(x,2)\n",
        "print(y)\n",
        "\n",
        "y = np.tile(x,(2,1))\n",
        "print(y)"
      ],
      "metadata": {
        "colab": {
          "base_uri": "https://localhost:8080/"
        },
        "id": "Y3ytP5c-rPUs",
        "outputId": "2f6ed088-53c3-406c-8349-0de6b5be2943"
      },
      "execution_count": 46,
      "outputs": [
        {
          "output_type": "stream",
          "name": "stdout",
          "text": [
            "[1 2 3 1 2 3]\n",
            "[[1 2 3]\n",
            " [1 2 3]]\n",
            "[[1 2 1 2]\n",
            " [3 4 3 4]]\n",
            "[[1 2]\n",
            " [3 4]\n",
            " [1 2]\n",
            " [3 4]]\n"
          ]
        }
      ]
    },
    {
      "cell_type": "code",
      "source": [
        "#repeat\n",
        "# numpy.repeat(a, repeats, axis=None)\n",
        "# Repeat each element of an array after themselves\n",
        "import numpy as np\n",
        "x = np.array([1,2,3,4])\n",
        "y = np.repeat(x,3) # = each element is repeated 4 times.\n",
        "print(y)\n",
        "\n",
        "# Let us see for 2D array\n",
        "x_2D = np.array([[1,2],[3,4]])\n",
        "y_2D = np.repeat(x_2D,3,0) # three times repeat row-wise\n",
        "print('Axis=0 | row-wise repeatition')\n",
        "print(y_2D)\n",
        "\n",
        "y_2D = np.repeat(x_2D,3,1) # three times repeat column-wise\n",
        "print('Axis=1 | col-wise repeatition')\n",
        "print(y_2D)\n",
        "\n",
        "#Different elements different count\n",
        "y_2D = np.repeat(x_2D,[2,3],0) # three times repeat row-wise\n",
        "print('Axis=0 | row-wise repeatition | first element repeat 2 & second element repeat 3')\n",
        "print(y_2D)"
      ],
      "metadata": {
        "colab": {
          "base_uri": "https://localhost:8080/"
        },
        "id": "cjiuuwMwtSUm",
        "outputId": "8d969108-dab0-4cd9-bda7-8a2f7a2b7671"
      },
      "execution_count": 12,
      "outputs": [
        {
          "output_type": "stream",
          "name": "stdout",
          "text": [
            "[1 1 1 2 2 2 3 3 3 4 4 4]\n",
            "Axis=0 | row-wise repeatition\n",
            "[[1 2]\n",
            " [1 2]\n",
            " [1 2]\n",
            " [3 4]\n",
            " [3 4]\n",
            " [3 4]]\n",
            "Axis=1 | col-wise repeatition\n",
            "[[1 1 1 2 2 2]\n",
            " [3 3 3 4 4 4]]\n",
            "Axis=0 | row-wise repeatition | first element repeat 2 & second element repeat 3\n",
            "[[1 2]\n",
            " [1 2]\n",
            " [3 4]\n",
            " [3 4]\n",
            " [3 4]]\n"
          ]
        }
      ]
    },
    {
      "cell_type": "markdown",
      "source": [
        "#delete"
      ],
      "metadata": {
        "id": "q8pkIffCwW_f"
      }
    },
    {
      "cell_type": "code",
      "source": [
        "# delete - Return a new array with sub-arrays along an axis deleted.\n",
        "# numpy.delete(arr, obj, axis=None).\n",
        "#\n",
        "\n",
        "x = np.array([[1,2,3,4], [5,6,7,8], [9,10,11,12]])\n",
        "\n",
        "#Let us delete  second row | index=1\n",
        "print('Before Deletion')\n",
        "print(x)\n",
        "y = np.delete(x,1,0)\n",
        "print('After Deletion')\n",
        "print(y)\n",
        "\n"
      ],
      "metadata": {
        "colab": {
          "base_uri": "https://localhost:8080/"
        },
        "id": "eI0D7cDlwYtm",
        "outputId": "4d7dc50b-8633-4928-8764-3ce05e044573"
      },
      "execution_count": 14,
      "outputs": [
        {
          "output_type": "stream",
          "name": "stdout",
          "text": [
            "Before Deletion\n",
            "[[ 1  2  3  4]\n",
            " [ 5  6  7  8]\n",
            " [ 9 10 11 12]]\n",
            "After Deletion\n",
            "[[ 1  2  3  4]\n",
            " [ 9 10 11 12]]\n"
          ]
        }
      ]
    },
    {
      "cell_type": "markdown",
      "source": [
        "#Concatenate"
      ],
      "metadata": {
        "id": "-IqW5bBTzfz_"
      }
    },
    {
      "cell_type": "code",
      "source": [
        "#concatenate\n",
        "x = np.array([[1, 2], [3, 4]])\n",
        "y = np.array([[5, 6]])\n",
        "z1 = np.concatenate((x,y),axis=0)\n",
        "print(z1)\n",
        "\n",
        "z2 = np.concatenate((x,y.T),axis=1) # if you do not make y.T, it will throw error. As this will add column-wise, then row count for both the array must match.\n",
        "print(z2)\n",
        "\n",
        "z3 = np.concatenate((x,y),axis=None) # add all in 1D\n",
        "print(z3)"
      ],
      "metadata": {
        "colab": {
          "base_uri": "https://localhost:8080/"
        },
        "id": "PX0fM6jHzi3f",
        "outputId": "4b7d84a4-6dd9-4245-ac33-bbb5557d8dd9"
      },
      "execution_count": 19,
      "outputs": [
        {
          "output_type": "stream",
          "name": "stdout",
          "text": [
            "[[1 2]\n",
            " [3 4]\n",
            " [5 6]]\n",
            "[[1 2 5]\n",
            " [3 4 6]]\n",
            "[1 2 3 4 5 6]\n"
          ]
        }
      ]
    },
    {
      "cell_type": "markdown",
      "source": [
        "#copyto"
      ],
      "metadata": {
        "id": "UzopcBl61Qt6"
      }
    },
    {
      "cell_type": "code",
      "source": [
        "x = np.array([[1, 2, 3], [4, 5, 6]])\n",
        "y = [[4, 5, 6], [7, 8, 9]]\n",
        "np.copyto(x, y) # copyto(dst,src) y will be copied to x\n",
        "print(x) # x is now copied from y\n"
      ],
      "metadata": {
        "colab": {
          "base_uri": "https://localhost:8080/"
        },
        "id": "Iesryf3z1Ryw",
        "outputId": "21c1154e-0d40-4006-91d9-da8fcea36506"
      },
      "execution_count": 20,
      "outputs": [
        {
          "output_type": "stream",
          "name": "stdout",
          "text": [
            "[[4 5 6]\n",
            " [7 8 9]]\n"
          ]
        }
      ]
    },
    {
      "cell_type": "markdown",
      "source": [
        "#shape"
      ],
      "metadata": {
        "id": "Wg2NneHl5o7F"
      }
    },
    {
      "cell_type": "code",
      "source": [
        "#shape - returns shape of an array\n",
        "x_1d = np.array([1,2,3,4,5,6])\n",
        "x_2d = np.array([[1,2],[3,4],[5,6]])\n",
        "x_3d = np.array([[[1,2],[3,4]],[[5,6],[7,8]]])\n",
        "\n",
        "print(x_1d.shape)\n",
        "print(x_2d.shape)\n",
        "print(x_3d.shape)\n"
      ],
      "metadata": {
        "colab": {
          "base_uri": "https://localhost:8080/"
        },
        "id": "BbkYVD-X5q9Z",
        "outputId": "92758c63-5f10-4258-9ff1-7a4027d97dc6"
      },
      "execution_count": 25,
      "outputs": [
        {
          "output_type": "stream",
          "name": "stdout",
          "text": [
            "(6,)\n",
            "(3, 2)\n",
            "(2, 2, 2)\n"
          ]
        }
      ]
    },
    {
      "cell_type": "markdown",
      "source": [
        "#reshape"
      ],
      "metadata": {
        "id": "NM9zQFzYcEGZ"
      }
    },
    {
      "cell_type": "code",
      "source": [
        "#reshape - Gives a new shape to an array without changing its data.\n",
        "x_1d = np.array([1,2,3,4,5,6])\n",
        "\n",
        "#make 2d\n",
        "print('2x3')\n",
        "y_2d = np.reshape(x_1d,(2,3))\n",
        "print(y_2d)\n",
        "\n",
        "#make 2d with 3x2\n",
        "print('3x2')\n",
        "y_2d = np.reshape(x_1d,(3,2))\n",
        "print(y_2d)\n",
        "#make 3d\n",
        "print('1x3x2') # 1 3D array with 3 rows 2 cols\n",
        "y_2d = np.reshape(x_1d,(1,3,2))\n",
        "print(y_2d)\n",
        "\n",
        "print('1x2X3') # 1 3D array with 2 rows 3 cols\n",
        "y_2d = np.reshape(x_1d,(1,2,3))\n",
        "print(y_2d)\n",
        "\n",
        "print('3x1x2') # 3 3D array with 1 rows 2 cols\n",
        "y_2d = np.reshape(x_1d,(3,1,2))\n",
        "print(y_2d)"
      ],
      "metadata": {
        "colab": {
          "base_uri": "https://localhost:8080/"
        },
        "id": "r_Pw17AfcCG7",
        "outputId": "c2cc78ad-ced8-4948-d3b8-6836ec437698"
      },
      "execution_count": 29,
      "outputs": [
        {
          "output_type": "stream",
          "name": "stdout",
          "text": [
            "2x3\n",
            "[[1 2 3]\n",
            " [4 5 6]]\n",
            "3x2\n",
            "[[1 2]\n",
            " [3 4]\n",
            " [5 6]]\n",
            "1x3x2\n",
            "[[[1 2]\n",
            "  [3 4]\n",
            "  [5 6]]]\n",
            "1x2X3\n",
            "[[[1 2 3]\n",
            "  [4 5 6]]]\n",
            "3x1x2\n",
            "[[[1 2]]\n",
            "\n",
            " [[3 4]]\n",
            "\n",
            " [[5 6]]]\n"
          ]
        }
      ]
    },
    {
      "cell_type": "markdown",
      "source": [
        "#ravel\n"
      ],
      "metadata": {
        "id": "a-jqSgFgdk3X"
      }
    },
    {
      "cell_type": "code",
      "source": [
        "#np.ravel - Return a contiguous flattened array.\n",
        "x = np.array([[[1,2,3],[4,5,6],[7,8,9]],[[11,21,31],[41,51,61],[71,81,91]],[[111,211,311],[411,511,611],[711,811,911]]])\n",
        "print('a 3D array')\n",
        "print(x)\n",
        "\n",
        "#now, using ravel, you can get a flattened array\n",
        "\n",
        "y = np.ravel(x)\n",
        "print(y)"
      ],
      "metadata": {
        "colab": {
          "base_uri": "https://localhost:8080/"
        },
        "id": "d8GRIKb3eNN3",
        "outputId": "67ea22a7-8bbe-4cd9-d518-8486145acfd7"
      },
      "execution_count": 30,
      "outputs": [
        {
          "output_type": "stream",
          "name": "stdout",
          "text": [
            "a 3D array\n",
            "[[[  1   2   3]\n",
            "  [  4   5   6]\n",
            "  [  7   8   9]]\n",
            "\n",
            " [[ 11  21  31]\n",
            "  [ 41  51  61]\n",
            "  [ 71  81  91]]\n",
            "\n",
            " [[111 211 311]\n",
            "  [411 511 611]\n",
            "  [711 811 911]]]\n",
            "[  1   2   3   4   5   6   7   8   9  11  21  31  41  51  61  71  81  91\n",
            " 111 211 311 411 511 611 711 811 911]\n"
          ]
        }
      ]
    },
    {
      "cell_type": "markdown",
      "source": [
        "#flat"
      ],
      "metadata": {
        "id": "ZAtey3oveqAv"
      }
    },
    {
      "cell_type": "code",
      "source": [
        "#np.ndarray.flat - > A 1-D iterator over the array.\n",
        "\n",
        "x = np.array([[1,2,3],[4,5,6],[7,8,9]]) #2D array\n",
        "\n",
        "# let us get the 6th element from the array.\n",
        "y = x.flat[5]\n",
        "print(y) # this is an 1D iterator.\n",
        "\n"
      ],
      "metadata": {
        "colab": {
          "base_uri": "https://localhost:8080/"
        },
        "id": "f9bRGN3hfLSF",
        "outputId": "8f18e62e-f426-4905-a4d3-7bfe82ffe0fe"
      },
      "execution_count": 33,
      "outputs": [
        {
          "output_type": "stream",
          "name": "stdout",
          "text": [
            "6\n"
          ]
        }
      ]
    },
    {
      "cell_type": "markdown",
      "source": [
        "#flatten"
      ],
      "metadata": {
        "id": "3Eb4Isl7gAAC"
      }
    },
    {
      "cell_type": "code",
      "source": [
        "#numpy.ndarray.flatten -> Return a copy of the array collapsed into one dimension.\n",
        "x = np.array([[[1,2,3],[4,5,6],[7,8,9]],[[11,21,31],[41,51,61],[71,81,91]],[[111,211,311],[411,511,611],[711,811,911]]])\n",
        "\n",
        "y = x.flatten() # y - new array flattened into 1D\n",
        "print(y)\n"
      ],
      "metadata": {
        "colab": {
          "base_uri": "https://localhost:8080/"
        },
        "id": "_V5iRHYpgBKj",
        "outputId": "a3568004-e714-47ef-e386-69cbed0dcd38"
      },
      "execution_count": 34,
      "outputs": [
        {
          "output_type": "stream",
          "name": "stdout",
          "text": [
            "[  1   2   3   4   5   6   7   8   9  11  21  31  41  51  61  71  81  91\n",
            " 111 211 311 411 511 611 711 811 911]\n"
          ]
        }
      ]
    },
    {
      "cell_type": "markdown",
      "source": [
        "#moveaxis"
      ],
      "metadata": {
        "id": "zDBoKQ83hMX1"
      }
    },
    {
      "cell_type": "code",
      "source": [
        "#moveaxis - > Move axes of an array to new positions.\n",
        "# numpy.moveaxis(a, source, destination)\n",
        "x = np.array([[[1,2,3],[4,5,6],[7,8,9]],[[11,21,31],[41,51,61],[71,81,91]],[[111,211,311],[411,511,611],[711,811,911]]])\n",
        "\n",
        "print('actual array')\n",
        "print(x)\n",
        "y = np.moveaxis(x,1,0) # source axis =1 and dest axis = 2\n",
        "print('after axis movement')\n",
        "print(y)\n"
      ],
      "metadata": {
        "colab": {
          "base_uri": "https://localhost:8080/"
        },
        "id": "yBgqOh7dhNuw",
        "outputId": "e0c040c6-4673-4ac3-ad2d-49219c33f773"
      },
      "execution_count": 40,
      "outputs": [
        {
          "output_type": "stream",
          "name": "stdout",
          "text": [
            "actual array\n",
            "[[[  1   2   3]\n",
            "  [  4   5   6]\n",
            "  [  7   8   9]]\n",
            "\n",
            " [[ 11  21  31]\n",
            "  [ 41  51  61]\n",
            "  [ 71  81  91]]\n",
            "\n",
            " [[111 211 311]\n",
            "  [411 511 611]\n",
            "  [711 811 911]]]\n",
            "after axis movement\n",
            "[[[  1   2   3]\n",
            "  [ 11  21  31]\n",
            "  [111 211 311]]\n",
            "\n",
            " [[  4   5   6]\n",
            "  [ 41  51  61]\n",
            "  [411 511 611]]\n",
            "\n",
            " [[  7   8   9]\n",
            "  [ 71  81  91]\n",
            "  [711 811 911]]]\n"
          ]
        }
      ]
    },
    {
      "cell_type": "code",
      "source": [
        "#np.swapaxes -> Interchange two axes of an array.\n",
        "x = np.array([[[1,2,3],[4,5,6],[7,8,9]],[[11,21,31],[41,51,61],[71,81,91]],[[111,211,311],[411,511,611],[711,811,911]]])\n",
        "print(x)\n",
        "y = np.swapaxes(x,1,2)\n",
        "print(y)\n"
      ],
      "metadata": {
        "colab": {
          "base_uri": "https://localhost:8080/"
        },
        "id": "517JHDA0jo3m",
        "outputId": "82a683a3-28c3-4a6c-9206-f5824fede9d6"
      },
      "execution_count": 43,
      "outputs": [
        {
          "output_type": "stream",
          "name": "stdout",
          "text": [
            "[[[  1   2   3]\n",
            "  [  4   5   6]\n",
            "  [  7   8   9]]\n",
            "\n",
            " [[ 11  21  31]\n",
            "  [ 41  51  61]\n",
            "  [ 71  81  91]]\n",
            "\n",
            " [[111 211 311]\n",
            "  [411 511 611]\n",
            "  [711 811 911]]]\n",
            "[[[  1   4   7]\n",
            "  [  2   5   8]\n",
            "  [  3   6   9]]\n",
            "\n",
            " [[ 11  41  71]\n",
            "  [ 21  51  81]\n",
            "  [ 31  61  91]]\n",
            "\n",
            " [[111 411 711]\n",
            "  [211 511 811]\n",
            "  [311 611 911]]]\n"
          ]
        }
      ]
    },
    {
      "cell_type": "markdown",
      "source": [
        "#numpy.ndarray.T"
      ],
      "metadata": {
        "id": "YoCw9wQKkq1D"
      }
    },
    {
      "cell_type": "code",
      "source": [
        "# numpy.ndarray.T -> View of the transposed array\n",
        "# this is an attribute\n",
        "\n",
        "#x = np.array([[[1,2,3],[4,5,6],[7,8,9]],[[11,21,31],[41,51,61],[71,81,91]],[[111,211,311],[411,511,611],[711,811,911]]])\n",
        "x = np.array([[1,2,3],[4,5,6],[7,8,9]])\n",
        "print(x)\n",
        "y = x.T\n",
        "print(y)\n",
        "\n",
        "print('3D transpose')\n",
        "x = np.array([[[1,2,3],[4,5,6],[7,8,9]],[[11,21,31],[41,51,61],[71,81,91]],[[111,211,311],[411,511,611],[711,811,911]]])\n",
        "print(x)\n",
        "y = x.T\n",
        "print(y)"
      ],
      "metadata": {
        "colab": {
          "base_uri": "https://localhost:8080/"
        },
        "id": "waGcztnaksQu",
        "outputId": "39bacb5d-a0b5-402a-f007-6d3688b201de"
      },
      "execution_count": 47,
      "outputs": [
        {
          "output_type": "stream",
          "name": "stdout",
          "text": [
            "[[1 2 3]\n",
            " [4 5 6]\n",
            " [7 8 9]]\n",
            "[[1 4 7]\n",
            " [2 5 8]\n",
            " [3 6 9]]\n",
            "3D transpose\n",
            "[[[  1   2   3]\n",
            "  [  4   5   6]\n",
            "  [  7   8   9]]\n",
            "\n",
            " [[ 11  21  31]\n",
            "  [ 41  51  61]\n",
            "  [ 71  81  91]]\n",
            "\n",
            " [[111 211 311]\n",
            "  [411 511 611]\n",
            "  [711 811 911]]]\n",
            "[[[  1  11 111]\n",
            "  [  4  41 411]\n",
            "  [  7  71 711]]\n",
            "\n",
            " [[  2  21 211]\n",
            "  [  5  51 511]\n",
            "  [  8  81 811]]\n",
            "\n",
            " [[  3  31 311]\n",
            "  [  6  61 611]\n",
            "  [  9  91 911]]]\n"
          ]
        }
      ]
    },
    {
      "cell_type": "markdown",
      "source": [
        "#numpy.transpose"
      ],
      "metadata": {
        "id": "SnmPoO_omzGT"
      }
    },
    {
      "cell_type": "code",
      "source": [
        "# numpy.transpose -> returns an array with axes transposed\n",
        "x = np.array([[1,2,3],[4,5,6],[7,8,9]])\n",
        "print(x)\n",
        "y = np.transpose(x)\n",
        "print(y)\n",
        "\n",
        "print('3D transpose')\n",
        "x = np.array([[[1,2,3],[4,5,6],[7,8,9]],[[11,21,31],[41,51,61],[71,81,91]],[[111,211,311],[411,511,611],[711,811,911]]])\n",
        "print(x)\n",
        "y = np.transpose(x)\n",
        "print(y)"
      ],
      "metadata": {
        "colab": {
          "base_uri": "https://localhost:8080/"
        },
        "id": "CGN_gia2m0Oo",
        "outputId": "a269c2d6-36bd-4c21-b888-a6d37349b2f0"
      },
      "execution_count": 48,
      "outputs": [
        {
          "output_type": "stream",
          "name": "stdout",
          "text": [
            "[[1 2 3]\n",
            " [4 5 6]\n",
            " [7 8 9]]\n",
            "[[1 4 7]\n",
            " [2 5 8]\n",
            " [3 6 9]]\n",
            "3D transpose\n",
            "[[[  1   2   3]\n",
            "  [  4   5   6]\n",
            "  [  7   8   9]]\n",
            "\n",
            " [[ 11  21  31]\n",
            "  [ 41  51  61]\n",
            "  [ 71  81  91]]\n",
            "\n",
            " [[111 211 311]\n",
            "  [411 511 611]\n",
            "  [711 811 911]]]\n",
            "[[[  1  11 111]\n",
            "  [  4  41 411]\n",
            "  [  7  71 711]]\n",
            "\n",
            " [[  2  21 211]\n",
            "  [  5  51 511]\n",
            "  [  8  81 811]]\n",
            "\n",
            " [[  3  31 311]\n",
            "  [  6  61 611]\n",
            "  [  9  91 911]]]\n"
          ]
        }
      ]
    },
    {
      "cell_type": "markdown",
      "source": [
        "#np.asarray"
      ],
      "metadata": {
        "id": "-xKTpjvFnipn"
      }
    },
    {
      "cell_type": "code",
      "source": [
        "x = [1,2,3,4]\n",
        "print(type(x))\n",
        "y = np.asarray(x)\n",
        "print(y)\n",
        "print(type(y))"
      ],
      "metadata": {
        "colab": {
          "base_uri": "https://localhost:8080/"
        },
        "id": "sH-YuoyOnlLH",
        "outputId": "5c5ad184-e18a-4c29-fc09-28287adb3f47"
      },
      "execution_count": 50,
      "outputs": [
        {
          "output_type": "stream",
          "name": "stdout",
          "text": [
            "<class 'list'>\n",
            "[1 2 3 4]\n",
            "<class 'numpy.ndarray'>\n"
          ]
        }
      ]
    },
    {
      "cell_type": "markdown",
      "source": [
        "# numpy.squeeze"
      ],
      "metadata": {
        "id": "CF7hZRNQoPQF"
      }
    },
    {
      "cell_type": "code",
      "source": [
        "# numpy.squeeze -> numpy.squeeze(a, axis=None)\n",
        "# Remove axes of length one from array.\n",
        "\n",
        "x = np.array([[1],[2],[5]])\n",
        "\n",
        "y = x.squeeze()\n",
        "print(y)"
      ],
      "metadata": {
        "colab": {
          "base_uri": "https://localhost:8080/"
        },
        "id": "IwgGoKsjoScf",
        "outputId": "2b27b90b-c37d-431f-c75e-a40272827d03"
      },
      "execution_count": 57,
      "outputs": [
        {
          "output_type": "stream",
          "name": "stdout",
          "text": [
            "[1 2 5]\n"
          ]
        }
      ]
    },
    {
      "cell_type": "markdown",
      "source": [
        "# numpy.expand_dims"
      ],
      "metadata": {
        "id": "Pl-liJ83poil"
      }
    },
    {
      "cell_type": "code",
      "source": [
        "# numpy.expand_dims\n",
        "# Expand the shape of an array.\n",
        "# Insert a new axis that will appear at the axis position in the expanded array shape.\n",
        "x = np.array([1, 2, 3, 4])\n",
        "\n",
        "y = np.expand_dims(x,axis=0)\n",
        "print(y)\n",
        "\n",
        "y = np.expand_dims(x,axis=1)\n",
        "print(y)\n",
        "\n",
        "y = np.expand_dims(x,axis=(0,1))\n",
        "print(y)\n",
        "\n",
        "y = np.expand_dims(x,axis=(0,2))\n",
        "print(y)\n",
        "\n",
        "y = np.expand_dims(x,axis=(2,0))\n",
        "print(y)"
      ],
      "metadata": {
        "colab": {
          "base_uri": "https://localhost:8080/"
        },
        "id": "2jZLm9Uqptrw",
        "outputId": "a8c96bd4-8146-4bf5-c9f8-2769f2b56712"
      },
      "execution_count": 61,
      "outputs": [
        {
          "output_type": "stream",
          "name": "stdout",
          "text": [
            "[[1 2 3 4]]\n",
            "[[1]\n",
            " [2]\n",
            " [3]\n",
            " [4]]\n",
            "[[[1 2 3 4]]]\n",
            "[[[1]\n",
            "  [2]\n",
            "  [3]\n",
            "  [4]]]\n",
            "[[[1]\n",
            "  [2]\n",
            "  [3]\n",
            "  [4]]]\n"
          ]
        }
      ]
    }
  ]
}