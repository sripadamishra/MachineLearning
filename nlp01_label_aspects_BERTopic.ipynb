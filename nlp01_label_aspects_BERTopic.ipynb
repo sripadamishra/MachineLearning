{
  "nbformat": 4,
  "nbformat_minor": 0,
  "metadata": {
    "colab": {
      "provenance": [],
      "gpuType": "T4"
    },
    "kernelspec": {
      "name": "python3",
      "display_name": "Python 3"
    },
    "language_info": {
      "name": "python"
    },
    "gpuClass": "standard",
    "widgets": {
      "application/vnd.jupyter.widget-state+json": {
        "dc5866d4dc6c471ca0cd045821045e2c": {
          "model_module": "@jupyter-widgets/controls",
          "model_name": "HBoxModel",
          "model_module_version": "1.5.0",
          "state": {
            "_dom_classes": [],
            "_model_module": "@jupyter-widgets/controls",
            "_model_module_version": "1.5.0",
            "_model_name": "HBoxModel",
            "_view_count": null,
            "_view_module": "@jupyter-widgets/controls",
            "_view_module_version": "1.5.0",
            "_view_name": "HBoxView",
            "box_style": "",
            "children": [
              "IPY_MODEL_e4294df9d8074330ad8ea84c03b3f78a",
              "IPY_MODEL_a1da4285d0ca46e7a77b74fac651e8a8",
              "IPY_MODEL_e907dd0197d64e50b2b41cee2e6c465f"
            ],
            "layout": "IPY_MODEL_b6784817900a4062898fa35eac5c527a"
          }
        },
        "e4294df9d8074330ad8ea84c03b3f78a": {
          "model_module": "@jupyter-widgets/controls",
          "model_name": "HTMLModel",
          "model_module_version": "1.5.0",
          "state": {
            "_dom_classes": [],
            "_model_module": "@jupyter-widgets/controls",
            "_model_module_version": "1.5.0",
            "_model_name": "HTMLModel",
            "_view_count": null,
            "_view_module": "@jupyter-widgets/controls",
            "_view_module_version": "1.5.0",
            "_view_name": "HTMLView",
            "description": "",
            "description_tooltip": null,
            "layout": "IPY_MODEL_cc3133cecfbe43ce9b44616576454790",
            "placeholder": "​",
            "style": "IPY_MODEL_90e52260ed0f4add9e5885fae4ec7255",
            "value": "Downloading https://raw.githubusercontent.com/stanfordnlp/stanza-resources/main/resources_1.5.0.json: "
          }
        },
        "a1da4285d0ca46e7a77b74fac651e8a8": {
          "model_module": "@jupyter-widgets/controls",
          "model_name": "FloatProgressModel",
          "model_module_version": "1.5.0",
          "state": {
            "_dom_classes": [],
            "_model_module": "@jupyter-widgets/controls",
            "_model_module_version": "1.5.0",
            "_model_name": "FloatProgressModel",
            "_view_count": null,
            "_view_module": "@jupyter-widgets/controls",
            "_view_module_version": "1.5.0",
            "_view_name": "ProgressView",
            "bar_style": "success",
            "description": "",
            "description_tooltip": null,
            "layout": "IPY_MODEL_458eff456d5f45eebf187e0204a803b4",
            "max": 30022,
            "min": 0,
            "orientation": "horizontal",
            "style": "IPY_MODEL_9c83b21d644442a492f448cdd84a8997",
            "value": 30022
          }
        },
        "e907dd0197d64e50b2b41cee2e6c465f": {
          "model_module": "@jupyter-widgets/controls",
          "model_name": "HTMLModel",
          "model_module_version": "1.5.0",
          "state": {
            "_dom_classes": [],
            "_model_module": "@jupyter-widgets/controls",
            "_model_module_version": "1.5.0",
            "_model_name": "HTMLModel",
            "_view_count": null,
            "_view_module": "@jupyter-widgets/controls",
            "_view_module_version": "1.5.0",
            "_view_name": "HTMLView",
            "description": "",
            "description_tooltip": null,
            "layout": "IPY_MODEL_7ee6542e1bb6484388ad56cd4ae8ed45",
            "placeholder": "​",
            "style": "IPY_MODEL_e5555795f79b43b99697c1fcf1e8a377",
            "value": " 216k/? [00:00&lt;00:00, 4.78MB/s]"
          }
        },
        "b6784817900a4062898fa35eac5c527a": {
          "model_module": "@jupyter-widgets/base",
          "model_name": "LayoutModel",
          "model_module_version": "1.2.0",
          "state": {
            "_model_module": "@jupyter-widgets/base",
            "_model_module_version": "1.2.0",
            "_model_name": "LayoutModel",
            "_view_count": null,
            "_view_module": "@jupyter-widgets/base",
            "_view_module_version": "1.2.0",
            "_view_name": "LayoutView",
            "align_content": null,
            "align_items": null,
            "align_self": null,
            "border": null,
            "bottom": null,
            "display": null,
            "flex": null,
            "flex_flow": null,
            "grid_area": null,
            "grid_auto_columns": null,
            "grid_auto_flow": null,
            "grid_auto_rows": null,
            "grid_column": null,
            "grid_gap": null,
            "grid_row": null,
            "grid_template_areas": null,
            "grid_template_columns": null,
            "grid_template_rows": null,
            "height": null,
            "justify_content": null,
            "justify_items": null,
            "left": null,
            "margin": null,
            "max_height": null,
            "max_width": null,
            "min_height": null,
            "min_width": null,
            "object_fit": null,
            "object_position": null,
            "order": null,
            "overflow": null,
            "overflow_x": null,
            "overflow_y": null,
            "padding": null,
            "right": null,
            "top": null,
            "visibility": null,
            "width": null
          }
        },
        "cc3133cecfbe43ce9b44616576454790": {
          "model_module": "@jupyter-widgets/base",
          "model_name": "LayoutModel",
          "model_module_version": "1.2.0",
          "state": {
            "_model_module": "@jupyter-widgets/base",
            "_model_module_version": "1.2.0",
            "_model_name": "LayoutModel",
            "_view_count": null,
            "_view_module": "@jupyter-widgets/base",
            "_view_module_version": "1.2.0",
            "_view_name": "LayoutView",
            "align_content": null,
            "align_items": null,
            "align_self": null,
            "border": null,
            "bottom": null,
            "display": null,
            "flex": null,
            "flex_flow": null,
            "grid_area": null,
            "grid_auto_columns": null,
            "grid_auto_flow": null,
            "grid_auto_rows": null,
            "grid_column": null,
            "grid_gap": null,
            "grid_row": null,
            "grid_template_areas": null,
            "grid_template_columns": null,
            "grid_template_rows": null,
            "height": null,
            "justify_content": null,
            "justify_items": null,
            "left": null,
            "margin": null,
            "max_height": null,
            "max_width": null,
            "min_height": null,
            "min_width": null,
            "object_fit": null,
            "object_position": null,
            "order": null,
            "overflow": null,
            "overflow_x": null,
            "overflow_y": null,
            "padding": null,
            "right": null,
            "top": null,
            "visibility": null,
            "width": null
          }
        },
        "90e52260ed0f4add9e5885fae4ec7255": {
          "model_module": "@jupyter-widgets/controls",
          "model_name": "DescriptionStyleModel",
          "model_module_version": "1.5.0",
          "state": {
            "_model_module": "@jupyter-widgets/controls",
            "_model_module_version": "1.5.0",
            "_model_name": "DescriptionStyleModel",
            "_view_count": null,
            "_view_module": "@jupyter-widgets/base",
            "_view_module_version": "1.2.0",
            "_view_name": "StyleView",
            "description_width": ""
          }
        },
        "458eff456d5f45eebf187e0204a803b4": {
          "model_module": "@jupyter-widgets/base",
          "model_name": "LayoutModel",
          "model_module_version": "1.2.0",
          "state": {
            "_model_module": "@jupyter-widgets/base",
            "_model_module_version": "1.2.0",
            "_model_name": "LayoutModel",
            "_view_count": null,
            "_view_module": "@jupyter-widgets/base",
            "_view_module_version": "1.2.0",
            "_view_name": "LayoutView",
            "align_content": null,
            "align_items": null,
            "align_self": null,
            "border": null,
            "bottom": null,
            "display": null,
            "flex": null,
            "flex_flow": null,
            "grid_area": null,
            "grid_auto_columns": null,
            "grid_auto_flow": null,
            "grid_auto_rows": null,
            "grid_column": null,
            "grid_gap": null,
            "grid_row": null,
            "grid_template_areas": null,
            "grid_template_columns": null,
            "grid_template_rows": null,
            "height": null,
            "justify_content": null,
            "justify_items": null,
            "left": null,
            "margin": null,
            "max_height": null,
            "max_width": null,
            "min_height": null,
            "min_width": null,
            "object_fit": null,
            "object_position": null,
            "order": null,
            "overflow": null,
            "overflow_x": null,
            "overflow_y": null,
            "padding": null,
            "right": null,
            "top": null,
            "visibility": null,
            "width": null
          }
        },
        "9c83b21d644442a492f448cdd84a8997": {
          "model_module": "@jupyter-widgets/controls",
          "model_name": "ProgressStyleModel",
          "model_module_version": "1.5.0",
          "state": {
            "_model_module": "@jupyter-widgets/controls",
            "_model_module_version": "1.5.0",
            "_model_name": "ProgressStyleModel",
            "_view_count": null,
            "_view_module": "@jupyter-widgets/base",
            "_view_module_version": "1.2.0",
            "_view_name": "StyleView",
            "bar_color": null,
            "description_width": ""
          }
        },
        "7ee6542e1bb6484388ad56cd4ae8ed45": {
          "model_module": "@jupyter-widgets/base",
          "model_name": "LayoutModel",
          "model_module_version": "1.2.0",
          "state": {
            "_model_module": "@jupyter-widgets/base",
            "_model_module_version": "1.2.0",
            "_model_name": "LayoutModel",
            "_view_count": null,
            "_view_module": "@jupyter-widgets/base",
            "_view_module_version": "1.2.0",
            "_view_name": "LayoutView",
            "align_content": null,
            "align_items": null,
            "align_self": null,
            "border": null,
            "bottom": null,
            "display": null,
            "flex": null,
            "flex_flow": null,
            "grid_area": null,
            "grid_auto_columns": null,
            "grid_auto_flow": null,
            "grid_auto_rows": null,
            "grid_column": null,
            "grid_gap": null,
            "grid_row": null,
            "grid_template_areas": null,
            "grid_template_columns": null,
            "grid_template_rows": null,
            "height": null,
            "justify_content": null,
            "justify_items": null,
            "left": null,
            "margin": null,
            "max_height": null,
            "max_width": null,
            "min_height": null,
            "min_width": null,
            "object_fit": null,
            "object_position": null,
            "order": null,
            "overflow": null,
            "overflow_x": null,
            "overflow_y": null,
            "padding": null,
            "right": null,
            "top": null,
            "visibility": null,
            "width": null
          }
        },
        "e5555795f79b43b99697c1fcf1e8a377": {
          "model_module": "@jupyter-widgets/controls",
          "model_name": "DescriptionStyleModel",
          "model_module_version": "1.5.0",
          "state": {
            "_model_module": "@jupyter-widgets/controls",
            "_model_module_version": "1.5.0",
            "_model_name": "DescriptionStyleModel",
            "_view_count": null,
            "_view_module": "@jupyter-widgets/base",
            "_view_module_version": "1.2.0",
            "_view_name": "StyleView",
            "description_width": ""
          }
        },
        "f3127b69b087440181ee1474a311584d": {
          "model_module": "@jupyter-widgets/controls",
          "model_name": "HBoxModel",
          "model_module_version": "1.5.0",
          "state": {
            "_dom_classes": [],
            "_model_module": "@jupyter-widgets/controls",
            "_model_module_version": "1.5.0",
            "_model_name": "HBoxModel",
            "_view_count": null,
            "_view_module": "@jupyter-widgets/controls",
            "_view_module_version": "1.5.0",
            "_view_name": "HBoxView",
            "box_style": "",
            "children": [
              "IPY_MODEL_d604ab617af84a8fa3a0ab060eee5422",
              "IPY_MODEL_d1dcdfa0d5094162b5148c4970287422",
              "IPY_MODEL_842a852380c54057bf602e07b0630ea6"
            ],
            "layout": "IPY_MODEL_cd85ed82700d4bb48e05c266060918e8"
          }
        },
        "d604ab617af84a8fa3a0ab060eee5422": {
          "model_module": "@jupyter-widgets/controls",
          "model_name": "HTMLModel",
          "model_module_version": "1.5.0",
          "state": {
            "_dom_classes": [],
            "_model_module": "@jupyter-widgets/controls",
            "_model_module_version": "1.5.0",
            "_model_name": "HTMLModel",
            "_view_count": null,
            "_view_module": "@jupyter-widgets/controls",
            "_view_module_version": "1.5.0",
            "_view_name": "HTMLView",
            "description": "",
            "description_tooltip": null,
            "layout": "IPY_MODEL_c0c38c8fc67340b0a36f17a7380eeee9",
            "placeholder": "​",
            "style": "IPY_MODEL_deddd7f7126b4d8f8403402f6fa14dca",
            "value": "Batches: 100%"
          }
        },
        "d1dcdfa0d5094162b5148c4970287422": {
          "model_module": "@jupyter-widgets/controls",
          "model_name": "FloatProgressModel",
          "model_module_version": "1.5.0",
          "state": {
            "_dom_classes": [],
            "_model_module": "@jupyter-widgets/controls",
            "_model_module_version": "1.5.0",
            "_model_name": "FloatProgressModel",
            "_view_count": null,
            "_view_module": "@jupyter-widgets/controls",
            "_view_module_version": "1.5.0",
            "_view_name": "ProgressView",
            "bar_style": "success",
            "description": "",
            "description_tooltip": null,
            "layout": "IPY_MODEL_e3914e84c2364a28bfa6a8815e4e9e85",
            "max": 157,
            "min": 0,
            "orientation": "horizontal",
            "style": "IPY_MODEL_936e6d2c7b8c4d2d9f6e3ac726205370",
            "value": 157
          }
        },
        "842a852380c54057bf602e07b0630ea6": {
          "model_module": "@jupyter-widgets/controls",
          "model_name": "HTMLModel",
          "model_module_version": "1.5.0",
          "state": {
            "_dom_classes": [],
            "_model_module": "@jupyter-widgets/controls",
            "_model_module_version": "1.5.0",
            "_model_name": "HTMLModel",
            "_view_count": null,
            "_view_module": "@jupyter-widgets/controls",
            "_view_module_version": "1.5.0",
            "_view_name": "HTMLView",
            "description": "",
            "description_tooltip": null,
            "layout": "IPY_MODEL_4c96d02ecaa04f42979cf7de0200b888",
            "placeholder": "​",
            "style": "IPY_MODEL_7e33bfe0ec524f42a522b1b76ec01a2f",
            "value": " 157/157 [01:54&lt;00:00, 11.96it/s]"
          }
        },
        "cd85ed82700d4bb48e05c266060918e8": {
          "model_module": "@jupyter-widgets/base",
          "model_name": "LayoutModel",
          "model_module_version": "1.2.0",
          "state": {
            "_model_module": "@jupyter-widgets/base",
            "_model_module_version": "1.2.0",
            "_model_name": "LayoutModel",
            "_view_count": null,
            "_view_module": "@jupyter-widgets/base",
            "_view_module_version": "1.2.0",
            "_view_name": "LayoutView",
            "align_content": null,
            "align_items": null,
            "align_self": null,
            "border": null,
            "bottom": null,
            "display": null,
            "flex": null,
            "flex_flow": null,
            "grid_area": null,
            "grid_auto_columns": null,
            "grid_auto_flow": null,
            "grid_auto_rows": null,
            "grid_column": null,
            "grid_gap": null,
            "grid_row": null,
            "grid_template_areas": null,
            "grid_template_columns": null,
            "grid_template_rows": null,
            "height": null,
            "justify_content": null,
            "justify_items": null,
            "left": null,
            "margin": null,
            "max_height": null,
            "max_width": null,
            "min_height": null,
            "min_width": null,
            "object_fit": null,
            "object_position": null,
            "order": null,
            "overflow": null,
            "overflow_x": null,
            "overflow_y": null,
            "padding": null,
            "right": null,
            "top": null,
            "visibility": null,
            "width": null
          }
        },
        "c0c38c8fc67340b0a36f17a7380eeee9": {
          "model_module": "@jupyter-widgets/base",
          "model_name": "LayoutModel",
          "model_module_version": "1.2.0",
          "state": {
            "_model_module": "@jupyter-widgets/base",
            "_model_module_version": "1.2.0",
            "_model_name": "LayoutModel",
            "_view_count": null,
            "_view_module": "@jupyter-widgets/base",
            "_view_module_version": "1.2.0",
            "_view_name": "LayoutView",
            "align_content": null,
            "align_items": null,
            "align_self": null,
            "border": null,
            "bottom": null,
            "display": null,
            "flex": null,
            "flex_flow": null,
            "grid_area": null,
            "grid_auto_columns": null,
            "grid_auto_flow": null,
            "grid_auto_rows": null,
            "grid_column": null,
            "grid_gap": null,
            "grid_row": null,
            "grid_template_areas": null,
            "grid_template_columns": null,
            "grid_template_rows": null,
            "height": null,
            "justify_content": null,
            "justify_items": null,
            "left": null,
            "margin": null,
            "max_height": null,
            "max_width": null,
            "min_height": null,
            "min_width": null,
            "object_fit": null,
            "object_position": null,
            "order": null,
            "overflow": null,
            "overflow_x": null,
            "overflow_y": null,
            "padding": null,
            "right": null,
            "top": null,
            "visibility": null,
            "width": null
          }
        },
        "deddd7f7126b4d8f8403402f6fa14dca": {
          "model_module": "@jupyter-widgets/controls",
          "model_name": "DescriptionStyleModel",
          "model_module_version": "1.5.0",
          "state": {
            "_model_module": "@jupyter-widgets/controls",
            "_model_module_version": "1.5.0",
            "_model_name": "DescriptionStyleModel",
            "_view_count": null,
            "_view_module": "@jupyter-widgets/base",
            "_view_module_version": "1.2.0",
            "_view_name": "StyleView",
            "description_width": ""
          }
        },
        "e3914e84c2364a28bfa6a8815e4e9e85": {
          "model_module": "@jupyter-widgets/base",
          "model_name": "LayoutModel",
          "model_module_version": "1.2.0",
          "state": {
            "_model_module": "@jupyter-widgets/base",
            "_model_module_version": "1.2.0",
            "_model_name": "LayoutModel",
            "_view_count": null,
            "_view_module": "@jupyter-widgets/base",
            "_view_module_version": "1.2.0",
            "_view_name": "LayoutView",
            "align_content": null,
            "align_items": null,
            "align_self": null,
            "border": null,
            "bottom": null,
            "display": null,
            "flex": null,
            "flex_flow": null,
            "grid_area": null,
            "grid_auto_columns": null,
            "grid_auto_flow": null,
            "grid_auto_rows": null,
            "grid_column": null,
            "grid_gap": null,
            "grid_row": null,
            "grid_template_areas": null,
            "grid_template_columns": null,
            "grid_template_rows": null,
            "height": null,
            "justify_content": null,
            "justify_items": null,
            "left": null,
            "margin": null,
            "max_height": null,
            "max_width": null,
            "min_height": null,
            "min_width": null,
            "object_fit": null,
            "object_position": null,
            "order": null,
            "overflow": null,
            "overflow_x": null,
            "overflow_y": null,
            "padding": null,
            "right": null,
            "top": null,
            "visibility": null,
            "width": null
          }
        },
        "936e6d2c7b8c4d2d9f6e3ac726205370": {
          "model_module": "@jupyter-widgets/controls",
          "model_name": "ProgressStyleModel",
          "model_module_version": "1.5.0",
          "state": {
            "_model_module": "@jupyter-widgets/controls",
            "_model_module_version": "1.5.0",
            "_model_name": "ProgressStyleModel",
            "_view_count": null,
            "_view_module": "@jupyter-widgets/base",
            "_view_module_version": "1.2.0",
            "_view_name": "StyleView",
            "bar_color": null,
            "description_width": ""
          }
        },
        "4c96d02ecaa04f42979cf7de0200b888": {
          "model_module": "@jupyter-widgets/base",
          "model_name": "LayoutModel",
          "model_module_version": "1.2.0",
          "state": {
            "_model_module": "@jupyter-widgets/base",
            "_model_module_version": "1.2.0",
            "_model_name": "LayoutModel",
            "_view_count": null,
            "_view_module": "@jupyter-widgets/base",
            "_view_module_version": "1.2.0",
            "_view_name": "LayoutView",
            "align_content": null,
            "align_items": null,
            "align_self": null,
            "border": null,
            "bottom": null,
            "display": null,
            "flex": null,
            "flex_flow": null,
            "grid_area": null,
            "grid_auto_columns": null,
            "grid_auto_flow": null,
            "grid_auto_rows": null,
            "grid_column": null,
            "grid_gap": null,
            "grid_row": null,
            "grid_template_areas": null,
            "grid_template_columns": null,
            "grid_template_rows": null,
            "height": null,
            "justify_content": null,
            "justify_items": null,
            "left": null,
            "margin": null,
            "max_height": null,
            "max_width": null,
            "min_height": null,
            "min_width": null,
            "object_fit": null,
            "object_position": null,
            "order": null,
            "overflow": null,
            "overflow_x": null,
            "overflow_y": null,
            "padding": null,
            "right": null,
            "top": null,
            "visibility": null,
            "width": null
          }
        },
        "7e33bfe0ec524f42a522b1b76ec01a2f": {
          "model_module": "@jupyter-widgets/controls",
          "model_name": "DescriptionStyleModel",
          "model_module_version": "1.5.0",
          "state": {
            "_model_module": "@jupyter-widgets/controls",
            "_model_module_version": "1.5.0",
            "_model_name": "DescriptionStyleModel",
            "_view_count": null,
            "_view_module": "@jupyter-widgets/base",
            "_view_module_version": "1.2.0",
            "_view_name": "StyleView",
            "description_width": ""
          }
        }
      }
    }
  },
  "cells": [
    {
      "cell_type": "markdown",
      "source": [
        "#BERTopic"
      ],
      "metadata": {
        "id": "PhZScU3K6-XT"
      }
    },
    {
      "cell_type": "markdown",
      "source": [
        "BERTopic is a topic modeling technique that uses transformers and a custom class-based TF-IDF to create dense clusters allowing for easily interpretable topics whilst keeping important words in the topic descriptions."
      ],
      "metadata": {
        "id": "pHX0SRTd7Aji"
      }
    },
    {
      "cell_type": "code",
      "source": [
        "%%capture\n",
        "!pip install bertopic\n",
        "!pip install stanza"
      ],
      "metadata": {
        "id": "Ru3rQ8dc7Mg8"
      },
      "execution_count": 2,
      "outputs": []
    },
    {
      "cell_type": "code",
      "source": [
        "import nltk\n",
        "import stanza\n",
        "nltk.download('punkt')\n",
        "nltk.download('stopwords')\n",
        "nltk.download('wordnet')\n",
        "stanza.download('en')"
      ],
      "metadata": {
        "colab": {
          "base_uri": "https://localhost:8080/",
          "height": 233,
          "referenced_widgets": [
            "dc5866d4dc6c471ca0cd045821045e2c",
            "e4294df9d8074330ad8ea84c03b3f78a",
            "a1da4285d0ca46e7a77b74fac651e8a8",
            "e907dd0197d64e50b2b41cee2e6c465f",
            "b6784817900a4062898fa35eac5c527a",
            "cc3133cecfbe43ce9b44616576454790",
            "90e52260ed0f4add9e5885fae4ec7255",
            "458eff456d5f45eebf187e0204a803b4",
            "9c83b21d644442a492f448cdd84a8997",
            "7ee6542e1bb6484388ad56cd4ae8ed45",
            "e5555795f79b43b99697c1fcf1e8a377"
          ]
        },
        "id": "Uc6vGXrMJqLR",
        "outputId": "1fb30e8f-c9b1-4c59-ed10-95189c6146b6"
      },
      "execution_count": 3,
      "outputs": [
        {
          "output_type": "stream",
          "name": "stderr",
          "text": [
            "[nltk_data] Downloading package punkt to /root/nltk_data...\n",
            "[nltk_data]   Package punkt is already up-to-date!\n",
            "[nltk_data] Downloading package stopwords to /root/nltk_data...\n",
            "[nltk_data]   Package stopwords is already up-to-date!\n",
            "[nltk_data] Downloading package wordnet to /root/nltk_data...\n",
            "[nltk_data]   Package wordnet is already up-to-date!\n"
          ]
        },
        {
          "output_type": "display_data",
          "data": {
            "text/plain": [
              "Downloading https://raw.githubusercontent.com/stanfordnlp/stanza-resources/main/resources_1.5.0.json:   0%|   …"
            ],
            "application/vnd.jupyter.widget-view+json": {
              "version_major": 2,
              "version_minor": 0,
              "model_id": "dc5866d4dc6c471ca0cd045821045e2c"
            }
          },
          "metadata": {}
        },
        {
          "output_type": "stream",
          "name": "stderr",
          "text": [
            "INFO:stanza:Downloading default packages for language: en (English) ...\n",
            "INFO:stanza:File exists: /root/stanza_resources/en/default.zip\n",
            "INFO:stanza:Finished downloading models and saved to /root/stanza_resources.\n"
          ]
        }
      ]
    },
    {
      "cell_type": "markdown",
      "source": [
        "# CONSTANTS"
      ],
      "metadata": {
        "id": "AZg0zaoQsS2C"
      }
    },
    {
      "cell_type": "code",
      "source": [
        "REVIEW_COUNT = 5000\n",
        "TOPIC_COUNT = 30"
      ],
      "metadata": {
        "id": "hw10QfXssam4"
      },
      "execution_count": 4,
      "outputs": []
    },
    {
      "cell_type": "markdown",
      "source": [
        "Get the Data ready"
      ],
      "metadata": {
        "id": "5eBcKDrO9Svx"
      }
    },
    {
      "cell_type": "markdown",
      "source": [
        "#Create Amazon Review dataset for topic modelling"
      ],
      "metadata": {
        "id": "UhKP09usA8vk"
      }
    },
    {
      "cell_type": "code",
      "source": [
        "from google.colab import drive\n",
        "drive.mount('/drive')"
      ],
      "metadata": {
        "colab": {
          "base_uri": "https://localhost:8080/"
        },
        "id": "fos9eHzqBA00",
        "outputId": "11d13c4b-1405-48b6-9087-17b1caea1fa3"
      },
      "execution_count": 5,
      "outputs": [
        {
          "output_type": "stream",
          "name": "stdout",
          "text": [
            "Drive already mounted at /drive; to attempt to forcibly remount, call drive.mount(\"/drive\", force_remount=True).\n"
          ]
        }
      ]
    },
    {
      "cell_type": "code",
      "source": [
        "stop_words = nltk.corpus.stopwords.words('english')\n",
        "wtk = nltk.tokenize.RegexpTokenizer(r'\\w+')\n",
        "wnl = nltk.stem.wordnet.WordNetLemmatizer()\n",
        "\n",
        "file_name = '/drive/MyDrive/Colab Notebooks/absa/amazon_review/amazon_reviews_us_Wireless_v1_00.tsv'\n",
        "i =0\n",
        "docs = []\n",
        "original_docs = []\n",
        "with open(file_name,encoding ='utf-8', mode='r') as f:\n",
        "  while True:\n",
        "        line = f.readline()\n",
        "        parts = line.split('\\t')\n",
        "        review = parts[13]\n",
        "        review = review.lower()\n",
        "        words = review.split(' ')\n",
        "        new_line = ''\n",
        "        for word in words:\n",
        "          if word not in stop_words:\n",
        "            new_line = new_line + word + ' '                        \n",
        "\n",
        "        i = i+1\n",
        "        if not line or i > REVIEW_COUNT:\n",
        "            break\n",
        "        elif(i > 1):\n",
        "          docs.append(new_line)\n",
        "          original_docs.append(review)\n"
      ],
      "metadata": {
        "id": "zkuXM9KBBgIw"
      },
      "execution_count": 6,
      "outputs": []
    },
    {
      "cell_type": "markdown",
      "source": [
        "#Training BERTopic model using the above dataset\n",
        "BERTopic will give different topic infor in different run due to its stochastic nature of UMAP ( Uniform Manifold Approximation and Projection). UMAP is a dimentionality reduction technique similar to t-SNE."
      ],
      "metadata": {
        "id": "FRlXUUfa-Awv"
      }
    },
    {
      "cell_type": "code",
      "source": [
        "from bertopic import BERTopic\n",
        "\n",
        "topic_model = BERTopic(language=\"english\", calculate_probabilities=True, verbose=True)\n",
        "topics, probs = topic_model.fit_transform(docs)\n",
        "# Further reduce topics\n",
        "topic_model.reduce_topics(docs, nr_topics=TOPIC_COUNT)\n",
        "topic_model.update_topics(docs, topics, n_gram_range=(1, 2))\n"
      ],
      "metadata": {
        "colab": {
          "base_uri": "https://localhost:8080/",
          "height": 118,
          "referenced_widgets": [
            "f3127b69b087440181ee1474a311584d",
            "d604ab617af84a8fa3a0ab060eee5422",
            "d1dcdfa0d5094162b5148c4970287422",
            "842a852380c54057bf602e07b0630ea6",
            "cd85ed82700d4bb48e05c266060918e8",
            "c0c38c8fc67340b0a36f17a7380eeee9",
            "deddd7f7126b4d8f8403402f6fa14dca",
            "e3914e84c2364a28bfa6a8815e4e9e85",
            "936e6d2c7b8c4d2d9f6e3ac726205370",
            "4c96d02ecaa04f42979cf7de0200b888",
            "7e33bfe0ec524f42a522b1b76ec01a2f"
          ]
        },
        "id": "Vn3yGJYJ-LjE",
        "outputId": "aa2c1054-0f37-469a-de8d-10f8952810a5"
      },
      "execution_count": 7,
      "outputs": [
        {
          "output_type": "display_data",
          "data": {
            "text/plain": [
              "Batches:   0%|          | 0/157 [00:00<?, ?it/s]"
            ],
            "application/vnd.jupyter.widget-view+json": {
              "version_major": 2,
              "version_minor": 0,
              "model_id": "f3127b69b087440181ee1474a311584d"
            }
          },
          "metadata": {}
        },
        {
          "output_type": "stream",
          "name": "stderr",
          "text": [
            "2023-05-15 18:37:14,866 - BERTopic - Transformed documents to Embeddings\n",
            "2023-05-15 18:37:55,611 - BERTopic - Reduced dimensionality\n",
            "2023-05-15 18:37:59,245 - BERTopic - Clustered reduced embeddings\n",
            "2023-05-15 18:38:03,295 - BERTopic - Reduced number of topics from 82 to 30\n"
          ]
        }
      ]
    },
    {
      "cell_type": "markdown",
      "source": [
        "NOTE: Use language=\"multilingual\" to select a model that support 50+ languages."
      ],
      "metadata": {
        "id": "EtCN1426-StS"
      }
    },
    {
      "cell_type": "markdown",
      "source": [
        "#Extract topics"
      ],
      "metadata": {
        "id": "EIKArM-QAWNl"
      }
    },
    {
      "cell_type": "code",
      "source": [
        "#Step-0 : Find out all document index for each topic.\n",
        "#Step-1 : For each document, Write the tokens for the original review text line into a data frame column.\n",
        "#Step-2 : For each topic, find out the list of terms/words.\n",
        "#Step-4 : create term vector placing 1 if term is matched with work, else place 0\n",
        "#Step-5 : Write review text/tokens and term vector into csv file.\n",
        "\n",
        "T = topic_model.get_document_info(docs)\n",
        "docs_per_topics = T.groupby([\"Topic\"]).apply(lambda x: x.index).to_dict()\n"
      ],
      "metadata": {
        "id": "ymJyoEAZXCT_"
      },
      "execution_count": 8,
      "outputs": []
    },
    {
      "cell_type": "code",
      "source": [
        "def get_vector_tag(tokens,terms):\n",
        "  tag_vectors = []  \n",
        "  for token in tokens:\n",
        "    for term in terms:\n",
        "      flag = False\n",
        "      if(token in term):\n",
        "        tag_vectors.append(1)\n",
        "        flag = True\n",
        "        break\n",
        "    if(flag == False):\n",
        "      tag_vectors.append(0)\n",
        "  return tag_vectors"
      ],
      "metadata": {
        "id": "TdTQv8ITAD9k"
      },
      "execution_count": 9,
      "outputs": []
    },
    {
      "cell_type": "code",
      "source": [
        "# print terms\n",
        "def parse_only_terms(terms):\n",
        "  only_terms = []\n",
        "  for item in terms:\n",
        "    only_terms.append(item[0])\n",
        "  return only_terms\n"
      ],
      "metadata": {
        "id": "1T1PfildQ9JT"
      },
      "execution_count": 10,
      "outputs": []
    },
    {
      "cell_type": "code",
      "source": [
        "def find_relevent_dependencies_terms(sentence_dict,relation):\n",
        "  text = []\n",
        "  #if relationship is obj, find its root(verb) and noun-head\n",
        "  for word in sentence_dict:    \n",
        "    #print(word['deprel'])\n",
        "    if(word['deprel'] == 'amod' or word['deprel'] == 'root' or word['deprel'] == 'nsubj' or word['deprel'] == 'det' or word['deprel'] == 'ccomp' or\n",
        "      word['deprel'] == 'obj' or word['deprel'] == 'aux' or word['deprel'] == 'advmod' or word['deprel'] == 'compound' or\n",
        "       word['deprel'] == 'conj' or word['deprel'] == 'advcl' or word['deprel'] == 'mark'):\n",
        "      text.append(word['text'])\n",
        "  return text"
      ],
      "metadata": {
        "id": "KPiHtMUJfp_m"
      },
      "execution_count": 51,
      "outputs": []
    },
    {
      "cell_type": "code",
      "source": [
        "def extract_phrases_dependency_parsing(sentence, terms):\n",
        "  extracted_text = []\n",
        "  nlp = stanza.Pipeline('en',processors = 'tokenize,mwt,pos,lemma,depparse',download_method=None, verbose=False)\n",
        "  result = nlp(sentence)\n",
        "  for i in range(len(result.sentences)):\n",
        "    sentence_dict = result.sentences[i].to_dict()\n",
        "    for word in sentence_dict:\n",
        "      for term in terms:\n",
        "        if(word['text'] == term):        \n",
        "          text = find_relevent_dependencies_terms(sentence_dict,word['deprel'])        \n",
        "          extracted_text.append(text)\n",
        "  return extracted_text"
      ],
      "metadata": {
        "id": "df45Pe0vfw7R"
      },
      "execution_count": 30,
      "outputs": []
    },
    {
      "cell_type": "code",
      "source": [
        "document_indices = docs_per_topics.get(0)\n",
        "print(document_indices)"
      ],
      "metadata": {
        "colab": {
          "base_uri": "https://localhost:8080/"
        },
        "id": "roFEwxGLm1Zt",
        "outputId": "7f24a18c-323f-4063-c870-5c9ae1bd3d04"
      },
      "execution_count": 13,
      "outputs": [
        {
          "output_type": "stream",
          "name": "stdout",
          "text": [
            "Int64Index([   0,    3,   11,   12,   20,   22,   40,   61,   62,   70,\n",
            "            ...\n",
            "            4947, 4948, 4950, 4955, 4964, 4967, 4969, 4978, 4980, 4998],\n",
            "           dtype='int64', length=896)\n"
          ]
        }
      ]
    },
    {
      "cell_type": "code",
      "source": [
        "import pandas as pd\n",
        "df_review = pd.DataFrame()\n",
        "review_tokens_data = original_docs.copy()\n",
        "wtk = nltk.tokenize.RegexpTokenizer(r'\\w+')\n",
        "\n",
        "df = pd.DataFrame(columns=['Tokens','Tag_vectors','Terms','Extraction','Topic#','Review#'])\n",
        "for topic_no in range(TOPIC_COUNT): \n",
        "  document_indices = docs_per_topics.get(topic_no)\n",
        "  terms = topic_model.get_topic(topic_no)\n",
        "  for i in document_indices:\n",
        "    if (i < REVIEW_COUNT):\n",
        "      review_tokens_data[i] = [token.strip() for token in wtk.tokenize(original_docs[i])]\n",
        "      only_terms = parse_only_terms(terms)\n",
        "      tag_vectors = get_vector_tag(review_tokens_data[i],only_terms)\n",
        "      aspect_text = [] # extract_phrases_dependency_parsing(original_docs[i],only_terms)      \n",
        "      df.loc[len(df)] = [review_tokens_data[i],tag_vectors,terms,aspect_text,topic_no,i]"
      ],
      "metadata": {
        "id": "pq1K0-oX5aMq"
      },
      "execution_count": 14,
      "outputs": []
    },
    {
      "cell_type": "code",
      "source": [
        "tagged_file_name = '/drive/MyDrive/Colab Notebooks/absa/amazon_review/amazon_reviews_us_Wireless_v1_00_labelled.csv'\n",
        "df.to_csv(tagged_file_name)\n"
      ],
      "metadata": {
        "id": "XLtWWzCb9dht"
      },
      "execution_count": 15,
      "outputs": []
    },
    {
      "cell_type": "code",
      "source": [
        "terms = ['sound','ear','headphones','bluetooth','speaker','music','headset','hear','volume']\n",
        "sentence = original_docs[51]\n",
        "print(sentence)\n",
        "text = extract_phrases_dependency_parsing(sentence,terms)\n",
        "text"
      ],
      "metadata": {
        "colab": {
          "base_uri": "https://localhost:8080/"
        },
        "id": "enKIhA9Ev-ny",
        "outputId": "b5e039a3-9299-4955-8339-c300f61b9a3b"
      },
      "execution_count": 52,
      "outputs": [
        {
          "output_type": "stream",
          "name": "stdout",
          "text": [
            "they sounded okay, they had plenty of the skipping that is all too well known with bluetooth headphones, very difficult for me to get the right fit with these. i wanted to like these headphones, but the blue buds x were just a hands down winner, the blue buds just have too many better features to go with freedoms instead. durability wise, only time will tell. but these freedoms weren't as good sounding to me, the ear hooks were not as comfortable as i was expecting, i also prefer the blue buds due to their smaller size. the price is higher, i bit the bullet and bought them and i am so much happier with them than i was with the cheaper alternatives. i use the comply foam tips and they improve any set of headphones dramatically in my opinion.\n"
          ]
        },
        {
          "output_type": "execute_result",
          "data": {
            "text/plain": [
              "[['they',\n",
              "  'sounded',\n",
              "  'they',\n",
              "  'plenty',\n",
              "  'the',\n",
              "  'all',\n",
              "  'too',\n",
              "  'well',\n",
              "  'bluetooth',\n",
              "  'very',\n",
              "  'for',\n",
              "  'me',\n",
              "  'to',\n",
              "  'the',\n",
              "  'right',\n",
              "  'fit'],\n",
              " ['they',\n",
              "  'sounded',\n",
              "  'they',\n",
              "  'plenty',\n",
              "  'the',\n",
              "  'all',\n",
              "  'too',\n",
              "  'well',\n",
              "  'bluetooth',\n",
              "  'very',\n",
              "  'for',\n",
              "  'me',\n",
              "  'to',\n",
              "  'the',\n",
              "  'right',\n",
              "  'fit'],\n",
              " ['i',\n",
              "  'wanted',\n",
              "  'to',\n",
              "  'these',\n",
              "  'headphones',\n",
              "  'the',\n",
              "  'blue',\n",
              "  'buds',\n",
              "  'x',\n",
              "  'just',\n",
              "  'a',\n",
              "  'hands',\n",
              "  'winner',\n",
              "  'the',\n",
              "  'blue',\n",
              "  'buds',\n",
              "  'just',\n",
              "  'too',\n",
              "  'many',\n",
              "  'better',\n",
              "  'features',\n",
              "  'to',\n",
              "  'instead'],\n",
              " ['these',\n",
              "  'freedoms',\n",
              "  \"n't\",\n",
              "  'as',\n",
              "  'good',\n",
              "  'sounding',\n",
              "  'the',\n",
              "  'ear',\n",
              "  'hooks',\n",
              "  'not',\n",
              "  'as',\n",
              "  'as',\n",
              "  'i',\n",
              "  'was',\n",
              "  'expecting',\n",
              "  'i',\n",
              "  'also',\n",
              "  'the',\n",
              "  'blue',\n",
              "  'buds',\n",
              "  'smaller'],\n",
              " ['i',\n",
              "  'use',\n",
              "  'the',\n",
              "  'comply',\n",
              "  'foam',\n",
              "  'tips',\n",
              "  'they',\n",
              "  'improve',\n",
              "  'any',\n",
              "  'set',\n",
              "  'dramatically']]"
            ]
          },
          "metadata": {},
          "execution_count": 52
        }
      ]
    },
    {
      "cell_type": "code",
      "source": [
        "sentence = original_docs[118]\n",
        "sentence"
      ],
      "metadata": {
        "colab": {
          "base_uri": "https://localhost:8080/",
          "height": 52
        },
        "id": "KXi6aefywC_R",
        "outputId": "f6d22fb0-b7ec-4cc5-c03c-eac523cba3d8"
      },
      "execution_count": 26,
      "outputs": [
        {
          "output_type": "execute_result",
          "data": {
            "text/plain": [
              "\"we have tried all of the cords in the pack.  they seem to work a couple of times and then they don't charge any longer. really disappointed!\""
            ],
            "application/vnd.google.colaboratory.intrinsic+json": {
              "type": "string"
            }
          },
          "metadata": {},
          "execution_count": 26
        }
      ]
    },
    {
      "cell_type": "markdown",
      "source": [
        "BERTopic will give different topic infor in different run due to its stochastic nature of UMAP ( Uniform Manifold Approximation and Projection).\n",
        "UMAP is a dimentionality reduction technique similar to t-SNE."
      ],
      "metadata": {
        "id": "mhUxVekIBB9Y"
      }
    }
  ]
}