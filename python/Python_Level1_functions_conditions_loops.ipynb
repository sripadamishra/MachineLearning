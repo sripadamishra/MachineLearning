{
  "nbformat": 4,
  "nbformat_minor": 0,
  "metadata": {
    "colab": {
      "provenance": []
    },
    "kernelspec": {
      "name": "python3",
      "display_name": "Python 3"
    },
    "language_info": {
      "name": "python"
    }
  },
  "cells": [
    {
      "cell_type": "markdown",
      "source": [
        "#Python Functions or Methods"
      ],
      "metadata": {
        "id": "36FwtZpl2yNR"
      }
    },
    {
      "cell_type": "code",
      "source": [
        "#Function is useful to group one or more statements, code block and execute as a unit.\n",
        "# Function can inputs as parameters or arguments.\n",
        "# It can return result or output of the execution logic written inside the function.\n",
        "# Let us see one example\n",
        "# Function Definition\n",
        "def first_func():   # this is function signature\n",
        "  print('Hello, I have written my first function')  # Body of the function"
      ],
      "metadata": {
        "id": "8z_yMZ3J23Jw"
      },
      "execution_count": 1,
      "outputs": []
    },
    {
      "cell_type": "code",
      "source": [
        "# Call the function\n",
        "first_func()"
      ],
      "metadata": {
        "colab": {
          "base_uri": "https://localhost:8080/"
        },
        "id": "R5KUBUFQ3l1Z",
        "outputId": "7fd5a75a-4c94-4523-e3fb-0952e3f6e820"
      },
      "execution_count": 2,
      "outputs": [
        {
          "output_type": "stream",
          "name": "stdout",
          "text": [
            "Hello, I have written my first function\n"
          ]
        }
      ]
    },
    {
      "cell_type": "markdown",
      "source": [
        "#Pass Parameters"
      ],
      "metadata": {
        "id": "7WYjZKLQ6M3l"
      }
    },
    {
      "cell_type": "code",
      "source": [
        "def print_name(first_name,last_name):\n",
        "  print('Name is ', first_name,last_name)\n",
        "\n"
      ],
      "metadata": {
        "id": "gItY4Dsp6RSx"
      },
      "execution_count": 10,
      "outputs": []
    },
    {
      "cell_type": "code",
      "source": [
        "print_name('Rohan','Sharma')"
      ],
      "metadata": {
        "colab": {
          "base_uri": "https://localhost:8080/"
        },
        "id": "YhPicXZp6rZy",
        "outputId": "ba97fd68-2637-47b7-db7f-a16adb1b24a8"
      },
      "execution_count": 11,
      "outputs": [
        {
          "output_type": "stream",
          "name": "stdout",
          "text": [
            "Name is  Rohan Sharma\n"
          ]
        }
      ]
    },
    {
      "cell_type": "markdown",
      "source": [
        "#Return Values"
      ],
      "metadata": {
        "id": "pSguJExj7Jap"
      }
    },
    {
      "cell_type": "code",
      "source": [
        "# It takes 2\n",
        "def print_name(first_name,last_name):\n",
        "  return first_name + ' ' + last_name"
      ],
      "metadata": {
        "id": "L0N1dzuR7LoL"
      },
      "execution_count": 12,
      "outputs": []
    },
    {
      "cell_type": "code",
      "source": [
        "name = print_name('Lakshmi','Chatterjee')\n",
        "print(name)"
      ],
      "metadata": {
        "colab": {
          "base_uri": "https://localhost:8080/"
        },
        "id": "agiV-I1T7asp",
        "outputId": "d1454b1d-5b1d-4ffc-b9e2-8276e09084bb"
      },
      "execution_count": 13,
      "outputs": [
        {
          "output_type": "stream",
          "name": "stdout",
          "text": [
            "Lakshmi Chatterjee\n"
          ]
        }
      ]
    },
    {
      "cell_type": "code",
      "source": [
        "#Number of Parameters\n",
        "# While calling the function, you need to pass equal number of arguments, otherwise, it will throw error"
      ],
      "metadata": {
        "id": "jA5DLDB38Zld"
      },
      "execution_count": null,
      "outputs": []
    },
    {
      "cell_type": "code",
      "source": [
        "name = print_name('Lakshmi') #throw an error"
      ],
      "metadata": {
        "id": "3LkvZ7oAYomw"
      },
      "execution_count": null,
      "outputs": []
    },
    {
      "cell_type": "markdown",
      "source": [
        "#Variable number of arguments"
      ],
      "metadata": {
        "id": "zvsnguiOY_Bt"
      }
    },
    {
      "cell_type": "code",
      "source": [
        "#If number of arguments is unknown that will be passed into the function,\n",
        "# it is required to put an asterisk( * ) before the parameter name in the function definition.\n",
        "# So, the function will receive a tuple of arguments, and handle the params.\n",
        "# Let us take an example\n",
        "\n",
        "def my_variable_args_function(*args):\n",
        "  for item in args:\n",
        "    print('param = ', item)"
      ],
      "metadata": {
        "id": "E4o8EbjyZBd5"
      },
      "execution_count": 14,
      "outputs": []
    },
    {
      "cell_type": "code",
      "source": [
        "my_variable_args_function(1,2,3)"
      ],
      "metadata": {
        "colab": {
          "base_uri": "https://localhost:8080/"
        },
        "id": "9VxzNwvwZ_aD",
        "outputId": "2faf0cc3-aec8-4177-9927-9b891376729e"
      },
      "execution_count": 15,
      "outputs": [
        {
          "output_type": "stream",
          "name": "stdout",
          "text": [
            "param =  1\n",
            "param =  2\n",
            "param =  3\n"
          ]
        }
      ]
    },
    {
      "cell_type": "markdown",
      "source": [
        "#Keyword Arguments"
      ],
      "metadata": {
        "id": "0CrEoQqCagVj"
      }
    },
    {
      "cell_type": "code",
      "source": [
        "# If the arguments are sent withour order, then it must be sent with key = value syntax.\n",
        "def my_keyword_args_func(param1,param2,param3):\n",
        "  print('arg 1 = ', param1)\n",
        "  print('arg 2 = ', param2)\n",
        "  print('arg 3 = ', param3)"
      ],
      "metadata": {
        "id": "BSlXyZHJaiP9"
      },
      "execution_count": 16,
      "outputs": []
    },
    {
      "cell_type": "code",
      "source": [
        "my_keyword_args_func(param3 = 3, param1 = 1, param2 =2)"
      ],
      "metadata": {
        "colab": {
          "base_uri": "https://localhost:8080/"
        },
        "id": "KQTob3yXbZRj",
        "outputId": "640d8b3d-9477-4d5d-a935-e11d4cf6489a"
      },
      "execution_count": 17,
      "outputs": [
        {
          "output_type": "stream",
          "name": "stdout",
          "text": [
            "arg 1 =  1\n",
            "arg 2 =  2\n",
            "arg 3 =  3\n"
          ]
        }
      ]
    },
    {
      "cell_type": "markdown",
      "source": [
        "#Variable Keyworg Arguments"
      ],
      "metadata": {
        "id": "fNRItVx0bpz6"
      }
    },
    {
      "cell_type": "code",
      "source": [
        "#Variable Keyworg Arguments\n",
        "#If number of keyword arguments is unknown that will be passed into the function,\n",
        "# it is required to put an double asterisk( ** ) before the parameter name in the function definition.\n",
        "# So, the function will receive a dictionary of arguments, and handle the params.\n",
        "# Let us take an example\n",
        "def my_variable_keyword_args_func(**kwargs):\n",
        "  print('param1 =',kwargs['param1'])\n",
        "  print('param2 =',kwargs['param2'])\n",
        "  print('param3 =',kwargs['param3'])\n",
        "  print('param4 =',kwargs['param4'])"
      ],
      "metadata": {
        "id": "c515KJ2bbqgl"
      },
      "execution_count": 18,
      "outputs": []
    },
    {
      "cell_type": "code",
      "source": [
        "my_variable_keyword_args_func(param1='a',param2=2,param3='c',param4=100)"
      ],
      "metadata": {
        "colab": {
          "base_uri": "https://localhost:8080/"
        },
        "id": "TvHH8vYIchtl",
        "outputId": "8734ab0b-6475-4026-b4a8-7979b6f5e4d8"
      },
      "execution_count": 19,
      "outputs": [
        {
          "output_type": "stream",
          "name": "stdout",
          "text": [
            "param1 = a\n",
            "param2 = 2\n",
            "param3 = c\n",
            "param4 = 100\n"
          ]
        }
      ]
    },
    {
      "cell_type": "markdown",
      "source": [
        "# Any type of data in Argument ( List, Dictionary, number,String etc..)"
      ],
      "metadata": {
        "id": "Fn-2gOkUdXex"
      }
    },
    {
      "cell_type": "code",
      "source": [
        "#Function accepting a List\n",
        "def func_list(my_list):\n",
        "  for item in my_list:\n",
        "    print(item)\n",
        "\n",
        "x = [1,2,3]\n",
        "func_list(x)"
      ],
      "metadata": {
        "colab": {
          "base_uri": "https://localhost:8080/"
        },
        "id": "19U7fy2rdfIa",
        "outputId": "17a80e40-32e5-45c5-c259-0bd4c5157ed0"
      },
      "execution_count": 20,
      "outputs": [
        {
          "output_type": "stream",
          "name": "stdout",
          "text": [
            "1\n",
            "2\n",
            "3\n"
          ]
        }
      ]
    },
    {
      "cell_type": "code",
      "source": [
        "#Function accepting a Dictionary\n",
        "def func_dict(my_dict):\n",
        "  print(my_dict.items())\n",
        "\n",
        "x = {'name':'sunil','age':40,'choice':'veg'}\n",
        "func_dict(x)"
      ],
      "metadata": {
        "colab": {
          "base_uri": "https://localhost:8080/"
        },
        "id": "iwrEJqpqd0P7",
        "outputId": "f617e6d7-9ad5-49e6-8833-d3f06bed3793"
      },
      "execution_count": 24,
      "outputs": [
        {
          "output_type": "stream",
          "name": "stdout",
          "text": [
            "dict_items([('name', 'sunil'), ('age', 40), ('choice', 'veg')])\n"
          ]
        }
      ]
    },
    {
      "cell_type": "markdown",
      "source": [
        "#Default Parameter"
      ],
      "metadata": {
        "id": "hT3CAZ_Fe8Ew"
      }
    },
    {
      "cell_type": "code",
      "source": [
        "#If no parameter is passed, default parameter is used.\n",
        "def func_with_default_param(first_name,last_name,title='Mr.'):\n",
        "  print(title,first_name,last_name)\n",
        "\n",
        "func_with_default_param(first_name='Sunil',last_name='Karmakar')\n",
        "func_with_default_param(title='Mrs.',first_name='Susmita',last_name='Kar')"
      ],
      "metadata": {
        "colab": {
          "base_uri": "https://localhost:8080/"
        },
        "id": "a85a17Nae-aM",
        "outputId": "f6854bf2-446d-4613-81da-54fb7876192c"
      },
      "execution_count": 26,
      "outputs": [
        {
          "output_type": "stream",
          "name": "stdout",
          "text": [
            "Mr. Sunil Karmakar\n",
            "Mrs. Susmita Kar\n"
          ]
        }
      ]
    },
    {
      "cell_type": "code",
      "source": [
        "# Few example of function\n",
        "\n",
        "def add(x,y):\n",
        "  return x + y\n",
        "def sub(x,y):\n",
        "  return x - y\n",
        "def mul(x,y):\n",
        "  return x * y\n",
        "def div(x,y):\n",
        "  return x / y\n",
        "\n",
        "x,y = 100,10\n",
        "\n",
        "print('Add result=', add(x,y))\n",
        "print('Substration result=', sub(x,y))\n",
        "print('Multiplication result=', mul(x,y))\n",
        "print('Division result=', div(x,y))"
      ],
      "metadata": {
        "colab": {
          "base_uri": "https://localhost:8080/"
        },
        "id": "eKJ8fM9SgAQj",
        "outputId": "c58c7039-9770-478b-ae40-18260678ee3c"
      },
      "execution_count": 27,
      "outputs": [
        {
          "output_type": "stream",
          "name": "stdout",
          "text": [
            "Add result= 110\n",
            "Substration result= 90\n",
            "Multiplication result= 1000\n",
            "Division result= 10.0\n"
          ]
        }
      ]
    },
    {
      "cell_type": "markdown",
      "source": [
        "#Python Conditions"
      ],
      "metadata": {
        "id": "j4TYBB0qhjba"
      }
    },
    {
      "cell_type": "markdown",
      "source": [
        "#If-else"
      ],
      "metadata": {
        "id": "Qf286533mdON"
      }
    },
    {
      "cell_type": "code",
      "source": [
        "# Python conditions are checked using if statement\n",
        "# for example, if you want to put grade of a student based on his number scored.\n",
        "# Grade is 'A' if score is above or equal 90 and grade 'B' otherwise\n",
        "\n",
        "def grade(score):\n",
        "  if score >=90: # it should end with colon and next line must have indentation, else throw error.\n",
        "    print('Grade = A')\n",
        "  else: # this is executed if the if condition is not satisfied\n",
        "    print('Grade = B')\n",
        "\n",
        "score = 95\n",
        "grade(score)\n",
        "\n",
        "score = 80\n",
        "grade(score)"
      ],
      "metadata": {
        "colab": {
          "base_uri": "https://localhost:8080/"
        },
        "id": "D6MoNE5ehmoy",
        "outputId": "00b85f27-9319-44df-c69e-15070d034935"
      },
      "execution_count": 31,
      "outputs": [
        {
          "output_type": "stream",
          "name": "stdout",
          "text": [
            "Grade = A\n",
            "Grade = B\n"
          ]
        }
      ]
    },
    {
      "cell_type": "markdown",
      "source": [
        "#If-Elif-else"
      ],
      "metadata": {
        "id": "P-ldbPrXmYqq"
      }
    },
    {
      "cell_type": "code",
      "source": [
        "#Now if you have multiple conditions you need to use elif condition\n",
        "# if score >= 90 Grade = A\n",
        "# if score > 80 and < 90 Grade = B\n",
        "# if score > 70 and < 80 Grade = C\n",
        "# else Grade = D\n",
        "\n",
        "def grade(score):\n",
        "  if score >= 90:\n",
        "    print('Grade = A')\n",
        "  elif(score >= 80 and score < 90):\n",
        "    print('Grade = B')\n",
        "  elif(score >=70 and score < 80):\n",
        "    print('Grade = C')\n",
        "  else:\n",
        "    print('Grade = D')\n",
        "\n",
        "score = 98\n",
        "print('student-1 score =',score)\n",
        "grade(score)\n",
        "\n",
        "score = 50\n",
        "print('student-2 score =',score)\n",
        "grade(score)\n",
        "\n",
        "score = 78\n",
        "print('student-3 score =', score)\n",
        "grade(score)\n",
        "\n",
        "score = 88\n",
        "print('student-4 score =', score)\n",
        "grade(score)\n"
      ],
      "metadata": {
        "colab": {
          "base_uri": "https://localhost:8080/"
        },
        "id": "lwn9y8UJjxCv",
        "outputId": "e49082c3-36c9-4223-fc51-c9b0297d009e"
      },
      "execution_count": 34,
      "outputs": [
        {
          "output_type": "stream",
          "name": "stdout",
          "text": [
            "student-1 score = 98\n",
            "Grade = A\n",
            "student-2 score = 50\n",
            "Grade = D\n",
            "student-3 score = 78\n",
            "Grade = C\n",
            "student-4 score = 88\n",
            "Grade = B\n"
          ]
        }
      ]
    },
    {
      "cell_type": "markdown",
      "source": [
        "#Nested If"
      ],
      "metadata": {
        "id": "xl7qz-JnmlkN"
      }
    },
    {
      "cell_type": "code",
      "source": [
        "# If you need to combine multiple conditions together, you can use nested if\n",
        "# If student's total marks are more than 500 and science score is more than 250 then Grade is 'A++',Otherwise 'A+'\n",
        "# If student's total marks are below 500 and sci score is above 250, score is 'A-'\n",
        "\n",
        "def grade(total_score,sci_score):\n",
        "  if total_score >= 500:\n",
        "    if sci_score >= 250:\n",
        "      print('Grade = A++')\n",
        "    else:\n",
        "      print('Grade = A+')\n",
        "  else:\n",
        "    if sci_score >= 250:\n",
        "      print('Grade = A-')\n",
        "    else:\n",
        "      print('Grade = B++')\n",
        "\n",
        "total_score = 560\n",
        "sci_score = 255\n",
        "print('Total score= {} and sci_score= {}'.format(total_score,sci_score))\n",
        "grade(total_score,sci_score)\n",
        "\n",
        "total_score = 520\n",
        "sci_score = 230\n",
        "print('Total score= {} and sci_score= {}'.format(total_score,sci_score))\n",
        "grade(total_score,sci_score)\n",
        "\n",
        "total_score = 450\n",
        "sci_score = 255\n",
        "print('Total score= {} and sci_score= {}'.format(total_score,sci_score))\n",
        "grade(total_score,sci_score)\n",
        "\n",
        "total_score = 450\n",
        "sci_score = 220\n",
        "print('Total score= {} and sci_score= {}'.format(total_score,sci_score))\n",
        "grade(total_score,sci_score)\n"
      ],
      "metadata": {
        "colab": {
          "base_uri": "https://localhost:8080/"
        },
        "id": "E-7IpB_Pmngg",
        "outputId": "ea5b8a0f-3085-4602-c6f1-e17d7429f5b3"
      },
      "execution_count": 38,
      "outputs": [
        {
          "output_type": "stream",
          "name": "stdout",
          "text": [
            "Total score= 560 and sci_score= 255\n",
            "Grade = A++\n",
            "Total score= 520 and sci_score= 230\n",
            "Grade = A+\n",
            "Total score= 450 and sci_score= 255\n",
            "Grade = A-\n",
            "Total score= 450 and sci_score= 220\n",
            "Grade = B++\n"
          ]
        }
      ]
    },
    {
      "cell_type": "markdown",
      "source": [
        "#Single line If"
      ],
      "metadata": {
        "id": "lXh16Vnhp5oF"
      }
    },
    {
      "cell_type": "code",
      "source": [
        "score = 95\n",
        "if score >= 90: print('Grade = A')"
      ],
      "metadata": {
        "colab": {
          "base_uri": "https://localhost:8080/"
        },
        "id": "84G1Wxq-p7rX",
        "outputId": "3b3b32a0-cce5-460e-a1e5-d028af6d75c8"
      },
      "execution_count": 39,
      "outputs": [
        {
          "output_type": "stream",
          "name": "stdout",
          "text": [
            "Grade = A\n"
          ]
        }
      ]
    },
    {
      "cell_type": "code",
      "source": [
        "#If-else\n",
        "\n",
        "score = 88\n",
        "print('Grade = A') if score >= 90 else print('Grade = B')"
      ],
      "metadata": {
        "colab": {
          "base_uri": "https://localhost:8080/"
        },
        "id": "UWUCoi-rqKBa",
        "outputId": "c0eba7a3-d06d-4710-8c7e-94672b9c70bd"
      },
      "execution_count": 41,
      "outputs": [
        {
          "output_type": "stream",
          "name": "stdout",
          "text": [
            "Grade = B\n"
          ]
        }
      ]
    },
    {
      "cell_type": "code",
      "source": [
        "# 3 conditions in one line\n",
        "score = 78\n",
        "print('Grade = A') if score >= 90 else print('Grade = B') if score >= 80 and score < 90 else print('Grade C')"
      ],
      "metadata": {
        "colab": {
          "base_uri": "https://localhost:8080/"
        },
        "id": "8YNOhLLLqiPF",
        "outputId": "ef9f1e6d-4ec0-403f-ae1e-804118b558f6"
      },
      "execution_count": 42,
      "outputs": [
        {
          "output_type": "stream",
          "name": "stdout",
          "text": [
            "Grade C\n"
          ]
        }
      ]
    },
    {
      "cell_type": "markdown",
      "source": [
        "#Python Loops"
      ],
      "metadata": {
        "id": "AYOs7kOtrndU"
      }
    },
    {
      "cell_type": "code",
      "source": [
        "# for Loop is used to iterate a sequence. [ list, set, tuple]\n",
        "# for is used to execute piece of code block numtiple times specified by the count of times.\n",
        "\n",
        "text = 'education'\n",
        "\n",
        "for x in text:\n",
        "  print(x)"
      ],
      "metadata": {
        "colab": {
          "base_uri": "https://localhost:8080/"
        },
        "id": "XE4w91-jrqQY",
        "outputId": "a81d89ae-b2b5-4e0f-a1d8-b96cbf1d10aa"
      },
      "execution_count": 45,
      "outputs": [
        {
          "output_type": "stream",
          "name": "stdout",
          "text": [
            "e\n",
            "d\n",
            "u\n",
            "c\n",
            "a\n",
            "t\n",
            "i\n",
            "o\n",
            "n\n"
          ]
        }
      ]
    },
    {
      "cell_type": "code",
      "source": [
        "#Let us iterate a list\n",
        "my_list = ['Car','Bi-cycle','Motor-bike','Plane'] #vehicles\n",
        "\n",
        "for vehicle in my_list:\n",
        "  print(vehicle)"
      ],
      "metadata": {
        "colab": {
          "base_uri": "https://localhost:8080/"
        },
        "id": "4rGVaZU3s4p1",
        "outputId": "78cb2ff5-925c-408f-d216-e83093956a3b"
      },
      "execution_count": 2,
      "outputs": [
        {
          "output_type": "stream",
          "name": "stdout",
          "text": [
            "Car\n",
            "Bi-cycle\n",
            "Motor-bike\n",
            "Plane\n"
          ]
        }
      ]
    },
    {
      "cell_type": "code",
      "source": [
        "#iterating a tuple\n",
        "my_tuple = ('toyota','$20,000','camry')\n",
        "for x in my_tuple:\n",
        "  print(x)"
      ],
      "metadata": {
        "colab": {
          "base_uri": "https://localhost:8080/"
        },
        "id": "6GiBRSgWJPUH",
        "outputId": "c2977ef4-0067-4e1c-93c7-e3b6d4042b89"
      },
      "execution_count": 4,
      "outputs": [
        {
          "output_type": "stream",
          "name": "stdout",
          "text": [
            "toyota\n",
            "$20,000\n",
            "camry\n"
          ]
        }
      ]
    },
    {
      "cell_type": "markdown",
      "source": [
        "#Break Statement"
      ],
      "metadata": {
        "id": "_5QijEwuJ4wm"
      }
    },
    {
      "cell_type": "code",
      "source": [
        "#use of break is to come out of a loop once certain condition is satisfied.\n",
        "# Example - if you are searching a list of numbers to find if a square number exists. If found, then break the loop, no need to search further.\n",
        "squares = [x**2 for x in range(1,11)] # squares till 100\n",
        "search_list = [2,3,5,7,25,12,15,20,22] # list contains only 1 square number.\n",
        "print('Squares list',squares)\n",
        "print('Search numbers list',search_list)\n",
        "for n in search_list:\n",
        "  if(n in squares):\n",
        "    print('Square number found in list: =', n)\n",
        "    print('Break the loop')\n",
        "    break\n"
      ],
      "metadata": {
        "colab": {
          "base_uri": "https://localhost:8080/"
        },
        "id": "1GfhIejXJ7TD",
        "outputId": "faf0e5e9-b8e6-422f-bd5a-7d2f9a9b6939"
      },
      "execution_count": 10,
      "outputs": [
        {
          "output_type": "stream",
          "name": "stdout",
          "text": [
            "Squares list [1, 4, 9, 16, 25, 36, 49, 64, 81, 100]\n",
            "Search numbers list [2, 3, 5, 7, 25, 12, 15, 20, 22]\n",
            "Square number found in list: = 25\n",
            "Break the loop\n"
          ]
        }
      ]
    },
    {
      "cell_type": "markdown",
      "source": [
        "# Continue Statement"
      ],
      "metadata": {
        "id": "BawefuiMMieo"
      }
    },
    {
      "cell_type": "code",
      "source": [
        "#Continue will go to next iteration in the loop without executing the set of steps mentioned after the continue statement.\n",
        "#This is useful when you want not to execute certain steps under some conditions and move to next iteration in the loop.\n",
        "multipliers_10 = [10*x for x in range(1,11)]\n",
        "search_list = [1,11,21,20,35,45,63,50,40,90,55,67,100]\n",
        "#print only the number which is not multipliers of 10.\n",
        "for x in search_list:\n",
        "  if(x in multipliers_10):\n",
        "    continue\n",
        "  print('Number which is not a multiplier of 10 = ',x)"
      ],
      "metadata": {
        "colab": {
          "base_uri": "https://localhost:8080/"
        },
        "id": "Ska-aXD8MlN5",
        "outputId": "d44b5669-e465-47cd-9f56-49985f376506"
      },
      "execution_count": 11,
      "outputs": [
        {
          "output_type": "stream",
          "name": "stdout",
          "text": [
            "Number which is not a multiplier of 10 =  1\n",
            "Number which is not a multiplier of 10 =  11\n",
            "Number which is not a multiplier of 10 =  21\n",
            "Number which is not a multiplier of 10 =  35\n",
            "Number which is not a multiplier of 10 =  45\n",
            "Number which is not a multiplier of 10 =  63\n",
            "Number which is not a multiplier of 10 =  55\n",
            "Number which is not a multiplier of 10 =  67\n"
          ]
        }
      ]
    },
    {
      "cell_type": "markdown",
      "source": [
        "# Python While Loop"
      ],
      "metadata": {
        "id": "xvSVfQNlQfOg"
      }
    },
    {
      "cell_type": "code",
      "source": [
        "#while loop is alos used to execute a setup of steps until certain conditions are met mentioned in the loop.\n",
        "#Let us print first 10 natural numbers\n",
        "\n",
        "i = 1 # initialize variable i with 1 and we shall increment it to get the next next and this iteration will happen until i reaches to 10.\n",
        "while i < 11: # this is the loop condition how many times the loop will iterate.\n",
        "  print(i)\n",
        "  i += 1 # increment i"
      ],
      "metadata": {
        "colab": {
          "base_uri": "https://localhost:8080/"
        },
        "id": "oVtHC2vzQjDy",
        "outputId": "406d1ce0-461f-4d13-d667-26d399e32910"
      },
      "execution_count": 12,
      "outputs": [
        {
          "output_type": "stream",
          "name": "stdout",
          "text": [
            "1\n",
            "2\n",
            "3\n",
            "4\n",
            "5\n",
            "6\n",
            "7\n",
            "8\n",
            "9\n",
            "10\n"
          ]
        }
      ]
    },
    {
      "cell_type": "code",
      "source": [
        "# As shown earlier, break and continue can be used inside while loop with if-else conditions..\n",
        "# in a list of numbers, if any number number > 100 is found break the loop.\n",
        "search_list = [1,2,3,56,78,98,203,405,333,23]\n",
        "l = len(search_list)\n",
        "i = 0\n",
        "while (i < l):\n",
        "  if(search_list[i] > 100):\n",
        "    print('Greater than 100 number=', search_list[i])\n",
        "    break\n",
        "  i += 1 # Do not forget to write this! Else the loop will continue forever, falling into infinite loop!!"
      ],
      "metadata": {
        "colab": {
          "base_uri": "https://localhost:8080/"
        },
        "id": "muqj27lfRw4W",
        "outputId": "86013375-3ddb-4a0a-b4c8-d54554dbeff8"
      },
      "execution_count": 14,
      "outputs": [
        {
          "output_type": "stream",
          "name": "stdout",
          "text": [
            "Greater than 100 number= 203\n"
          ]
        }
      ]
    },
    {
      "cell_type": "markdown",
      "source": [
        "#Recursive functions"
      ],
      "metadata": {
        "id": "rNHziDuIgprc"
      }
    },
    {
      "cell_type": "code",
      "source": [
        "# When one function() calls itself - it is known as recursive function.\n",
        "i = 1\n",
        "def printme(i):\n",
        "  if(i > 20):        # this is known as terminating condition. without this the recursive function will keep on running in infinite times.\n",
        "    print('Stop')\n",
        "  else:\n",
        "    print(i)\n",
        "    printme(i+1)\n",
        "\n",
        "\n",
        "printme(i)"
      ],
      "metadata": {
        "colab": {
          "base_uri": "https://localhost:8080/"
        },
        "id": "kQ-37C1dgsAY",
        "outputId": "bce34f39-af60-48a1-bb99-eebcff10811b"
      },
      "execution_count": 21,
      "outputs": [
        {
          "output_type": "stream",
          "name": "stdout",
          "text": [
            "1\n",
            "2\n",
            "3\n",
            "4\n",
            "5\n",
            "6\n",
            "7\n",
            "8\n",
            "9\n",
            "10\n",
            "11\n",
            "12\n",
            "13\n",
            "14\n",
            "15\n",
            "16\n",
            "17\n",
            "18\n",
            "19\n",
            "20\n",
            "Stop\n"
          ]
        }
      ]
    },
    {
      "cell_type": "code",
      "source": [
        "#Let us write another example\n",
        "# Write a factorial function using recursive function\n",
        "\n",
        "def calc_factorial(i):\n",
        "  if(i == 1):\n",
        "    return 1\n",
        "  else:\n",
        "    return i * calc_factorial(i-1)\n",
        "print(calc_factorial(5))"
      ],
      "metadata": {
        "colab": {
          "base_uri": "https://localhost:8080/"
        },
        "id": "JlFSYevvjFXW",
        "outputId": "5fc1b2df-25e0-4c4a-e21d-129942ff7c61"
      },
      "execution_count": 22,
      "outputs": [
        {
          "output_type": "stream",
          "name": "stdout",
          "text": [
            "120\n"
          ]
        }
      ]
    },
    {
      "cell_type": "markdown",
      "source": [
        "#Lambda Function"
      ],
      "metadata": {
        "id": "wiuY--WFlfg-"
      }
    },
    {
      "cell_type": "code",
      "source": [
        "#Lambda is a special type of function- known as anonymous function.\n",
        "# It is defined with keyword lambda.\n",
        "# It has syntax as:   lambda parameter:expression\n",
        "# Let us write our first lambda function which takes one value and increment it by 1.\n",
        "lambda x: x + 1"
      ],
      "metadata": {
        "colab": {
          "base_uri": "https://localhost:8080/"
        },
        "id": "0cJ2LoOXlhRt",
        "outputId": "3af037a7-9cbc-4e1e-8498-0f61a8b94e56"
      },
      "execution_count": 25,
      "outputs": [
        {
          "output_type": "execute_result",
          "data": {
            "text/plain": [
              "<function __main__.<lambda>(x)>"
            ]
          },
          "metadata": {},
          "execution_count": 25
        }
      ]
    },
    {
      "cell_type": "code",
      "source": [
        "#Now, call the lambda function\n",
        "# surround the lambda function with parenthesis ->  (lambda x: x + 1)\n",
        "#pass the parameter just like normal function ->   (6)\n",
        "print((lambda x: x + 1)(6))"
      ],
      "metadata": {
        "colab": {
          "base_uri": "https://localhost:8080/"
        },
        "id": "H_wXArfzppq8",
        "outputId": "2972b81e-f268-4301-c0e2-95588d0c74fe"
      },
      "execution_count": 26,
      "outputs": [
        {
          "output_type": "stream",
          "name": "stdout",
          "text": [
            "7\n"
          ]
        }
      ]
    },
    {
      "cell_type": "code",
      "source": [
        "# you can assign lambda function to a variable and then call it like function\n",
        "# But this is recommended as it will boil down the normal function behaviour instead of short-term use of anonymoud function\n",
        "\n",
        "var_func = (lambda x: x + 1)\n",
        "\n",
        "print(var_func(5))\n"
      ],
      "metadata": {
        "colab": {
          "base_uri": "https://localhost:8080/"
        },
        "id": "X8tTU7s4tuC7",
        "outputId": "f12b339b-b2ae-49c9-c63e-cd0d689db2a8"
      },
      "execution_count": 27,
      "outputs": [
        {
          "output_type": "stream",
          "name": "stdout",
          "text": [
            "6\n"
          ]
        }
      ]
    },
    {
      "cell_type": "code",
      "source": [
        "# Lambda function can take multiple parameters as well separated by comma\n",
        "\n",
        "lambda x , y , z : x*x + y*y + z*z\n",
        "\n",
        "print((lambda x , y , z : x*x + y*y + z*z)(2,3,4)) # print 2*2 + 3*3 + 4*4 = 29\n"
      ],
      "metadata": {
        "colab": {
          "base_uri": "https://localhost:8080/"
        },
        "id": "XwCXtmiHuPAG",
        "outputId": "5990a6ec-2104-407e-f984-ab1a5042e8a9"
      },
      "execution_count": 28,
      "outputs": [
        {
          "output_type": "stream",
          "name": "stdout",
          "text": [
            "29\n"
          ]
        }
      ]
    },
    {
      "cell_type": "code",
      "source": [
        "# You can write conditional statement inside the lamdba function\n",
        "#"
      ],
      "metadata": {
        "id": "f3Ril2SVundq"
      },
      "execution_count": null,
      "outputs": []
    },
    {
      "cell_type": "code",
      "source": [
        " #Let us take one list of numbers and find even numbers using lambda\n",
        "nums = [2,4,6,10,15,17,19,21]\n",
        "print((lambda my_list : [x for x in my_list if x%2 == 0])(nums))"
      ],
      "metadata": {
        "colab": {
          "base_uri": "https://localhost:8080/"
        },
        "id": "lmRhM55gusqM",
        "outputId": "5ee2ae56-106e-4c51-d3df-5e5e5bc2ab76"
      },
      "execution_count": 35,
      "outputs": [
        {
          "output_type": "stream",
          "name": "stdout",
          "text": [
            "[2, 4, 6, 10]\n"
          ]
        }
      ]
    }
  ]
}