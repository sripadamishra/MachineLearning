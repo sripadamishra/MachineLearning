{
  "nbformat": 4,
  "nbformat_minor": 0,
  "metadata": {
    "colab": {
      "provenance": []
    },
    "kernelspec": {
      "name": "python3",
      "display_name": "Python 3"
    },
    "language_info": {
      "name": "python"
    }
  },
  "cells": [
    {
      "cell_type": "code",
      "execution_count": 2,
      "metadata": {
        "colab": {
          "base_uri": "https://localhost:8080/"
        },
        "id": "eDUV2yCKKHeJ",
        "outputId": "3c7f1644-513c-41e7-b1c3-5df74fa9db62"
      },
      "outputs": [
        {
          "output_type": "stream",
          "name": "stdout",
          "text": [
            "--2023-05-09 11:03:50--  https://cs.nyu.edu/~roweis/data/nips12raw_str602.tgz\n",
            "Resolving cs.nyu.edu (cs.nyu.edu)... 216.165.22.203\n",
            "Connecting to cs.nyu.edu (cs.nyu.edu)|216.165.22.203|:443... connected.\n",
            "HTTP request sent, awaiting response... 200 OK\n",
            "Length: 12851423 (12M) [application/x-gzip]\n",
            "Saving to: ‘nips12raw_str602.tgz’\n",
            "\n",
            "nips12raw_str602.tg 100%[===================>]  12.26M  6.23MB/s    in 2.0s    \n",
            "\n",
            "2023-05-09 11:03:53 (6.23 MB/s) - ‘nips12raw_str602.tgz’ saved [12851423/12851423]\n",
            "\n"
          ]
        }
      ],
      "source": [
        "!wget https://cs.nyu.edu/~roweis/data/nips12raw_str602.tgz\n",
        "!tar -xzf nips12raw_str602.tgz"
      ]
    },
    {
      "cell_type": "code",
      "source": [
        "!pip install tqdm\n",
        "import nltk\n",
        "nltk.download('punkt')\n",
        "nltk.download('stopwords')\n",
        "nltk.download('wordnet')"
      ],
      "metadata": {
        "colab": {
          "base_uri": "https://localhost:8080/"
        },
        "id": "DwCzluOGKhNP",
        "outputId": "9cbc27bb-c8aa-4a0c-e83d-92045f9be6ef"
      },
      "execution_count": 3,
      "outputs": [
        {
          "output_type": "stream",
          "name": "stdout",
          "text": [
            "Looking in indexes: https://pypi.org/simple, https://us-python.pkg.dev/colab-wheels/public/simple/\n",
            "Requirement already satisfied: tqdm in /usr/local/lib/python3.10/dist-packages (4.65.0)\n"
          ]
        },
        {
          "output_type": "stream",
          "name": "stderr",
          "text": [
            "[nltk_data] Downloading package punkt to /root/nltk_data...\n",
            "[nltk_data]   Unzipping tokenizers/punkt.zip.\n",
            "[nltk_data] Downloading package stopwords to /root/nltk_data...\n",
            "[nltk_data]   Unzipping corpora/stopwords.zip.\n",
            "[nltk_data] Downloading package wordnet to /root/nltk_data...\n"
          ]
        },
        {
          "output_type": "execute_result",
          "data": {
            "text/plain": [
              "True"
            ]
          },
          "metadata": {},
          "execution_count": 3
        }
      ]
    },
    {
      "cell_type": "code",
      "source": [
        "import os\n",
        "import numpy as np\n",
        "import pandas as pd\n",
        "\n",
        "DATA_PATH = 'nipstxt/'\n",
        "folders = [\"nips{0:02}\".format(i) for i in range(0,13)]\n",
        "papers = []\n",
        "for folder in folders:\n",
        "  file_names = os.listdir(DATA_PATH + folder)\n",
        "  for file_name in file_names:\n",
        "    file_name = DATA_PATH + folder + '/' + file_name\n",
        "    with open(file_name,encoding='utf-8',mode='r+',errors='ignore') as file:\n",
        "      text = file.read()\n",
        "      papers.append(text)\n",
        "\n"
      ],
      "metadata": {
        "id": "xAFCquqcKmSe"
      },
      "execution_count": 4,
      "outputs": []
    },
    {
      "cell_type": "code",
      "source": [
        "print(len(papers))\n",
        "print(papers[100][:10])"
      ],
      "metadata": {
        "colab": {
          "base_uri": "https://localhost:8080/"
        },
        "id": "UWfOMAmtKvK1",
        "outputId": "47bccb56-e123-4645-e77d-b9941a58cc9f"
      },
      "execution_count": 5,
      "outputs": [
        {
          "output_type": "stream",
          "name": "stdout",
          "text": [
            "1740\n",
            "410 \n",
            "NEURA\n"
          ]
        }
      ]
    },
    {
      "cell_type": "code",
      "source": [
        "%%time\n",
        "import nltk\n",
        "import tqdm\n",
        "\n",
        "stop_words = nltk.corpus.stopwords.words('english')\n",
        "wtk = nltk.tokenize.RegexpTokenizer(r'\\w+')\n",
        "wnl = nltk.stem.wordnet.WordNetLemmatizer()\n",
        "\n",
        "def normalize_text(papers):\n",
        "  normalized_papers = []\n",
        "  for paper in tqdm.tqdm(papers):\n",
        "    paper = paper.lower()\n",
        "    paper_tokens = [token.strip() for token in wtk.tokenize(paper)]\n",
        "    paper_tokens = [wnl.lemmatize(token) for token in paper_tokens if not token.isnumeric()]\n",
        "    paper_tokens = [token for token in paper_tokens if len(token) > 1]\n",
        "    paper_tokens = [token for token in paper_tokens if token not in stop_words]\n",
        "    paper_tokens = list(filter(None,paper_tokens))\n",
        "    if paper_tokens:\n",
        "      normalized_papers.append(paper_tokens)\n",
        "  \n",
        "  return normalized_papers\n",
        "\n",
        "\n",
        "norm_papers = normalize_text(papers)\n",
        "\n",
        "print(norm_papers[0])"
      ],
      "metadata": {
        "colab": {
          "base_uri": "https://localhost:8080/"
        },
        "id": "PnQdg51rK0QY",
        "outputId": "206379b2-94ef-4d32-96d9-cdaf6b589c37"
      },
      "execution_count": 6,
      "outputs": [
        {
          "output_type": "stream",
          "name": "stderr",
          "text": [
            "100%|██████████| 1740/1740 [00:33<00:00, 51.20it/s]"
          ]
        },
        {
          "output_type": "stream",
          "name": "stdout",
          "text": [
            "['performance', 'measure', 'associative', 'memory', 'learn', 'forget', 'anthony', 'kuh', 'department', 'electrical', 'engineering', 'university', 'hawaii', 'manoa', 'honolulu', 'hi', 'abstract', 'recently', 'many', 'modification', 'mcculloch', 'pitt', 'model', 'proposed', 'learning', 'forgetting', 'occur', 'given', 'network', 'never', 'saturates', 'cease', 'function', 'effectively', 'due', 'overload', 'information', 'learning', 'update', 'con', 'tinue', 'indefinitely', 'network', 'need', 'introduce', 'performance', 'measure', 'addi', 'tion', 'information', 'capacity', 'evaluate', 'different', 'network', 'mathematically', 'define', 'quantity', 'plasticity', 'network', 'efficacy', 'information', 'vector', 'probability', 'network', 'saturation', 'quantity', 'analytically', 'compare', 'different', 'network', 'introduction', 'work', 'ha', 'recently', 'undertaken', 'quantitatively', 'measure', 'computational', 'aspect', 'network', 'model', 'exhibit', 'attribute', 'neural', 'network', 'mcculloch', 'pitt', 'model', 'discussed', 'wa', 'one', 'earliest', 'neural', 'network', 'model', 'analyzed', 'computational', 'property', 'call', 'hopfield', 'associative', 'memory', 'network', 'hamn', 'similar', 'mcculloch', 'pitt', 'model', 'wa', 'discussed', 'hopfield', 'hamn', 'measured', 'quantitatively', 'defining', 'evaluating', 'information', 'capacity', 'shown', 'network', 'fails', 'exhibit', 'complex', 'computational', 'capability', 'neural', 'network', 'due', 'simplified', 'structure', 'hamn', 'belongs', 'class', 'network', 'call', 'static', 'static', 'network', 'learning', 'recall', 'pro', 'cedures', 'separate', 'network', 'first', 'learns', 'set', 'data', 'learning', 'complete', 'recall', 'occurs', 'dynamic', 'network', 'opposed', 'static', 'network', 'updated', 'learning', 'associative', 'recall', 'intermingled', 'continual', 'many', 'application', 'adaptive', 'communication', 'system', 'image', 'processing', 'speech', 'recognition', 'dynamic', 'network', 'needed', 'adaptively', 'learn', 'changing', 'information', 'data', 'paper', 'formally', 'develops', 'analyzes', 'dynamic', 'model', 'neural', 'network', 'existing', 'model', 'analyzed', 'new', 'model', 'developed', 'measure', 'formulated', 'evaluating', 'per', 'formance', 'different', 'dynamic', 'network', 'asymptotic', 'information', 'capacity', 'hamn', 'defined', 'evaluated', 'capacity', 'found', 'first', 'assuming', 'information', 'vector', 'iv', 'stored', 'component', 'chosen', 'randomly', 'independently', 'com', 'ponents', 'iv', 'information', 'capacity', 'give', 'maximum', 'number', 'iv', 'stored', 'hamn', 'iv', 'recovered', 'high', 'probability', 'retrieval', 'capacity', 'network', 'high', 'probability', 'successfully', 'recovers', 'desired', 'iv', 'capacity', 'network', 'quickly', 'degrades', 'eventually', 'fails', 'recover', 'desired', 'iv', 'phenomenon', 'sometimes', 'referred', 'forgetting', 'catastrophe', 'paper', 'refer', 'phenomenon', 'network', 'saturation', 'two', 'way', 'avoid', 'phenomenon', 'first', 'method', 'involves', 'learning', 'limited', 'number', 'iv', 'number', 'capacity', 'learning', 'take', 'place', 'learning', 'allowed', 'learning', 'ha', 'stopped', 'network', 'doe', 'change', 'defined', 'static', 'therefore', 'lack', 'many', 'interesting', 'computational', 'american', 'institute', 'physic', 'capability', 'adaptive', 'learning', 'neural', 'network', 'model', 'second', 'method', 'incorporate', 'type', 'forgetting', 'mechanism', 'learning', 'structure', 'information', 'stored', 'network', 'never', 'exceed', 'capacity', 'type', 'network', 'would', 'able', 'adapt', 'changing', 'statistic', 'iv', 'network', 'would', 'able', 'recall', 'recently', 'learned', 'iv', 'paper', 'focus', 'analyzing', 'dynamic', 'network', 'adaptively', 'learn', 'new', 'information', 'exhibit', 'network', 'saturation', 'phenomenon', 'selectively', 'forgetting', 'old', 'data', 'emphasis', 'developing', 'simple', 'model', 'much', 'analysis', 'performed', 'dynamic', 'network', 'us', 'modified', 'hebbian', 'learning', 'rule', 'section', 'introduces', 'qualitatively', 'discus', 'number', 'network', 'model', 'classified', 'dynamic', 'network', 'section', 'also', 'defines', 'pertinent', 'measure', 'evaluating', 'dynamic', 'network', 'model', 'measure', 'include', 'plasticity', 'network', 'probability', 'network', 'saturation', 'efficacy', 'stored', 'iv', 'network', 'plasticity', 'cannot', 'learn', 'network', 'high', 'plasticity', 'ha', 'interconnection', 'weight', 'exhibit', 'large', 'change', 'efficacy', 'stored', 'iv', 'function', 'time', 'another', 'impor', 'tant', 'parameter', 'used', 'determining', 'rate', 'network', 'forgets', 'informa', 'tion', 'section', 'mathematically', 'analyze', 'simple', 'dynamic', 'network', 'referred', 'attenuated', 'linear', 'updated', 'learning', 'alul', 'network', 'us', 'linear', 'updating', 'modified', 'hebbian', 'rule', 'quantity', 'introduced', 'section', 'analytically', 'determined', 'alul', 'network', 'adjusting', 'attenuation', 'parameter', 'alul', 'network', 'forgetting', 'factor', 'adjusted', 'shown', 'optimal', 'capacity', 'large', 'alul', 'net', 'work', 'steady', 'state', 'defined', 'factor', 'le', 'capacity', 'hamn', 'tradeoff', 'must', 'paid', 'dynamic', 'capability', 'also', 'conjecture', 'network', 'perform', 'better', 'network', 'worst', 'case', 'criterion', 'used', 'finally', 'section', 'discus', 'direction', 'work', 'along', 'po', 'sible', 'application', 'adaptive', 'signal', 'processing', 'dynamic', 'associative', 'memory', 'network', 'network', 'model', 'discussed', 'paper', 'based', 'concept', 'associative', 'memory', 'associative', 'memory', 'composed', 'collection', 'interconnected', 'element', 'data', 'storage', 'capability', 'like', 'memory', 'structure', 'two', 'opera', 'tions', 'occur', 'associative', 'memory', 'learning', 'operation', 'referred', 'write', 'operation', 'conventional', 'memory', 'information', 'stored', 'network', 'structure', 'recall', 'operation', 'referred', 'read', 'operation', 'conventional', 'memory', 'informa', 'tion', 'retrieved', 'memory', 'structure', 'associative', 'memory', 'recall', 'information', 'basis', 'data', 'content', 'rather', 'specific', 'address', 'model', 'consider', 'learning', 'recall', 'operation', 'updated', 'discrete', 'time', 'activa', 'tion', 'state', 'consisting', 'cell', 'take', 'value', 'dynamic', 'network', 'measure', 'general', 'associative', 'memory', 'network', 'described', 'two', 'set', 'equation', 'i1', 'let', 'represent', 'activation', 'state', 'time', 'represent', 'weight', 'matrix', 'interconnection', 'state', 'time', 'activation', 'recall', 'equation', 'described', '_0', '_0', '_5', 'data', 'probe', 'vector', 'used', 'recall', 'learning', 'algorithm', 'interconnec', 'tion', 'equation', 'described', 'information', 'vector', 'iv', 'stored', 'initial', 'state', 'interconnection', 'matrix', 'usually', 'learning', 'algorithm', 'time', 'scale', 'much', 'longer', 'recall', 'equation', 'time', 'scale', 'considered', 'time', 'invariant', 'often', 'viewed', 'equation', 'governing', 'short', 'term', 'memory', 'equation', 'governing', 'long', 'term', 'memory', 'hebbian', 'hypothesis', 'note', 'data', 'probe', 'vector', 'effect', 'interconnection', 'matrix', 'number', 'data', 'probe', 'vector', 'recall', 'iv', 'strength', 'recall', 'iv', 'increased', 'appropriate', 'modification', 'another', 'iv', 'never', 'recalled', 'gradually', 'gotten', 'adjusting', 'term', 'following', 'analysis', 'assume', 'component', 'iv', 'introduced', 'independent', 'identically', 'distributed', 'bernoulli', 'random', 'variable', 'probability', 'chosen', 'equal', 'analysis', 'focus', 'learning', 'algorithm', 'describing', 'dynamic', 'learning', 'algorithm', 'present', 'definition', 'network', 'defined', 'dynamic', 'given', 'period', 'time', 'rate', 'change', 'never', 'nonzero', 'addition', 'primarily', 'dis', 'cuss', 'network', 'learning', 'gradual', 'updated', 'discrete', 'time', 'shown', 'gradual', 'want', 'network', 'update', 'usually', 'consists', 'one', 'iv', 'learned', 'forgotten', 'iv', 'introduced', 'recently', 'high', 'probability', 'recovery', 'probability', 'recall', 'one', 'iv', 'also', 'monotonic', 'decreasing', 'func', 'tion', 'time', 'given', 'iv', 'repeated', 'network', 'consider', 'also', 'relatively', 'low', 'probability', 'network', 'saturation', 'quantitatively', 'let', 'event', 'iv', 'introduced', 'time', 'recovered', 'time', 'data', 'probe', 'vector', 'hamming', 'distance', 'desired', 'iv', 'efficacy', 'network', 'recovery', 'given', 'analysis', 'performed', 'say', 'vector', 'recover', 'synchronous', 'activation', 'update', 'cell', 'network', 'capacity', 'dynamic', 'network', 'given', 'maxm', 'pr', 'o_', 'give', 'cardinality', 'number', 'event', 'occur', 'set', 'closely', 'related', 'capacity', 'network', 'netsyork', 'saturation', 'saturation', 'occurs', 'network', 'overloaded', 'iv', 'none', 'iv', 'successfully', 'recovered', 'network', 'time', 'start', 'learn', 'iv', 'time', 'k_', 'network', 'saturation', 'probability', 'defined', 'rn', 'describes', 'probability', 'network', 'cannot', 'recover', 'iv', 'another', 'important', 'measure', 'analyzing', 'performance', 'dynamic', 'network', 'plasticity', 'interconnection', 'weight', 'matrix', 'following', 'definition', 'similar', 'define', 'incremental', 'synaptic', 'intensity', 'ev', 'cumulative', 'synaptic', 'intensity', 'definition', 'define', 'plasticity', 'network', 'network', 'pl', 'ticity', 'zero', 'network', 'doe', 'change', 'learning', 'take', 'place', 'pl', 'ticity', 'high', 'network', 'interconnection', 'exhibit', 'large', 'change', 'analyzing', 'dynamic', 'network', 'often', 'interested', 'network', 'reach', 'steady', 'state', 'say', 'dynamic', 'network', 'reach', 'steady', 'state', 'lim', 'finite', 'nonzero', 'constant', 'iv', 'stationary', 'statistic', 'given', 'learning', 'operation', 'time', 'invariant', 'network', 'reach', 'steady', 'state', 'limp', 'oo', 'finite', 'constant', 'also', 'easily', 'verified', 'plasticity', 'con', 'verge', 'nonzero', 'constant', 'dynamic', 'network', 'given', 'condition', 'iv', 'learning', 'operation', 'network', 'eventually', 'reach', 'steady', 'state', 'let', 'also', 'define', 'synaptic', 'state', 'time', 'activation', 'state', 'synaptic', 'state', 'define', 'snr', 'show', 'section', 'closely', 'related', 'efficacy', 'iv', 'capacity', 'network', 'snr', 'var', 'another', 'quantity', 'important', 'measuring', 'dynamic', 'network', 'complexity', 'implementation', 'quantity', 'dealing', 'network', 'complexity', 'discussed', 'paper', 'focus', 'network', 'memoryless', 'network', 'memoryless', 'expressed', 'following', 'form', 'network', 'memoryless', 'disadvantage', 'iv', 'need', 'saved', 'dur', 'ing', 'learning', 'update', 'complexity', 'implementation', 'greatly', 'increased', 'term', 'space', 'complexity', 'likely', 'increased', 'term', 'time', 'complexity', 'example', 'dynamic', 'associative', 'memory', 'network', 'previous', 'subsection', 'discussed', 'quantity', 'measure', 'dynamic', 'network', 'subsection', 'discus', 'example', 'dynamic', 'associative', 'memory', 'network', 'qualitatively', 'discus', 'advantage', 'disadvantage', 'different', 'network', 'net', 'work', 'considered', 'memoryless', 'property', 'first', 'network', 'discus', 'described', 'following', 'diffcrence', 'equation', 'initial', 'value', 'weight', 'learning', 'ha', 'taken', 'place', 'network', 'learning', 'rule', 'labeled', 'linear', 'updated', 'learning', 'lul', 'network', 'addition', 'k_', 'network', 'labeled', 'attenuated', 'linear', 'updated', 'learning', 'alul', 'network', 'viii', 'primarily', 'deal', 'alul', 'depend', 'position', 'model', 'specialized', 'version', 'grossberg', 'passive', 'decay', 'ltm', 'equation', 'discussed', 'learning', 'algorithm', 'correla', 'tion', 'type', 'la', 'learning', 'scheme', 'ha', 'similarity', 'marginalist', 'learning', 'scheme', 'introduced', 'one', 'key', 'parameter', 'alul', 'network', 'value', 'attenuation', 'coefficient', 'simulation', 'intuition', 'know', 'attenuation', 'coefficient', 'high', 'network', 'saturate', 'attenuation', 'parameter', 'low', 'network', 'forget', 'recently', 'introduced', 'fvrs', 'fig', 'us', 'monte', 'carlo', 'method', 'show', 'plot', 'number', '1vs', 'recoverable', 'cell', 'network', 'hamn', 'function', 'learning', 'time', 'scale', 'figure', 'clearly', 'see', 'network', 'saturatiou', 'exhibited', 'time', 'iv', 'recoverable', 'high', 'probability', 'section', 'analyzes', 'alul', 'network', 'derives', 'value', 'different', 'measure', 'introduced', 'section', 'another', 'learning', 'scheme', 'called', 'bounded', 'learning', 'bl', 'described', 'setting', 'attenuation', 'parameter', 'letting', 'max', 'identical', 'learning', 'bound', 'scheme', 'discussed', 'unfortunately', 'serious', 'drawback', 'model', 'large', 'network', 'saturate', 'high', 'probability', 'set', 'probability', 'network', 'saturation', 'low', 'net', 'work', 'ha', 'characteristic', 'learning', 'almost', 'value', 'min', 'therefore', 'efficacy', 'network', 'recovery', 'order', 'bl', 'scheme', 'classified', 'dynamic', 'learning', 'attenuation', 'parameter', 'must', 'value', 'learning', 'scheme', 'com', 'plex', 'version', 'learning', 'scheme', 'derived', 'let', 'qualitatively', 'analyze', 'learning', 'scheme', 'constant', 'two', 'case', 'consider', 'network', 'affected', 'hound', 'network', 'behaves', 'alul', 'network', 'netxvork', 'accepts', 'iv', 'bound', 'reached', 'hound', 'reached', 'network', 'wait', 'value', 'interconnection', 'matrix', 'attenuated', 'prescribed', 'level', 'learning', 'continue', 'judi', 'ciously', 'chosen', 'bl', 'provides', 'mean', 'network', 'avoid', 'saturation', 'holding', 'iv', 'difficult', 'show', 'learning', 'scheme', 'equivalent', 'alul', 'network', 'time', 'varying', 'third', 'learning', 'scheme', 'called', 'refresh', 'learning', 'rl', 'described', 'kmod', 'learning', 'scheme', 'learns', 'set', 'iv', 'periodically', 'refreshes', 'weighting', 'matrix', 'interconnection', 'rl', 'classified', 'dynamic', 'learning', 'learning', 'gradual', 'periodic', 'refresh', 'cycle', 'another', 'problem', 'learning', 'scheme', 'efficacy', 'iv', 'depend', 'period', 'learned', 'iv', 'learned', 'late', 'period', 'quickly', 'forgotten', 'iv', 'learned', 'early', 'period', 'longer', 'time', 'recoverable', 'learning', 'scheme', 'introduced', 'network', 'ha', 'learning', 'forgetting', 'capability', 'network', 'introduced', 'separate', 'learning', 'forgetting', 'task', 'using', 'standard', 'ha_mn', 'algorithm', 'learn', 'iv', 'random', 'selective', 'forgetting', 'algo', 'rithm', 'unlearn', 'excess', 'information', 'algorithm', 'call', 'random', 'selective', 'forget', 'ting', 'rsf', 'described', 'formally', 'follows', 'k_', 'vector', 'obtained', 'choosing', 'random', 'vector', 'manner', 'iv', 'chosen', 'letting', 'initial', 'state', 'hamn', 'interconnection', 'matrix', 'recall', 'operation', 'described', 'repeated', 'activation', 'ha', 'settled', 'local', 'minimum', 'state', 'assigned', 'state', 'rate', 'randomly', 'selected', 'local', 'minimum', 'energy', 'state', 'forgotten', 'given', 'nonnegative', 'integer', 'valued', 'function', 'monotonically', 'increasing', 'function', 'analysis', 'rsf', 'algorithm', 'difficult', 'energy', 'manifold', 'describes', 'energy', 'activation', 'state', 'update', 'allowable', 'must', 'well', 'understood', 'simple', 'transformation', 'weighting', 'matrix', 'energy', 'activation', 'state', 'given', 'ew', 'aggregately', 'analyzing', 'local', 'minimum', 'energy', 'activation', 'state', 'complex', 'computer', 'simulation', 'simplified', 'assumption', 'come', 'qualitative', 'explanation', 'rsf', 'algorithm', 'based', 'eigenvalue', 'approach', 'analysis', 'alul', 'network', 'section', 'focused', 'defining', 'property', 'analytical', 'measure', 'dynamic', 'amn', 'along', 'presenting', 'example', 'learning', 'algorithm', 'dynamic', 'amn', 'section', 'focus', 'analysis', 'one', 'simpler', 'algorithm', 'alul', 'network', 'time', 'invariant', 'alul', 'network', 'described', 'fol', 'lowing', 'interconnection', 'state', 'equation', 'nonnegative', 'real', 'number', 'many', 'measure', 'introduced', 'section', 'easily', 'determined', 'alul', 'network', 'calculate', 'incremental', 'synaptic', 'intensity', 'cumulative', 'synaptic', 'intensity', 'let', 'initial', 'condition', 'interconnection', 'state', 'independent', 'interconnection', 'state', 'independent', 'iv', 'ewi', 'var', 'b21', 'a2', 'l_a2', 'a2', 'a2', 'a2k', 'steady', 'state', 'simple', 'relationship', 'attenuation', 'parameter', 'plasticity', 'measure', 'directly', 'relate', 'plasticity', 'measure', 'capacity', 'network', 'define', 'steady', 'state', 'capacity', 'lim', 'network', 'steady', 'state', 'exists', 'analytically', 'determine', 'capacity', 'first', 'assume', 'jointly', 'gaussian', 'random', 'vector', 'assume', 'rn', 'independent', 'identically', 'distributed', 'sufficiently', 'large', 'snr', 'snr', 'logn', 'rc', 'logn', 'given', 'first', 'find', 'largest', 'lim', 'letting', 'imum', '21ogn', 'solving', 'rn', 'get', 'log', '21ogn', '2logn', 'loga', 'also', 'possible', 'find', 'value', 'maximizes', '21ogn', 'log', '21ogn', 'logn', 'maximum', 'value', '2m', 'lim', 'given', 'lete', '2elogn', 'note', 'note', 'factor', 'le', 'maximum', 'number', 'iv', 'allowable', '2m', 'static', 'hamn', 'one', 'iv', 'recoverable', 'following', 'analysis', 'independence', 'assumption', 'gaussian', 'assumption', 'used', 'earlier', 'removed', 'argument', 'involve', 'using', 'result', 'exchangeability', 'theory', 'normal', 'approximation', 'theory', 'similar', 'somewhat', 'cumbersome', 'analysis', 'performed', 'show', '2m', 'steady', 'state', 'maximum', 'capacity', 'achievable', 'given', '2m', 'lim', 'logn', 'factor', 'le', 'maximum', 'number', 'iv', 'allowable', 'static', 'hamn', 'iv', 'recoverable', 'fig', 'show', 'monte', 'carlo', 'simulation', 'number', 'iv', 'recoverable', 'cell', 'network', 'versus', 'learning', 'time', 'scale', 'varying', 'see', 'network', 'reach', 'approximate', 'steady', 'state', 'k_', 'maximum', 'capacity', 'achievable', 'capacity', 'around', 'slightly', 'theoretical', 'value', 'predicted', 'analysis', 'shown', 'compare', 'fig', 'smaller', 'simulation', 'conducted', 'larger', 'network', 'simulated', 'capacity', 'wa', 'closer', 'predicted', 'value', 'simulation', 'analysis', 'observe', 'small', 'iv', 'forgotten', 'high', 'rate', 'corresponds', 'high', 'network', 'saturation', 'occurs', 'using', 'argument', 'possible', 'analyze', 'capacity', 'network', '2m', 'efficacy', 'iv', 'small', 'assuming', 'zero', 'initial', 'condition', '2m', 'summarize', 'learning', 'behavior', 'alul', 'network', 'learning', 'behavior', 'divided', 'three', 'phase', 'first', 'phase', 'iv', 'remembered', '4e', 'logn', 'characteristic', 'network', 'similar', 'hamn', 'saturation', 'second', 'phase', 'iv', 'forgotten', 'rate', 'forgetting', 'becomes', 'nonzero', 'phase', 'maximum', 'capacity', 'reached', 'shown', 'fig', 'capacity', 'network', 'cannot', 'dynamically', 'recall', 'iv', 'network', 'start', 'forget', 'information', 'receives', 'continues', 'steady', 'state', 'reached', 'learning', 'forgetting', 'rate', 'equal', 'initial', 'condition', 'nonzero', 'network', 'start', 'phase', 'begin', 'ning', 'phase', 'value', 'corresponding', 'maximum', 'capacity', 'end', 'phase', 'larger', 'calculation', 'network', 'saturation', 'probability', 'trivial', 'large', 'net', 'work', 'capacity', 'curve', 'found', 'otherwise', 'leaving', 'section', 'let', 'briefly', 'examine', 'alul', 'network', 'time', 'varying', 'example', 'time', 'varying', 'network', 'marginmist', 'learning', 'scheme', 'introduced', 'network', 'defined', 'fixing', 'value', 'snr', 'value', 'fixed', 'setting', 'varying', 'since', 'varei', 'monotonic', 'increasing', 'function', 'must', 'also', 'mono', 'tonic', 'increasing', 'function', 'difficult', 'show', 'large', 'mar', 'ginalist', 'learning', 'scheme', 'equivalent', 'steady', 'state', 'alul', 'defined', 'argu', 'ment', 'based', 'noting', 'steady', 'state', 'snr', 'depends', 'update', 'time', 'difference', 'update', 'time', 'iv', 'wa', 'stored', 'case', 'marginmist', 'learning', 'scheme', '4logn', 'optimal', 'value', 'giving', 'highest', 'capacity', '2m', '2m', '4e', 'logn', 'performance', 'defined', 'worst', 'case', 'criterion', 'criterion', 'min', 'conjecture', 'large', 'alul', 'defined', 'larger', 'optimal', 'alul', 'defined', 'consider', 'average', 'capacity', 'note', 'rl', 'network', 'ha', 'average', 'capacity', 'larger', 'optimal', '81ogn', 'alul', 'network', 'defined', 'however', 'envisioned', 'application', 'worst', 'case', 'criterion', 'accurate', 'measure', 'performance', 'criterion', 'based', 'average', 'capacity', 'summary', 'paper', 'ha', 'introduced', 'number', 'simple', 'dynamic', 'neural', 'network', 'model', 'defined', 'several', 'measure', 'evaluate', 'performance', 'model', 'parameter', 'steady', 'state', 'alul', 'network', 'described', 'evaluated', 'attenuation', 'parameter', 'giving', 'largest', 'capacity', 'wa', 'found', 'capacity', 'wa', 'found', 'factor', 'le', 'static', 'hamn', 'capacity', 'furthermore', 'conjectured', 'consider', 'worst', 'case', 'performance', 'criterion', 'alul', 'network', 'could', 'perform', 'better', 'optimal', 'alul', 'network', 'defined', 'finally', 'number', 'dynamic', 'model', 'including', 'bl', 'rl', 'marginalist', 'learning', 'stated', 'equivalent', 'alul', 'network', 'certain', 'condition', 'network', 'model', 'considered', 'paper', 'binary', 'vector', 'valued', 'activation', 'state', 'may', 'simplistic', 'considered', 'many', 'signal', 'processing', 'appli', 'cation', 'generalizing', 'analysis', 'complicated', 'model', 'analog', 'vector', 'valued', 'activation', 'state', 'continuous', 'time', 'updating', 'may', 'possible', 'use', 'generalized', 'model', 'speech', 'image', 'processing', 'specific', 'example', 'would', 'controller', 'moving', 'robot', 'generalized', 'network', 'model', 'would', 'learn', 'input', 'data', 'adaplively', 'changing', 'interconnection', 'network', 'old', 'data', 'would', 'forgotten', 'data', 'wa', 'repeatedly', 'recalled', 'would', 'reinforced', 'network', 'model', 'could', 'also', 'used', 'input', 'data', 'statistic', 'nonstationary', 'reference', 'mcculloch', 'pitt', 'logical', 'calculus', 'idea', 'iminent', 'nervous', 'activity', 'bulletin', 'mathematical', 'biophysics', 'hopfield', 'neural', 'network', 'physical', 'system', 'emergent', 'collective', 'com', 'putational', 'ability', 'proc', 'natl', 'acad', 'sci', 'usa', 'abu', 'mostafa', 'st', 'jacques', 'information', 'capacity', 'hop', 'field', 'model', 'ieee', 'trans', 'inform', 'theory', 'vol', 'mceliece', 'posner', 'rodemich', 'venkatesh', 'capacity', 'ithe', 'hopfield', 'associative', 'memory', 'ieee', 'trans', 'inform', 'theory', 'vol', 'kuh', 'dickinson', 'information', 'capacity', 'associative', 'memory', 'published', 'ieee', 'trans', 'inform', 'theory', 'amir', 'gutfreund', 'sompolinsky', 'spin', 'glass', 'model', 'neural', 'net', 'work', 'phys', 'rev', 'vol', 'hopfield', 'feinstein', 'palmer', 'unlearning', 'ha', 'stabilizing', 'effect', 'collective', 'memory', 'nature', 'vol', 'sasiela', 'forgetting', 'way', 'improve', 'neural', 'net', 'behavior', 'alp', 'confer', 'ence', 'proceeding', 'keeler', 'basin', 'attraction', 'neural', 'network', 'model', 'aip', 'conference', 'proceeding', 'nadal', 'toulouse', 'changeux', 'dehaene', 'network', 'formal', 'neuron', 'memory', 'palimpsest', 'europhysics', 'let', 'vol', 'grossberg', 'nonlinear', 'neural', 'network', 'principle', 'mechanism', 'architec', 'tures', 'neural', 'network', 'press', 'venkatesh', 'psaltis', 'information', 'storage', 'retrieval', 'two', 'associa', 'tive', 'net', 'california', 'institute', 'technology', 'pasadena', 'dept', 'elect', 'eng', 'pre', 'print', 'lo', 'hamn', 'capacity', 'trial', 'average', 'iv', 'update', 'time', 'alul', 'capacity', 'trial', 'update', 'time', 'fig']\n",
            "CPU times: user 33.1 s, sys: 530 ms, total: 33.7 s\n",
            "Wall time: 34 s\n"
          ]
        },
        {
          "output_type": "stream",
          "name": "stderr",
          "text": [
            "\n"
          ]
        }
      ]
    },
    {
      "cell_type": "code",
      "source": [
        "import gensim\n",
        "#bigram = gensim.models.Phrases(norm_papers, min_count=20, threshold=20,delimiter=b'_') # putting delimiter is giving error.\n",
        "bigram = gensim.models.Phrases(norm_papers, min_count=20, threshold=20) # higher threshold fewer phrases.\n",
        "bigram_model = gensim.models.phrases.Phraser(bigram)\n",
        "\n",
        "\n",
        "print(bigram_model[norm_papers[0][:100]])"
      ],
      "metadata": {
        "colab": {
          "base_uri": "https://localhost:8080/"
        },
        "id": "D0pvjiNZK-rZ",
        "outputId": "437f1bbb-7332-4638-c435-3e5268be1c0f"
      },
      "execution_count": 7,
      "outputs": [
        {
          "output_type": "stream",
          "name": "stdout",
          "text": [
            "['performance', 'measure', 'associative_memory', 'learn', 'forget', 'anthony', 'kuh', 'department_electrical', 'engineering_university', 'hawaii', 'manoa', 'honolulu', 'hi', 'abstract', 'recently', 'many', 'modification', 'mcculloch_pitt', 'model', 'proposed', 'learning', 'forgetting', 'occur', 'given', 'network', 'never', 'saturates', 'cease', 'function', 'effectively', 'due', 'overload', 'information', 'learning', 'update', 'con', 'tinue', 'indefinitely', 'network', 'need', 'introduce', 'performance', 'measure', 'addi', 'tion', 'information', 'capacity', 'evaluate', 'different', 'network', 'mathematically', 'define', 'quantity', 'plasticity', 'network', 'efficacy', 'information', 'vector', 'probability', 'network', 'saturation', 'quantity', 'analytically', 'compare', 'different', 'network', 'introduction', 'work', 'ha', 'recently', 'undertaken', 'quantitatively', 'measure', 'computational', 'aspect', 'network', 'model', 'exhibit', 'attribute', 'neural_network', 'mcculloch_pitt', 'model', 'discussed', 'wa', 'one', 'earliest', 'neural_network', 'model', 'analyzed', 'computational', 'property', 'call', 'hopfield']\n"
          ]
        }
      ]
    },
    {
      "cell_type": "code",
      "source": [
        "norm_corpus_bigram = [bigram_model[doc] for doc in norm_papers]\n",
        "dictionary = gensim.corpora.Dictionary(norm_corpus_bigram)\n",
        "\n",
        "print('Sample word to number mappings:', list(dictionary.items())[:15])\n",
        "print('Total Vocabulary Size:', len(dictionary))"
      ],
      "metadata": {
        "colab": {
          "base_uri": "https://localhost:8080/"
        },
        "id": "3tsxVFF9LEUg",
        "outputId": "c32ad9e6-7da5-41e0-f3dd-e3dce787a54c"
      },
      "execution_count": 8,
      "outputs": [
        {
          "output_type": "stream",
          "name": "stdout",
          "text": [
            "Sample word to number mappings: [(0, '1vs'), (1, '21ogn'), (2, '2elogn'), (3, '2logn'), (4, '2m'), (5, '4e'), (6, '4logn'), (7, '81ogn'), (8, '_0'), (9, '_5'), (10, 'a2'), (11, 'a2k'), (12, 'ability'), (13, 'able'), (14, 'abstract')]\n",
            "Total Vocabulary Size: 78892\n"
          ]
        }
      ]
    },
    {
      "cell_type": "code",
      "source": [
        "# Filter out words that occur less than 20 documents, or more than 60% of the documents.\n",
        "dictionary.filter_extremes(no_below=20, no_above=0.6)\n",
        "print('Total Vocabulary Size:', len(dictionary))"
      ],
      "metadata": {
        "colab": {
          "base_uri": "https://localhost:8080/"
        },
        "id": "VZ4GUcuDLE6R",
        "outputId": "d802bc03-3bcb-43ff-f59e-bc63bccaac42"
      },
      "execution_count": 9,
      "outputs": [
        {
          "output_type": "stream",
          "name": "stdout",
          "text": [
            "Total Vocabulary Size: 7756\n"
          ]
        }
      ]
    },
    {
      "cell_type": "code",
      "source": [
        "bow_corpus = [dictionary.doc2bow(text) for text in norm_corpus_bigram]\n",
        "print(bow_corpus[1][:50])"
      ],
      "metadata": {
        "colab": {
          "base_uri": "https://localhost:8080/"
        },
        "id": "MXT4SyE5LJhy",
        "outputId": "832b2e4b-d02a-4f26-a6ca-1b8ece915da2"
      },
      "execution_count": 10,
      "outputs": [
        {
          "output_type": "stream",
          "name": "stdout",
          "text": [
            "[(1, 1), (13, 1), (14, 5), (18, 1), (19, 1), (26, 1), (29, 2), (32, 1), (33, 1), (34, 2), (35, 1), (42, 1), (52, 1), (54, 1), (55, 1), (61, 1), (64, 11), (71, 2), (72, 3), (79, 1), (80, 1), (84, 1), (86, 1), (87, 1), (91, 4), (99, 1), (106, 1), (107, 1), (118, 8), (121, 3), (124, 1), (127, 10), (135, 1), (141, 1), (148, 1), (155, 1), (157, 1), (165, 1), (169, 1), (179, 3), (183, 2), (184, 1), (186, 1), (190, 2), (194, 1), (198, 5), (207, 1), (215, 1), (216, 3), (218, 2)]\n"
          ]
        }
      ]
    },
    {
      "cell_type": "code",
      "source": [
        "print([(dictionary[idx] , freq) for idx, freq in bow_corpus[1][:50]])"
      ],
      "metadata": {
        "colab": {
          "base_uri": "https://localhost:8080/"
        },
        "id": "HhRlhvyMLL8k",
        "outputId": "5158f45d-f9b3-4b88-d41d-a35f95f5f126"
      },
      "execution_count": 11,
      "outputs": [
        {
          "output_type": "stream",
          "name": "stdout",
          "text": [
            "[('a2', 1), ('adapt', 1), ('adaptive', 5), ('address', 1), ('adjusted', 1), ('allowed', 1), ('american_institute', 2), ('analytical', 1), ('analytically', 1), ('analyze', 2), ('analyzed', 1), ('approximate', 1), ('assume', 1), ('assumption', 1), ('asymptotic', 1), ('becomes', 1), ('behavior', 11), ('bound', 2), ('bounded', 3), ('called', 1), ('cannot', 1), ('cease', 1), ('certain', 1), ('change', 1), ('chosen', 4), ('collection', 1), ('compare', 1), ('complete', 1), ('condition', 8), ('conference', 3), ('considered', 1), ('constant', 10), ('corresponding', 1), ('curve', 1), ('defined', 1), ('depends', 1), ('derived', 1), ('developed', 1), ('difficult', 1), ('due', 3), ('earlier', 2), ('earliest', 1), ('easily', 1), ('eigenvalue', 2), ('energy', 1), ('equation', 5), ('examine', 1), ('expressed', 1), ('factor', 3), ('fig', 2)]\n"
          ]
        }
      ]
    },
    {
      "cell_type": "markdown",
      "source": [
        "LDA Model\n",
        "\n",
        "The Latent Dirichlet Allocation (LDA) technique is a generative probabilistic model in which each document is assumed to have a combination of topics similar to a probabilistic Latent Semantic Indexing model. In this case, the latent topics contain a Dirichlet prior over them."
      ],
      "metadata": {
        "id": "zro8tuPVNSWl"
      }
    },
    {
      "cell_type": "markdown",
      "source": [
        "K - Number of topics\n",
        "N - number of words in the document \n",
        "M - number of docuemnts to analyse\n",
        "Alpha - Dirichlet prior distribution parameter of per document topic distribution\n",
        "Beta - Dirichlet prior of the per-topic word distribution\n",
        "Phi(k) - word distribution for topic k\n",
        "Theta(i) - topic distribution for document i\n",
        "z(i,j) - topic assignment for w(i,j)\n",
        "w(i,j) is the jth work in the ith document\n",
        "\n",
        "Phi and Theta are dirichlet distribution, z ad w are multinomials."
      ],
      "metadata": {
        "id": "ckWc9ykdNWm4"
      }
    },
    {
      "cell_type": "code",
      "source": [
        "%%time\n",
        "TOTAL_TOPICS = 10\n",
        "lda_model = gensim.models.LdaModel(corpus=bow_corpus, id2word=dictionary, chunksize=1740, \n",
        "                                   alpha='auto', eta='auto', random_state=42,\n",
        "                                   iterations=500, num_topics=TOTAL_TOPICS, \n",
        "                                   passes=20, eval_every=None)"
      ],
      "metadata": {
        "colab": {
          "base_uri": "https://localhost:8080/"
        },
        "id": "tRhcH8NbPqZN",
        "outputId": "b8d8e9cc-510e-4668-c4a9-3c61ebd59882"
      },
      "execution_count": 13,
      "outputs": [
        {
          "output_type": "stream",
          "name": "stdout",
          "text": [
            "CPU times: user 1min 56s, sys: 2.33 s, total: 1min 58s\n",
            "Wall time: 1min 57s\n"
          ]
        }
      ]
    },
    {
      "cell_type": "code",
      "source": [
        "for topic_id, topic in lda_model.print_topics(num_topics=10, num_words=20):\n",
        "    print('Topic #'+str(topic_id+1)+':')\n",
        "    print(topic)\n",
        "    print()"
      ],
      "metadata": {
        "colab": {
          "base_uri": "https://localhost:8080/"
        },
        "id": "b6xLZGy9Q5R8",
        "outputId": "254bb93c-ba27-4383-8bcb-98d11ee603de"
      },
      "execution_count": 14,
      "outputs": [
        {
          "output_type": "stream",
          "name": "stdout",
          "text": [
            "Topic #1:\n",
            "0.018*\"neuron\" + 0.010*\"signal\" + 0.009*\"spike\" + 0.008*\"pattern\" + 0.007*\"stimulus\" + 0.006*\"response\" + 0.006*\"noise\" + 0.006*\"frequency\" + 0.006*\"channel\" + 0.005*\"activity\" + 0.005*\"firing\" + 0.005*\"synaptic\" + 0.004*\"cell\" + 0.004*\"effect\" + 0.004*\"rate\" + 0.004*\"memory\" + 0.004*\"neural\" + 0.004*\"temporal\" + 0.004*\"unit\" + 0.004*\"threshold\"\n",
            "\n",
            "Topic #2:\n",
            "0.019*\"cell\" + 0.010*\"image\" + 0.010*\"response\" + 0.010*\"visual\" + 0.009*\"motion\" + 0.008*\"stimulus\" + 0.006*\"filter\" + 0.006*\"direction\" + 0.006*\"receptive_field\" + 0.006*\"spatial\" + 0.006*\"orientation\" + 0.005*\"unit\" + 0.004*\"signal\" + 0.004*\"neuron\" + 0.004*\"location\" + 0.004*\"layer\" + 0.004*\"field\" + 0.004*\"cortical\" + 0.004*\"contrast\" + 0.004*\"region\"\n",
            "\n",
            "Topic #3:\n",
            "0.019*\"image\" + 0.014*\"feature\" + 0.009*\"training\" + 0.008*\"recognition\" + 0.008*\"object\" + 0.007*\"word\" + 0.006*\"classification\" + 0.005*\"pattern\" + 0.005*\"classifier\" + 0.004*\"representation\" + 0.004*\"task\" + 0.004*\"trained\" + 0.004*\"vector\" + 0.004*\"class\" + 0.004*\"face\" + 0.004*\"experiment\" + 0.004*\"pixel\" + 0.004*\"character\" + 0.004*\"level\" + 0.003*\"layer\"\n",
            "\n",
            "Topic #4:\n",
            "0.008*\"distribution\" + 0.006*\"vector\" + 0.005*\"approximation\" + 0.004*\"linear\" + 0.004*\"estimate\" + 0.004*\"sample\" + 0.004*\"variable\" + 0.004*\"training\" + 0.004*\"probability\" + 0.004*\"matrix\" + 0.004*\"class\" + 0.004*\"gaussian\" + 0.004*\"solution\" + 0.003*\"let\" + 0.003*\"equation\" + 0.003*\"bound\" + 0.003*\"theory\" + 0.003*\"density\" + 0.003*\"prior\" + 0.003*\"optimal\"\n",
            "\n",
            "Topic #5:\n",
            "0.030*\"unit\" + 0.011*\"rule\" + 0.010*\"hidden_unit\" + 0.008*\"net\" + 0.008*\"training\" + 0.008*\"pattern\" + 0.008*\"task\" + 0.007*\"representation\" + 0.007*\"activation\" + 0.006*\"structure\" + 0.006*\"sequence\" + 0.004*\"architecture\" + 0.004*\"connectionist\" + 0.004*\"trained\" + 0.004*\"layer\" + 0.004*\"language\" + 0.004*\"learn\" + 0.003*\"connection\" + 0.003*\"state\" + 0.003*\"string\"\n",
            "\n",
            "Topic #6:\n",
            "0.018*\"node\" + 0.014*\"class\" + 0.013*\"training\" + 0.012*\"tree\" + 0.011*\"classifier\" + 0.009*\"probability\" + 0.008*\"expert\" + 0.007*\"classification\" + 0.006*\"prediction\" + 0.005*\"variable\" + 0.005*\"pattern\" + 0.005*\"layer\" + 0.005*\"unit\" + 0.005*\"mixture\" + 0.004*\"training_set\" + 0.004*\"test\" + 0.003*\"architecture\" + 0.003*\"task\" + 0.003*\"level\" + 0.003*\"table\"\n",
            "\n",
            "Topic #7:\n",
            "0.013*\"neuron\" + 0.012*\"circuit\" + 0.010*\"chip\" + 0.007*\"analog\" + 0.006*\"bit\" + 0.006*\"current\" + 0.006*\"voltage\" + 0.006*\"vector\" + 0.005*\"memory\" + 0.005*\"state\" + 0.005*\"threshold\" + 0.005*\"node\" + 0.004*\"computation\" + 0.004*\"size\" + 0.004*\"layer\" + 0.004*\"element\" + 0.004*\"implementation\" + 0.004*\"processor\" + 0.004*\"connection\" + 0.004*\"pattern\"\n",
            "\n",
            "Topic #8:\n",
            "0.017*\"state\" + 0.010*\"training\" + 0.008*\"dynamic\" + 0.008*\"vector\" + 0.007*\"equation\" + 0.006*\"sequence\" + 0.005*\"rate\" + 0.005*\"nonlinear\" + 0.005*\"hmm\" + 0.004*\"signal\" + 0.004*\"recurrent\" + 0.004*\"linear\" + 0.004*\"noise\" + 0.004*\"matrix\" + 0.004*\"step\" + 0.004*\"convergence\" + 0.004*\"gradient\" + 0.004*\"word\" + 0.003*\"trajectory\" + 0.003*\"control\"\n",
            "\n",
            "Topic #9:\n",
            "0.024*\"state\" + 0.012*\"action\" + 0.011*\"control\" + 0.007*\"policy\" + 0.007*\"step\" + 0.006*\"task\" + 0.006*\"reinforcement_learning\" + 0.005*\"optimal\" + 0.005*\"environment\" + 0.005*\"controller\" + 0.005*\"robot\" + 0.004*\"goal\" + 0.004*\"reward\" + 0.003*\"search\" + 0.003*\"path\" + 0.003*\"agent\" + 0.003*\"td\" + 0.003*\"solution\" + 0.003*\"trial\" + 0.003*\"cost\"\n",
            "\n",
            "Topic #10:\n",
            "0.016*\"neuron\" + 0.009*\"activity\" + 0.008*\"cell\" + 0.007*\"map\" + 0.007*\"motor\" + 0.007*\"pattern\" + 0.007*\"connection\" + 0.006*\"control\" + 0.005*\"eye\" + 0.005*\"movement\" + 0.005*\"behavior\" + 0.005*\"dynamic\" + 0.005*\"neural\" + 0.005*\"response\" + 0.005*\"oscillator\" + 0.004*\"simulation\" + 0.004*\"phase\" + 0.004*\"unit\" + 0.004*\"oscillation\" + 0.004*\"et_al\"\n",
            "\n"
          ]
        }
      ]
    },
    {
      "cell_type": "code",
      "source": [
        "topics = [[(term, round(wt, 3)) \n",
        "               for term, wt in lda_model.show_topic(n, topn=20)] \n",
        "                   for n in range(0, lda_model.num_topics)]\n",
        "\n",
        "for idx, topic in enumerate(topics):\n",
        "    print('Topic #'+str(idx+1)+':')\n",
        "    print([term for term, wt in topic])\n",
        "    print()"
      ],
      "metadata": {
        "colab": {
          "base_uri": "https://localhost:8080/"
        },
        "id": "VzTEirpiS_nc",
        "outputId": "f4ff0e33-c368-4ba2-9f44-bcc43002c36c"
      },
      "execution_count": 16,
      "outputs": [
        {
          "output_type": "stream",
          "name": "stdout",
          "text": [
            "Topic #1:\n",
            "['neuron', 'signal', 'spike', 'pattern', 'stimulus', 'response', 'noise', 'frequency', 'channel', 'activity', 'firing', 'synaptic', 'cell', 'effect', 'rate', 'memory', 'neural', 'temporal', 'unit', 'threshold']\n",
            "\n",
            "Topic #2:\n",
            "['cell', 'image', 'response', 'visual', 'motion', 'stimulus', 'filter', 'direction', 'receptive_field', 'spatial', 'orientation', 'unit', 'signal', 'neuron', 'location', 'layer', 'field', 'cortical', 'contrast', 'region']\n",
            "\n",
            "Topic #3:\n",
            "['image', 'feature', 'training', 'recognition', 'object', 'word', 'classification', 'pattern', 'classifier', 'representation', 'task', 'trained', 'vector', 'class', 'face', 'experiment', 'pixel', 'character', 'level', 'layer']\n",
            "\n",
            "Topic #4:\n",
            "['distribution', 'vector', 'approximation', 'linear', 'estimate', 'sample', 'variable', 'training', 'probability', 'matrix', 'class', 'gaussian', 'solution', 'let', 'equation', 'bound', 'theory', 'density', 'prior', 'optimal']\n",
            "\n",
            "Topic #5:\n",
            "['unit', 'rule', 'hidden_unit', 'net', 'training', 'pattern', 'task', 'representation', 'activation', 'structure', 'sequence', 'architecture', 'connectionist', 'trained', 'layer', 'language', 'learn', 'connection', 'state', 'string']\n",
            "\n",
            "Topic #6:\n",
            "['node', 'class', 'training', 'tree', 'classifier', 'probability', 'expert', 'classification', 'prediction', 'variable', 'pattern', 'layer', 'unit', 'mixture', 'training_set', 'test', 'architecture', 'task', 'level', 'table']\n",
            "\n",
            "Topic #7:\n",
            "['neuron', 'circuit', 'chip', 'analog', 'bit', 'current', 'voltage', 'vector', 'memory', 'state', 'threshold', 'node', 'computation', 'size', 'layer', 'element', 'implementation', 'processor', 'connection', 'pattern']\n",
            "\n",
            "Topic #8:\n",
            "['state', 'training', 'dynamic', 'vector', 'equation', 'sequence', 'rate', 'nonlinear', 'hmm', 'signal', 'recurrent', 'linear', 'noise', 'matrix', 'step', 'convergence', 'gradient', 'word', 'trajectory', 'control']\n",
            "\n",
            "Topic #9:\n",
            "['state', 'action', 'control', 'policy', 'step', 'task', 'reinforcement_learning', 'optimal', 'environment', 'controller', 'robot', 'goal', 'reward', 'search', 'path', 'agent', 'td', 'solution', 'trial', 'cost']\n",
            "\n",
            "Topic #10:\n",
            "['neuron', 'activity', 'cell', 'map', 'motor', 'pattern', 'connection', 'control', 'eye', 'movement', 'behavior', 'dynamic', 'neural', 'response', 'oscillator', 'simulation', 'phase', 'unit', 'oscillation', 'et_al']\n",
            "\n"
          ]
        }
      ]
    },
    {
      "cell_type": "code",
      "source": [
        "topics_df = pd.DataFrame([[term for term, wt in topic] \n",
        "                              for topic in topics], \n",
        "                         columns = ['Term'+str(i) for i in range(1, 21)],\n",
        "                         index=['Topic '+str(t) for t in range(1, lda_model.num_topics+1)]).T\n",
        "topics_df"
      ],
      "metadata": {
        "colab": {
          "base_uri": "https://localhost:8080/",
          "height": 740
        },
        "id": "6aYOLi9fTyjs",
        "outputId": "bef1057a-6903-4d44-8400-27ff74a019be"
      },
      "execution_count": 18,
      "outputs": [
        {
          "output_type": "execute_result",
          "data": {
            "text/plain": [
              "          Topic 1          Topic 2         Topic 3        Topic 4  \\\n",
              "Term1      neuron             cell           image   distribution   \n",
              "Term2      signal            image         feature         vector   \n",
              "Term3       spike         response        training  approximation   \n",
              "Term4     pattern           visual     recognition         linear   \n",
              "Term5    stimulus           motion          object       estimate   \n",
              "Term6    response         stimulus            word         sample   \n",
              "Term7       noise           filter  classification       variable   \n",
              "Term8   frequency        direction         pattern       training   \n",
              "Term9     channel  receptive_field      classifier    probability   \n",
              "Term10   activity          spatial  representation         matrix   \n",
              "Term11     firing      orientation            task          class   \n",
              "Term12   synaptic             unit         trained       gaussian   \n",
              "Term13       cell           signal          vector       solution   \n",
              "Term14     effect           neuron           class            let   \n",
              "Term15       rate         location            face       equation   \n",
              "Term16     memory            layer      experiment          bound   \n",
              "Term17     neural            field           pixel         theory   \n",
              "Term18   temporal         cortical       character        density   \n",
              "Term19       unit         contrast           level          prior   \n",
              "Term20  threshold           region           layer        optimal   \n",
              "\n",
              "               Topic 5         Topic 6         Topic 7      Topic 8  \\\n",
              "Term1             unit            node          neuron        state   \n",
              "Term2             rule           class         circuit     training   \n",
              "Term3      hidden_unit        training            chip      dynamic   \n",
              "Term4              net            tree          analog       vector   \n",
              "Term5         training      classifier             bit     equation   \n",
              "Term6          pattern     probability         current     sequence   \n",
              "Term7             task          expert         voltage         rate   \n",
              "Term8   representation  classification          vector    nonlinear   \n",
              "Term9       activation      prediction          memory          hmm   \n",
              "Term10       structure        variable           state       signal   \n",
              "Term11        sequence         pattern       threshold    recurrent   \n",
              "Term12    architecture           layer            node       linear   \n",
              "Term13   connectionist            unit     computation        noise   \n",
              "Term14         trained         mixture            size       matrix   \n",
              "Term15           layer    training_set           layer         step   \n",
              "Term16        language            test         element  convergence   \n",
              "Term17           learn    architecture  implementation     gradient   \n",
              "Term18      connection            task       processor         word   \n",
              "Term19           state           level      connection   trajectory   \n",
              "Term20          string           table         pattern      control   \n",
              "\n",
              "                       Topic 9     Topic 10  \n",
              "Term1                    state       neuron  \n",
              "Term2                   action     activity  \n",
              "Term3                  control         cell  \n",
              "Term4                   policy          map  \n",
              "Term5                     step        motor  \n",
              "Term6                     task      pattern  \n",
              "Term7   reinforcement_learning   connection  \n",
              "Term8                  optimal      control  \n",
              "Term9              environment          eye  \n",
              "Term10              controller     movement  \n",
              "Term11                   robot     behavior  \n",
              "Term12                    goal      dynamic  \n",
              "Term13                  reward       neural  \n",
              "Term14                  search     response  \n",
              "Term15                    path   oscillator  \n",
              "Term16                   agent   simulation  \n",
              "Term17                      td        phase  \n",
              "Term18                solution         unit  \n",
              "Term19                   trial  oscillation  \n",
              "Term20                    cost        et_al  "
            ],
            "text/html": [
              "\n",
              "  <div id=\"df-857feef6-0f90-4493-9df1-69b54e6ff1c1\">\n",
              "    <div class=\"colab-df-container\">\n",
              "      <div>\n",
              "<style scoped>\n",
              "    .dataframe tbody tr th:only-of-type {\n",
              "        vertical-align: middle;\n",
              "    }\n",
              "\n",
              "    .dataframe tbody tr th {\n",
              "        vertical-align: top;\n",
              "    }\n",
              "\n",
              "    .dataframe thead th {\n",
              "        text-align: right;\n",
              "    }\n",
              "</style>\n",
              "<table border=\"1\" class=\"dataframe\">\n",
              "  <thead>\n",
              "    <tr style=\"text-align: right;\">\n",
              "      <th></th>\n",
              "      <th>Topic 1</th>\n",
              "      <th>Topic 2</th>\n",
              "      <th>Topic 3</th>\n",
              "      <th>Topic 4</th>\n",
              "      <th>Topic 5</th>\n",
              "      <th>Topic 6</th>\n",
              "      <th>Topic 7</th>\n",
              "      <th>Topic 8</th>\n",
              "      <th>Topic 9</th>\n",
              "      <th>Topic 10</th>\n",
              "    </tr>\n",
              "  </thead>\n",
              "  <tbody>\n",
              "    <tr>\n",
              "      <th>Term1</th>\n",
              "      <td>neuron</td>\n",
              "      <td>cell</td>\n",
              "      <td>image</td>\n",
              "      <td>distribution</td>\n",
              "      <td>unit</td>\n",
              "      <td>node</td>\n",
              "      <td>neuron</td>\n",
              "      <td>state</td>\n",
              "      <td>state</td>\n",
              "      <td>neuron</td>\n",
              "    </tr>\n",
              "    <tr>\n",
              "      <th>Term2</th>\n",
              "      <td>signal</td>\n",
              "      <td>image</td>\n",
              "      <td>feature</td>\n",
              "      <td>vector</td>\n",
              "      <td>rule</td>\n",
              "      <td>class</td>\n",
              "      <td>circuit</td>\n",
              "      <td>training</td>\n",
              "      <td>action</td>\n",
              "      <td>activity</td>\n",
              "    </tr>\n",
              "    <tr>\n",
              "      <th>Term3</th>\n",
              "      <td>spike</td>\n",
              "      <td>response</td>\n",
              "      <td>training</td>\n",
              "      <td>approximation</td>\n",
              "      <td>hidden_unit</td>\n",
              "      <td>training</td>\n",
              "      <td>chip</td>\n",
              "      <td>dynamic</td>\n",
              "      <td>control</td>\n",
              "      <td>cell</td>\n",
              "    </tr>\n",
              "    <tr>\n",
              "      <th>Term4</th>\n",
              "      <td>pattern</td>\n",
              "      <td>visual</td>\n",
              "      <td>recognition</td>\n",
              "      <td>linear</td>\n",
              "      <td>net</td>\n",
              "      <td>tree</td>\n",
              "      <td>analog</td>\n",
              "      <td>vector</td>\n",
              "      <td>policy</td>\n",
              "      <td>map</td>\n",
              "    </tr>\n",
              "    <tr>\n",
              "      <th>Term5</th>\n",
              "      <td>stimulus</td>\n",
              "      <td>motion</td>\n",
              "      <td>object</td>\n",
              "      <td>estimate</td>\n",
              "      <td>training</td>\n",
              "      <td>classifier</td>\n",
              "      <td>bit</td>\n",
              "      <td>equation</td>\n",
              "      <td>step</td>\n",
              "      <td>motor</td>\n",
              "    </tr>\n",
              "    <tr>\n",
              "      <th>Term6</th>\n",
              "      <td>response</td>\n",
              "      <td>stimulus</td>\n",
              "      <td>word</td>\n",
              "      <td>sample</td>\n",
              "      <td>pattern</td>\n",
              "      <td>probability</td>\n",
              "      <td>current</td>\n",
              "      <td>sequence</td>\n",
              "      <td>task</td>\n",
              "      <td>pattern</td>\n",
              "    </tr>\n",
              "    <tr>\n",
              "      <th>Term7</th>\n",
              "      <td>noise</td>\n",
              "      <td>filter</td>\n",
              "      <td>classification</td>\n",
              "      <td>variable</td>\n",
              "      <td>task</td>\n",
              "      <td>expert</td>\n",
              "      <td>voltage</td>\n",
              "      <td>rate</td>\n",
              "      <td>reinforcement_learning</td>\n",
              "      <td>connection</td>\n",
              "    </tr>\n",
              "    <tr>\n",
              "      <th>Term8</th>\n",
              "      <td>frequency</td>\n",
              "      <td>direction</td>\n",
              "      <td>pattern</td>\n",
              "      <td>training</td>\n",
              "      <td>representation</td>\n",
              "      <td>classification</td>\n",
              "      <td>vector</td>\n",
              "      <td>nonlinear</td>\n",
              "      <td>optimal</td>\n",
              "      <td>control</td>\n",
              "    </tr>\n",
              "    <tr>\n",
              "      <th>Term9</th>\n",
              "      <td>channel</td>\n",
              "      <td>receptive_field</td>\n",
              "      <td>classifier</td>\n",
              "      <td>probability</td>\n",
              "      <td>activation</td>\n",
              "      <td>prediction</td>\n",
              "      <td>memory</td>\n",
              "      <td>hmm</td>\n",
              "      <td>environment</td>\n",
              "      <td>eye</td>\n",
              "    </tr>\n",
              "    <tr>\n",
              "      <th>Term10</th>\n",
              "      <td>activity</td>\n",
              "      <td>spatial</td>\n",
              "      <td>representation</td>\n",
              "      <td>matrix</td>\n",
              "      <td>structure</td>\n",
              "      <td>variable</td>\n",
              "      <td>state</td>\n",
              "      <td>signal</td>\n",
              "      <td>controller</td>\n",
              "      <td>movement</td>\n",
              "    </tr>\n",
              "    <tr>\n",
              "      <th>Term11</th>\n",
              "      <td>firing</td>\n",
              "      <td>orientation</td>\n",
              "      <td>task</td>\n",
              "      <td>class</td>\n",
              "      <td>sequence</td>\n",
              "      <td>pattern</td>\n",
              "      <td>threshold</td>\n",
              "      <td>recurrent</td>\n",
              "      <td>robot</td>\n",
              "      <td>behavior</td>\n",
              "    </tr>\n",
              "    <tr>\n",
              "      <th>Term12</th>\n",
              "      <td>synaptic</td>\n",
              "      <td>unit</td>\n",
              "      <td>trained</td>\n",
              "      <td>gaussian</td>\n",
              "      <td>architecture</td>\n",
              "      <td>layer</td>\n",
              "      <td>node</td>\n",
              "      <td>linear</td>\n",
              "      <td>goal</td>\n",
              "      <td>dynamic</td>\n",
              "    </tr>\n",
              "    <tr>\n",
              "      <th>Term13</th>\n",
              "      <td>cell</td>\n",
              "      <td>signal</td>\n",
              "      <td>vector</td>\n",
              "      <td>solution</td>\n",
              "      <td>connectionist</td>\n",
              "      <td>unit</td>\n",
              "      <td>computation</td>\n",
              "      <td>noise</td>\n",
              "      <td>reward</td>\n",
              "      <td>neural</td>\n",
              "    </tr>\n",
              "    <tr>\n",
              "      <th>Term14</th>\n",
              "      <td>effect</td>\n",
              "      <td>neuron</td>\n",
              "      <td>class</td>\n",
              "      <td>let</td>\n",
              "      <td>trained</td>\n",
              "      <td>mixture</td>\n",
              "      <td>size</td>\n",
              "      <td>matrix</td>\n",
              "      <td>search</td>\n",
              "      <td>response</td>\n",
              "    </tr>\n",
              "    <tr>\n",
              "      <th>Term15</th>\n",
              "      <td>rate</td>\n",
              "      <td>location</td>\n",
              "      <td>face</td>\n",
              "      <td>equation</td>\n",
              "      <td>layer</td>\n",
              "      <td>training_set</td>\n",
              "      <td>layer</td>\n",
              "      <td>step</td>\n",
              "      <td>path</td>\n",
              "      <td>oscillator</td>\n",
              "    </tr>\n",
              "    <tr>\n",
              "      <th>Term16</th>\n",
              "      <td>memory</td>\n",
              "      <td>layer</td>\n",
              "      <td>experiment</td>\n",
              "      <td>bound</td>\n",
              "      <td>language</td>\n",
              "      <td>test</td>\n",
              "      <td>element</td>\n",
              "      <td>convergence</td>\n",
              "      <td>agent</td>\n",
              "      <td>simulation</td>\n",
              "    </tr>\n",
              "    <tr>\n",
              "      <th>Term17</th>\n",
              "      <td>neural</td>\n",
              "      <td>field</td>\n",
              "      <td>pixel</td>\n",
              "      <td>theory</td>\n",
              "      <td>learn</td>\n",
              "      <td>architecture</td>\n",
              "      <td>implementation</td>\n",
              "      <td>gradient</td>\n",
              "      <td>td</td>\n",
              "      <td>phase</td>\n",
              "    </tr>\n",
              "    <tr>\n",
              "      <th>Term18</th>\n",
              "      <td>temporal</td>\n",
              "      <td>cortical</td>\n",
              "      <td>character</td>\n",
              "      <td>density</td>\n",
              "      <td>connection</td>\n",
              "      <td>task</td>\n",
              "      <td>processor</td>\n",
              "      <td>word</td>\n",
              "      <td>solution</td>\n",
              "      <td>unit</td>\n",
              "    </tr>\n",
              "    <tr>\n",
              "      <th>Term19</th>\n",
              "      <td>unit</td>\n",
              "      <td>contrast</td>\n",
              "      <td>level</td>\n",
              "      <td>prior</td>\n",
              "      <td>state</td>\n",
              "      <td>level</td>\n",
              "      <td>connection</td>\n",
              "      <td>trajectory</td>\n",
              "      <td>trial</td>\n",
              "      <td>oscillation</td>\n",
              "    </tr>\n",
              "    <tr>\n",
              "      <th>Term20</th>\n",
              "      <td>threshold</td>\n",
              "      <td>region</td>\n",
              "      <td>layer</td>\n",
              "      <td>optimal</td>\n",
              "      <td>string</td>\n",
              "      <td>table</td>\n",
              "      <td>pattern</td>\n",
              "      <td>control</td>\n",
              "      <td>cost</td>\n",
              "      <td>et_al</td>\n",
              "    </tr>\n",
              "  </tbody>\n",
              "</table>\n",
              "</div>\n",
              "      <button class=\"colab-df-convert\" onclick=\"convertToInteractive('df-857feef6-0f90-4493-9df1-69b54e6ff1c1')\"\n",
              "              title=\"Convert this dataframe to an interactive table.\"\n",
              "              style=\"display:none;\">\n",
              "        \n",
              "  <svg xmlns=\"http://www.w3.org/2000/svg\" height=\"24px\"viewBox=\"0 0 24 24\"\n",
              "       width=\"24px\">\n",
              "    <path d=\"M0 0h24v24H0V0z\" fill=\"none\"/>\n",
              "    <path d=\"M18.56 5.44l.94 2.06.94-2.06 2.06-.94-2.06-.94-.94-2.06-.94 2.06-2.06.94zm-11 1L8.5 8.5l.94-2.06 2.06-.94-2.06-.94L8.5 2.5l-.94 2.06-2.06.94zm10 10l.94 2.06.94-2.06 2.06-.94-2.06-.94-.94-2.06-.94 2.06-2.06.94z\"/><path d=\"M17.41 7.96l-1.37-1.37c-.4-.4-.92-.59-1.43-.59-.52 0-1.04.2-1.43.59L10.3 9.45l-7.72 7.72c-.78.78-.78 2.05 0 2.83L4 21.41c.39.39.9.59 1.41.59.51 0 1.02-.2 1.41-.59l7.78-7.78 2.81-2.81c.8-.78.8-2.07 0-2.86zM5.41 20L4 18.59l7.72-7.72 1.47 1.35L5.41 20z\"/>\n",
              "  </svg>\n",
              "      </button>\n",
              "      \n",
              "  <style>\n",
              "    .colab-df-container {\n",
              "      display:flex;\n",
              "      flex-wrap:wrap;\n",
              "      gap: 12px;\n",
              "    }\n",
              "\n",
              "    .colab-df-convert {\n",
              "      background-color: #E8F0FE;\n",
              "      border: none;\n",
              "      border-radius: 50%;\n",
              "      cursor: pointer;\n",
              "      display: none;\n",
              "      fill: #1967D2;\n",
              "      height: 32px;\n",
              "      padding: 0 0 0 0;\n",
              "      width: 32px;\n",
              "    }\n",
              "\n",
              "    .colab-df-convert:hover {\n",
              "      background-color: #E2EBFA;\n",
              "      box-shadow: 0px 1px 2px rgba(60, 64, 67, 0.3), 0px 1px 3px 1px rgba(60, 64, 67, 0.15);\n",
              "      fill: #174EA6;\n",
              "    }\n",
              "\n",
              "    [theme=dark] .colab-df-convert {\n",
              "      background-color: #3B4455;\n",
              "      fill: #D2E3FC;\n",
              "    }\n",
              "\n",
              "    [theme=dark] .colab-df-convert:hover {\n",
              "      background-color: #434B5C;\n",
              "      box-shadow: 0px 1px 3px 1px rgba(0, 0, 0, 0.15);\n",
              "      filter: drop-shadow(0px 1px 2px rgba(0, 0, 0, 0.3));\n",
              "      fill: #FFFFFF;\n",
              "    }\n",
              "  </style>\n",
              "\n",
              "      <script>\n",
              "        const buttonEl =\n",
              "          document.querySelector('#df-857feef6-0f90-4493-9df1-69b54e6ff1c1 button.colab-df-convert');\n",
              "        buttonEl.style.display =\n",
              "          google.colab.kernel.accessAllowed ? 'block' : 'none';\n",
              "\n",
              "        async function convertToInteractive(key) {\n",
              "          const element = document.querySelector('#df-857feef6-0f90-4493-9df1-69b54e6ff1c1');\n",
              "          const dataTable =\n",
              "            await google.colab.kernel.invokeFunction('convertToInteractive',\n",
              "                                                     [key], {});\n",
              "          if (!dataTable) return;\n",
              "\n",
              "          const docLinkHtml = 'Like what you see? Visit the ' +\n",
              "            '<a target=\"_blank\" href=https://colab.research.google.com/notebooks/data_table.ipynb>data table notebook</a>'\n",
              "            + ' to learn more about interactive tables.';\n",
              "          element.innerHTML = '';\n",
              "          dataTable['output_type'] = 'display_data';\n",
              "          await google.colab.output.renderOutput(dataTable, element);\n",
              "          const docLink = document.createElement('div');\n",
              "          docLink.innerHTML = docLinkHtml;\n",
              "          element.appendChild(docLink);\n",
              "        }\n",
              "      </script>\n",
              "    </div>\n",
              "  </div>\n",
              "  "
            ]
          },
          "metadata": {},
          "execution_count": 18
        }
      ]
    },
    {
      "cell_type": "code",
      "source": [
        "pd.set_option('display.max_colwidth', -1)\n",
        "topics_df = pd.DataFrame([', '.join([term for term, wt in topic])  \n",
        "                              for topic in topics],\n",
        "                         columns = ['Terms per Topic'],\n",
        "                         index=['Topic'+str(t) for t in range(1, lda_model.num_topics+1)]\n",
        "                         )\n",
        "topics_df"
      ],
      "metadata": {
        "colab": {
          "base_uri": "https://localhost:8080/",
          "height": 635
        },
        "id": "1Dcv4cj9T6rM",
        "outputId": "8a9f946d-1bc2-428d-e314-e028a3d9a2c7"
      },
      "execution_count": 20,
      "outputs": [
        {
          "output_type": "stream",
          "name": "stderr",
          "text": [
            "<ipython-input-20-8fa5e6084872>:1: FutureWarning: Passing a negative integer is deprecated in version 1.0 and will not be supported in future version. Instead, use None to not limit the column width.\n",
            "  pd.set_option('display.max_colwidth', -1)\n"
          ]
        },
        {
          "output_type": "execute_result",
          "data": {
            "text/plain": [
              "                                                                                                                                                                                         Terms per Topic\n",
              "Topic1   neuron, signal, spike, pattern, stimulus, response, noise, frequency, channel, activity, firing, synaptic, cell, effect, rate, memory, neural, temporal, unit, threshold                       \n",
              "Topic2   cell, image, response, visual, motion, stimulus, filter, direction, receptive_field, spatial, orientation, unit, signal, neuron, location, layer, field, cortical, contrast, region            \n",
              "Topic3   image, feature, training, recognition, object, word, classification, pattern, classifier, representation, task, trained, vector, class, face, experiment, pixel, character, level, layer       \n",
              "Topic4   distribution, vector, approximation, linear, estimate, sample, variable, training, probability, matrix, class, gaussian, solution, let, equation, bound, theory, density, prior, optimal       \n",
              "Topic5   unit, rule, hidden_unit, net, training, pattern, task, representation, activation, structure, sequence, architecture, connectionist, trained, layer, language, learn, connection, state, string\n",
              "Topic6   node, class, training, tree, classifier, probability, expert, classification, prediction, variable, pattern, layer, unit, mixture, training_set, test, architecture, task, level, table        \n",
              "Topic7   neuron, circuit, chip, analog, bit, current, voltage, vector, memory, state, threshold, node, computation, size, layer, element, implementation, processor, connection, pattern                \n",
              "Topic8   state, training, dynamic, vector, equation, sequence, rate, nonlinear, hmm, signal, recurrent, linear, noise, matrix, step, convergence, gradient, word, trajectory, control                   \n",
              "Topic9   state, action, control, policy, step, task, reinforcement_learning, optimal, environment, controller, robot, goal, reward, search, path, agent, td, solution, trial, cost                      \n",
              "Topic10  neuron, activity, cell, map, motor, pattern, connection, control, eye, movement, behavior, dynamic, neural, response, oscillator, simulation, phase, unit, oscillation, et_al                  "
            ],
            "text/html": [
              "\n",
              "  <div id=\"df-9aeaf9cd-8eec-46e1-9a0f-da16fbf46e31\">\n",
              "    <div class=\"colab-df-container\">\n",
              "      <div>\n",
              "<style scoped>\n",
              "    .dataframe tbody tr th:only-of-type {\n",
              "        vertical-align: middle;\n",
              "    }\n",
              "\n",
              "    .dataframe tbody tr th {\n",
              "        vertical-align: top;\n",
              "    }\n",
              "\n",
              "    .dataframe thead th {\n",
              "        text-align: right;\n",
              "    }\n",
              "</style>\n",
              "<table border=\"1\" class=\"dataframe\">\n",
              "  <thead>\n",
              "    <tr style=\"text-align: right;\">\n",
              "      <th></th>\n",
              "      <th>Terms per Topic</th>\n",
              "    </tr>\n",
              "  </thead>\n",
              "  <tbody>\n",
              "    <tr>\n",
              "      <th>Topic1</th>\n",
              "      <td>neuron, signal, spike, pattern, stimulus, response, noise, frequency, channel, activity, firing, synaptic, cell, effect, rate, memory, neural, temporal, unit, threshold</td>\n",
              "    </tr>\n",
              "    <tr>\n",
              "      <th>Topic2</th>\n",
              "      <td>cell, image, response, visual, motion, stimulus, filter, direction, receptive_field, spatial, orientation, unit, signal, neuron, location, layer, field, cortical, contrast, region</td>\n",
              "    </tr>\n",
              "    <tr>\n",
              "      <th>Topic3</th>\n",
              "      <td>image, feature, training, recognition, object, word, classification, pattern, classifier, representation, task, trained, vector, class, face, experiment, pixel, character, level, layer</td>\n",
              "    </tr>\n",
              "    <tr>\n",
              "      <th>Topic4</th>\n",
              "      <td>distribution, vector, approximation, linear, estimate, sample, variable, training, probability, matrix, class, gaussian, solution, let, equation, bound, theory, density, prior, optimal</td>\n",
              "    </tr>\n",
              "    <tr>\n",
              "      <th>Topic5</th>\n",
              "      <td>unit, rule, hidden_unit, net, training, pattern, task, representation, activation, structure, sequence, architecture, connectionist, trained, layer, language, learn, connection, state, string</td>\n",
              "    </tr>\n",
              "    <tr>\n",
              "      <th>Topic6</th>\n",
              "      <td>node, class, training, tree, classifier, probability, expert, classification, prediction, variable, pattern, layer, unit, mixture, training_set, test, architecture, task, level, table</td>\n",
              "    </tr>\n",
              "    <tr>\n",
              "      <th>Topic7</th>\n",
              "      <td>neuron, circuit, chip, analog, bit, current, voltage, vector, memory, state, threshold, node, computation, size, layer, element, implementation, processor, connection, pattern</td>\n",
              "    </tr>\n",
              "    <tr>\n",
              "      <th>Topic8</th>\n",
              "      <td>state, training, dynamic, vector, equation, sequence, rate, nonlinear, hmm, signal, recurrent, linear, noise, matrix, step, convergence, gradient, word, trajectory, control</td>\n",
              "    </tr>\n",
              "    <tr>\n",
              "      <th>Topic9</th>\n",
              "      <td>state, action, control, policy, step, task, reinforcement_learning, optimal, environment, controller, robot, goal, reward, search, path, agent, td, solution, trial, cost</td>\n",
              "    </tr>\n",
              "    <tr>\n",
              "      <th>Topic10</th>\n",
              "      <td>neuron, activity, cell, map, motor, pattern, connection, control, eye, movement, behavior, dynamic, neural, response, oscillator, simulation, phase, unit, oscillation, et_al</td>\n",
              "    </tr>\n",
              "  </tbody>\n",
              "</table>\n",
              "</div>\n",
              "      <button class=\"colab-df-convert\" onclick=\"convertToInteractive('df-9aeaf9cd-8eec-46e1-9a0f-da16fbf46e31')\"\n",
              "              title=\"Convert this dataframe to an interactive table.\"\n",
              "              style=\"display:none;\">\n",
              "        \n",
              "  <svg xmlns=\"http://www.w3.org/2000/svg\" height=\"24px\"viewBox=\"0 0 24 24\"\n",
              "       width=\"24px\">\n",
              "    <path d=\"M0 0h24v24H0V0z\" fill=\"none\"/>\n",
              "    <path d=\"M18.56 5.44l.94 2.06.94-2.06 2.06-.94-2.06-.94-.94-2.06-.94 2.06-2.06.94zm-11 1L8.5 8.5l.94-2.06 2.06-.94-2.06-.94L8.5 2.5l-.94 2.06-2.06.94zm10 10l.94 2.06.94-2.06 2.06-.94-2.06-.94-.94-2.06-.94 2.06-2.06.94z\"/><path d=\"M17.41 7.96l-1.37-1.37c-.4-.4-.92-.59-1.43-.59-.52 0-1.04.2-1.43.59L10.3 9.45l-7.72 7.72c-.78.78-.78 2.05 0 2.83L4 21.41c.39.39.9.59 1.41.59.51 0 1.02-.2 1.41-.59l7.78-7.78 2.81-2.81c.8-.78.8-2.07 0-2.86zM5.41 20L4 18.59l7.72-7.72 1.47 1.35L5.41 20z\"/>\n",
              "  </svg>\n",
              "      </button>\n",
              "      \n",
              "  <style>\n",
              "    .colab-df-container {\n",
              "      display:flex;\n",
              "      flex-wrap:wrap;\n",
              "      gap: 12px;\n",
              "    }\n",
              "\n",
              "    .colab-df-convert {\n",
              "      background-color: #E8F0FE;\n",
              "      border: none;\n",
              "      border-radius: 50%;\n",
              "      cursor: pointer;\n",
              "      display: none;\n",
              "      fill: #1967D2;\n",
              "      height: 32px;\n",
              "      padding: 0 0 0 0;\n",
              "      width: 32px;\n",
              "    }\n",
              "\n",
              "    .colab-df-convert:hover {\n",
              "      background-color: #E2EBFA;\n",
              "      box-shadow: 0px 1px 2px rgba(60, 64, 67, 0.3), 0px 1px 3px 1px rgba(60, 64, 67, 0.15);\n",
              "      fill: #174EA6;\n",
              "    }\n",
              "\n",
              "    [theme=dark] .colab-df-convert {\n",
              "      background-color: #3B4455;\n",
              "      fill: #D2E3FC;\n",
              "    }\n",
              "\n",
              "    [theme=dark] .colab-df-convert:hover {\n",
              "      background-color: #434B5C;\n",
              "      box-shadow: 0px 1px 3px 1px rgba(0, 0, 0, 0.15);\n",
              "      filter: drop-shadow(0px 1px 2px rgba(0, 0, 0, 0.3));\n",
              "      fill: #FFFFFF;\n",
              "    }\n",
              "  </style>\n",
              "\n",
              "      <script>\n",
              "        const buttonEl =\n",
              "          document.querySelector('#df-9aeaf9cd-8eec-46e1-9a0f-da16fbf46e31 button.colab-df-convert');\n",
              "        buttonEl.style.display =\n",
              "          google.colab.kernel.accessAllowed ? 'block' : 'none';\n",
              "\n",
              "        async function convertToInteractive(key) {\n",
              "          const element = document.querySelector('#df-9aeaf9cd-8eec-46e1-9a0f-da16fbf46e31');\n",
              "          const dataTable =\n",
              "            await google.colab.kernel.invokeFunction('convertToInteractive',\n",
              "                                                     [key], {});\n",
              "          if (!dataTable) return;\n",
              "\n",
              "          const docLinkHtml = 'Like what you see? Visit the ' +\n",
              "            '<a target=\"_blank\" href=https://colab.research.google.com/notebooks/data_table.ipynb>data table notebook</a>'\n",
              "            + ' to learn more about interactive tables.';\n",
              "          element.innerHTML = '';\n",
              "          dataTable['output_type'] = 'display_data';\n",
              "          await google.colab.output.renderOutput(dataTable, element);\n",
              "          const docLink = document.createElement('div');\n",
              "          docLink.innerHTML = docLinkHtml;\n",
              "          element.appendChild(docLink);\n",
              "        }\n",
              "      </script>\n",
              "    </div>\n",
              "  </div>\n",
              "  "
            ]
          },
          "metadata": {},
          "execution_count": 20
        }
      ]
    },
    {
      "cell_type": "code",
      "source": [],
      "metadata": {
        "id": "Nlw3P3ADT_Mj"
      },
      "execution_count": null,
      "outputs": []
    }
  ]
}